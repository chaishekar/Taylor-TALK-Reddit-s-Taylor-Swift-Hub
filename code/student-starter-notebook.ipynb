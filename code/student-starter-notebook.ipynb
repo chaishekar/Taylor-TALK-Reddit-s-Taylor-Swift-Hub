{
  "cells": [
    {
      "cell_type": "markdown",
      "source": [
        "In interactive notebook, the `spark` object is already created.\n",
        "Instructors tested with 1 driver, 6 executors of small e4 (24 cores, 192GB memory)"
      ],
      "metadata": {
        "nteract": {
          "transient": {
            "deleting": false
          }
        }
      }
    },
    {
      "cell_type": "markdown",
      "source": [
        "### Launch spark environment"
      ],
      "metadata": {
        "nteract": {
          "transient": {
            "deleting": false
          }
        }
      }
    },
    {
      "cell_type": "code",
      "source": [
        "spark"
      ],
      "outputs": [
        {
          "output_type": "display_data",
          "data": {
            "application/vnd.livy.statement-meta+json": {
              "spark_pool": "cf47b043-0c98-4514-b15a-1e3237e3aed3",
              "session_id": "23",
              "statement_id": 6,
              "state": "finished",
              "livy_statement_state": "available",
              "queued_time": "2023-10-17T21:55:56.4345387Z",
              "session_start_time": "2023-10-17T21:55:56.4359704Z",
              "execution_start_time": "2023-10-17T21:59:19.9300219Z",
              "execution_finish_time": "2023-10-17T21:59:22.6746806Z",
              "spark_jobs": {
                "numbers": {
                  "RUNNING": 0,
                  "UNKNOWN": 0,
                  "SUCCEEDED": 0,
                  "FAILED": 0
                },
                "jobs": [],
                "limit": 20,
                "rule": "ALL_DESC"
              },
              "parent_msg_id": "3d83bc1c-4b8c-40cd-aa3e-867210d72aff"
            },
            "text/plain": "StatementMeta(cf47b043-0c98-4514-b15a-1e3237e3aed3, 23, 6, Finished, Available)"
          },
          "metadata": {}
        },
        {
          "output_type": "execute_result",
          "execution_count": 11,
          "data": {
            "text/plain": "<pyspark.sql.session.SparkSession at 0x7f3561eb2970>",
            "text/html": "\n            <div>\n                <p><b>SparkSession - hive</b></p>\n                \n        <div>\n            <p><b>SparkContext</b></p>\n\n            <p><a href=\"http://vm-d3537386:43277\">Spark UI</a></p>\n\n            <dl>\n              <dt>Version</dt>\n                <dd><code>v3.2.2.5.1-100879434</code></dd>\n              <dt>Master</dt>\n                <dd><code>yarn</code></dd>\n              <dt>AppName</dt>\n                <dd><code>Azure ML Experiment</code></dd>\n            </dl>\n        </div>\n        \n            </div>\n        "
          },
          "metadata": {}
        }
      ],
      "execution_count": 1,
      "metadata": {
        "jupyter": {
          "source_hidden": false,
          "outputs_hidden": false
        },
        "nteract": {
          "transient": {
            "deleting": false
          }
        },
        "gather": {
          "logged": 1697579962464
        }
      }
    },
    {
      "cell_type": "markdown",
      "source": [
        "### Set up data configuration"
      ],
      "metadata": {
        "nteract": {
          "transient": {
            "deleting": false
          }
        }
      }
    },
    {
      "cell_type": "code",
      "source": [
        "blob_account_name = \"marckvnonprodblob\"\n",
        "blob_container_name = \"bigdata\"\n",
        "# read only\n",
        "blob_sas_token = \"?sv=2021-10-04&st=2023-10-04T01%3A42%3A59Z&se=2024-01-02T02%3A42%3A00Z&sr=c&sp=rlf&sig=w3CH9MbCOpwO7DtHlrahc7AlRPxSZZb8MOgS6TaXLzI%3D\"\n",
        "\n",
        "wasbs_base_url = (\n",
        "    f\"wasbs://{blob_container_name}@{blob_account_name}.blob.core.windows.net/\"\n",
        ")\n",
        "spark.conf.set(\n",
        "    f\"fs.azure.sas.{blob_container_name}.{blob_account_name}.blob.core.windows.net\",\n",
        "    blob_sas_token,\n",
        ")"
      ],
      "outputs": [
        {
          "output_type": "display_data",
          "data": {
            "application/vnd.livy.statement-meta+json": {
              "spark_pool": "cf47b043-0c98-4514-b15a-1e3237e3aed3",
              "session_id": "23",
              "statement_id": 7,
              "state": "finished",
              "livy_statement_state": "available",
              "queued_time": "2023-10-17T21:59:47.5981754Z",
              "session_start_time": null,
              "execution_start_time": "2023-10-17T21:59:47.673827Z",
              "execution_finish_time": "2023-10-17T21:59:48.0126739Z",
              "spark_jobs": {
                "numbers": {
                  "RUNNING": 0,
                  "UNKNOWN": 0,
                  "SUCCEEDED": 0,
                  "FAILED": 0
                },
                "jobs": [],
                "limit": 20,
                "rule": "ALL_DESC"
              },
              "parent_msg_id": "030f3b27-02bc-477c-9961-6aa8bbde0a74"
            },
            "text/plain": "StatementMeta(cf47b043-0c98-4514-b15a-1e3237e3aed3, 23, 7, Finished, Available)"
          },
          "metadata": {}
        }
      ],
      "execution_count": 2,
      "metadata": {
        "jupyter": {
          "source_hidden": false,
          "outputs_hidden": false
        },
        "nteract": {
          "transient": {
            "deleting": false
          }
        },
        "gather": {
          "logged": 1697579987674
        }
      }
    },
    {
      "cell_type": "markdown",
      "source": [
        "#### Reading in single parquet file"
      ],
      "metadata": {
        "nteract": {
          "transient": {
            "deleting": false
          }
        }
      }
    },
    {
      "cell_type": "code",
      "source": [
        "comments_path = \"reddit-parquet/comments/\"\n",
        "submissions_path = \"reddit-parquet/submissions/\""
      ],
      "outputs": [
        {
          "output_type": "display_data",
          "data": {
            "application/vnd.livy.statement-meta+json": {
              "spark_pool": "cf47b043-0c98-4514-b15a-1e3237e3aed3",
              "session_id": "23",
              "statement_id": 10,
              "state": "finished",
              "livy_statement_state": "available",
              "queued_time": "2023-10-17T22:05:01.0808559Z",
              "session_start_time": null,
              "execution_start_time": "2023-10-17T22:05:01.1639745Z",
              "execution_finish_time": "2023-10-17T22:05:01.5324569Z",
              "spark_jobs": {
                "numbers": {
                  "RUNNING": 0,
                  "UNKNOWN": 0,
                  "SUCCEEDED": 0,
                  "FAILED": 0
                },
                "jobs": [],
                "limit": 20,
                "rule": "ALL_DESC"
              },
              "parent_msg_id": "71ca4165-1f59-4f56-b353-6e3224debb7c"
            },
            "text/plain": "StatementMeta(cf47b043-0c98-4514-b15a-1e3237e3aed3, 23, 10, Finished, Available)"
          },
          "metadata": {}
        }
      ],
      "execution_count": 5,
      "metadata": {
        "jupyter": {
          "source_hidden": false,
          "outputs_hidden": false
        },
        "nteract": {
          "transient": {
            "deleting": false
          }
        },
        "gather": {
          "logged": 1697580301194
        }
      }
    },
    {
      "cell_type": "code",
      "source": [
        "# Test on a single file only (random file)\n",
        "comments_single = \"year=2022/month=4/part-33862-938a0446-0942-498f-9083-5319922f1d77.c000.zstd.parquet\"\n",
        "submissions_single = \"year=2021/month=7/part-05804-7ec124ef-9f52-4612-a64d-ecd7a1ca868b.c000.zstd.parquet\""
      ],
      "outputs": [
        {
          "output_type": "display_data",
          "data": {
            "application/vnd.livy.statement-meta+json": {
              "spark_pool": "cf47b043-0c98-4514-b15a-1e3237e3aed3",
              "session_id": "23",
              "statement_id": 11,
              "state": "finished",
              "livy_statement_state": "available",
              "queued_time": "2023-10-17T22:05:01.6010818Z",
              "session_start_time": null,
              "execution_start_time": "2023-10-17T22:05:01.6772442Z",
              "execution_finish_time": "2023-10-17T22:05:02.0464052Z",
              "spark_jobs": {
                "numbers": {
                  "RUNNING": 0,
                  "UNKNOWN": 0,
                  "SUCCEEDED": 0,
                  "FAILED": 0
                },
                "jobs": [],
                "limit": 20,
                "rule": "ALL_DESC"
              },
              "parent_msg_id": "56b9656e-7780-49c0-979c-6b90374c189d"
            },
            "text/plain": "StatementMeta(cf47b043-0c98-4514-b15a-1e3237e3aed3, 23, 11, Finished, Available)"
          },
          "metadata": {}
        }
      ],
      "execution_count": 6,
      "metadata": {
        "jupyter": {
          "source_hidden": false,
          "outputs_hidden": false
        },
        "nteract": {
          "transient": {
            "deleting": false
          }
        },
        "gather": {
          "logged": 1697580301634
        }
      }
    },
    {
      "cell_type": "code",
      "source": [
        "comments_single_df = spark.read.parquet(f\"{wasbs_base_url}{comments_path}{comments_single}\")\n",
        "submissions_single_df = spark.read.parquet(f\"{wasbs_base_url}{submissions_path}{submissions_single}\")"
      ],
      "outputs": [
        {
          "output_type": "display_data",
          "data": {
            "application/vnd.livy.statement-meta+json": {
              "spark_pool": "cf47b043-0c98-4514-b15a-1e3237e3aed3",
              "session_id": "23",
              "statement_id": 12,
              "state": "finished",
              "livy_statement_state": "available",
              "queued_time": "2023-10-17T22:05:02.4903568Z",
              "session_start_time": null,
              "execution_start_time": "2023-10-17T22:05:02.5746016Z",
              "execution_finish_time": "2023-10-17T22:05:19.9338425Z",
              "spark_jobs": {
                "numbers": {
                  "RUNNING": 0,
                  "UNKNOWN": 0,
                  "SUCCEEDED": 2,
                  "FAILED": 0
                },
                "jobs": [
                  {
                    "displayName": "parquet at NativeMethodAccessorImpl.java:0",
                    "dataWritten": 0,
                    "dataRead": 0,
                    "rowCount": 0,
                    "usageDescription": "",
                    "jobId": 1,
                    "name": "parquet at NativeMethodAccessorImpl.java:0",
                    "description": "Job group for statement 12:\ncomments_single_df = spark.read.parquet(f\"{wasbs_base_url}{comments_path}{comments_single}\")\nsubmissions_single_df = spark.read.parquet(f\"{wasbs_base_url}{submissions_path}{submissions_single}\")",
                    "submissionTime": "2023-10-17T22:05:13.244GMT",
                    "completionTime": "2023-10-17T22:05:17.443GMT",
                    "stageIds": [
                      1
                    ],
                    "jobGroup": "12",
                    "status": "SUCCEEDED",
                    "numTasks": 1,
                    "numActiveTasks": 0,
                    "numCompletedTasks": 1,
                    "numSkippedTasks": 0,
                    "numFailedTasks": 0,
                    "numKilledTasks": 0,
                    "numCompletedIndices": 1,
                    "numActiveStages": 0,
                    "numCompletedStages": 1,
                    "numSkippedStages": 0,
                    "numFailedStages": 0,
                    "killedTasksSummary": {}
                  },
                  {
                    "displayName": "parquet at NativeMethodAccessorImpl.java:0",
                    "dataWritten": 0,
                    "dataRead": 0,
                    "rowCount": 0,
                    "usageDescription": "",
                    "jobId": 0,
                    "name": "parquet at NativeMethodAccessorImpl.java:0",
                    "description": "Job group for statement 12:\ncomments_single_df = spark.read.parquet(f\"{wasbs_base_url}{comments_path}{comments_single}\")\nsubmissions_single_df = spark.read.parquet(f\"{wasbs_base_url}{submissions_path}{submissions_single}\")",
                    "submissionTime": "2023-10-17T22:05:03.199GMT",
                    "completionTime": "2023-10-17T22:05:10.752GMT",
                    "stageIds": [
                      0
                    ],
                    "jobGroup": "12",
                    "status": "SUCCEEDED",
                    "numTasks": 1,
                    "numActiveTasks": 0,
                    "numCompletedTasks": 1,
                    "numSkippedTasks": 0,
                    "numFailedTasks": 0,
                    "numKilledTasks": 0,
                    "numCompletedIndices": 1,
                    "numActiveStages": 0,
                    "numCompletedStages": 1,
                    "numSkippedStages": 0,
                    "numFailedStages": 0,
                    "killedTasksSummary": {}
                  }
                ],
                "limit": 20,
                "rule": "ALL_DESC"
              },
              "parent_msg_id": "fcc14a78-0801-4c21-aecc-e3187d739f16"
            },
            "text/plain": "StatementMeta(cf47b043-0c98-4514-b15a-1e3237e3aed3, 23, 12, Finished, Available)"
          },
          "metadata": {}
        }
      ],
      "execution_count": 7,
      "metadata": {
        "jupyter": {
          "source_hidden": false,
          "outputs_hidden": false
        },
        "nteract": {
          "transient": {
            "deleting": false
          }
        },
        "gather": {
          "logged": 1697580319639
        }
      }
    },
    {
      "cell_type": "markdown",
      "source": [
        "#### Initial exploration\n",
        "\n",
        "- Schema\n",
        "- Row count"
      ],
      "metadata": {
        "nteract": {
          "transient": {
            "deleting": false
          }
        }
      }
    },
    {
      "cell_type": "code",
      "source": [
        "comments_single_df.printSchema()"
      ],
      "outputs": [
        {
          "output_type": "display_data",
          "data": {
            "application/vnd.livy.statement-meta+json": {
              "spark_pool": "cf47b043-0c98-4514-b15a-1e3237e3aed3",
              "session_id": "22",
              "statement_id": 11,
              "state": "finished",
              "livy_statement_state": "available",
              "queued_time": "2023-10-17T03:11:21.726282Z",
              "session_start_time": null,
              "execution_start_time": "2023-10-17T03:11:39.7116753Z",
              "execution_finish_time": "2023-10-17T03:11:40.0662386Z",
              "spark_jobs": {
                "numbers": {
                  "FAILED": 0,
                  "SUCCEEDED": 0,
                  "UNKNOWN": 0,
                  "RUNNING": 0
                },
                "jobs": [],
                "limit": 20,
                "rule": "ALL_DESC"
              },
              "parent_msg_id": "88ef1447-aaa1-4149-aa1b-a1e498425b93"
            },
            "text/plain": "StatementMeta(cf47b043-0c98-4514-b15a-1e3237e3aed3, 22, 11, Finished, Available)"
          },
          "metadata": {}
        },
        {
          "output_type": "stream",
          "name": "stdout",
          "text": "root\n |-- author: string (nullable = true)\n |-- author_cakeday: boolean (nullable = true)\n |-- author_flair_css_class: string (nullable = true)\n |-- author_flair_text: string (nullable = true)\n |-- body: string (nullable = true)\n |-- can_gild: boolean (nullable = true)\n |-- controversiality: long (nullable = true)\n |-- created_utc: timestamp (nullable = true)\n |-- distinguished: string (nullable = true)\n |-- edited: string (nullable = true)\n |-- gilded: long (nullable = true)\n |-- id: string (nullable = true)\n |-- is_submitter: boolean (nullable = true)\n |-- link_id: string (nullable = true)\n |-- parent_id: string (nullable = true)\n |-- permalink: string (nullable = true)\n |-- retrieved_on: timestamp (nullable = true)\n |-- score: long (nullable = true)\n |-- stickied: boolean (nullable = true)\n |-- subreddit: string (nullable = true)\n |-- subreddit_id: string (nullable = true)\n\n"
        }
      ],
      "execution_count": 6,
      "metadata": {
        "jupyter": {
          "source_hidden": false,
          "outputs_hidden": false
        },
        "nteract": {
          "transient": {
            "deleting": false
          }
        },
        "gather": {
          "logged": 1697512299890
        }
      }
    },
    {
      "cell_type": "code",
      "source": [
        "comments_row_count = comments_single_df.count()\n",
        "comment_col_count = len(comments_single_df.columns)\n",
        "print(f\"shape of the comments dataframe is {comments_row_count:,}x{comment_col_count}\")"
      ],
      "outputs": [
        {
          "output_type": "display_data",
          "data": {
            "application/vnd.livy.statement-meta+json": {
              "spark_pool": "cf47b043-0c98-4514-b15a-1e3237e3aed3",
              "session_id": "22",
              "statement_id": 12,
              "state": "finished",
              "livy_statement_state": "available",
              "queued_time": "2023-10-17T03:11:22.1163472Z",
              "session_start_time": null,
              "execution_start_time": "2023-10-17T03:11:40.1504109Z",
              "execution_finish_time": "2023-10-17T03:11:52.8212129Z",
              "spark_jobs": {
                "numbers": {
                  "FAILED": 0,
                  "SUCCEEDED": 2,
                  "UNKNOWN": 0,
                  "RUNNING": 0
                },
                "jobs": [
                  {
                    "displayName": "count at NativeMethodAccessorImpl.java:0",
                    "dataWritten": 0,
                    "dataRead": 171,
                    "rowCount": 3,
                    "usageDescription": "",
                    "jobId": 3,
                    "name": "count at NativeMethodAccessorImpl.java:0",
                    "description": "Job group for statement 12:\ncomments_row_count = comments_single_df.count()\ncomment_col_count = len(comments_single_df.columns)\nprint(f\"shape of the comments dataframe is {comments_row_count:,}x{comment_col_count}\")",
                    "submissionTime": "2023-10-17T03:11:49.837GMT",
                    "completionTime": "2023-10-17T03:11:50.544GMT",
                    "stageIds": [
                      3,
                      4
                    ],
                    "jobGroup": "12",
                    "status": "SUCCEEDED",
                    "numTasks": 4,
                    "numActiveTasks": 0,
                    "numCompletedTasks": 1,
                    "numSkippedTasks": 3,
                    "numFailedTasks": 0,
                    "numKilledTasks": 0,
                    "numCompletedIndices": 1,
                    "numActiveStages": 0,
                    "numCompletedStages": 1,
                    "numSkippedStages": 1,
                    "numFailedStages": 0,
                    "killedTasksSummary": {}
                  },
                  {
                    "displayName": "count at NativeMethodAccessorImpl.java:0",
                    "dataWritten": 171,
                    "dataRead": 26820,
                    "rowCount": 97413,
                    "usageDescription": "",
                    "jobId": 2,
                    "name": "count at NativeMethodAccessorImpl.java:0",
                    "description": "Job group for statement 12:\ncomments_row_count = comments_single_df.count()\ncomment_col_count = len(comments_single_df.columns)\nprint(f\"shape of the comments dataframe is {comments_row_count:,}x{comment_col_count}\")",
                    "submissionTime": "2023-10-17T03:11:41.943GMT",
                    "completionTime": "2023-10-17T03:11:49.729GMT",
                    "stageIds": [
                      2
                    ],
                    "jobGroup": "12",
                    "status": "SUCCEEDED",
                    "numTasks": 3,
                    "numActiveTasks": 0,
                    "numCompletedTasks": 3,
                    "numSkippedTasks": 0,
                    "numFailedTasks": 0,
                    "numKilledTasks": 0,
                    "numCompletedIndices": 3,
                    "numActiveStages": 0,
                    "numCompletedStages": 1,
                    "numSkippedStages": 0,
                    "numFailedStages": 0,
                    "killedTasksSummary": {}
                  }
                ],
                "limit": 20,
                "rule": "ALL_DESC"
              },
              "parent_msg_id": "7b8e8827-d2f6-4a80-9c75-025e755b7736"
            },
            "text/plain": "StatementMeta(cf47b043-0c98-4514-b15a-1e3237e3aed3, 22, 12, Finished, Available)"
          },
          "metadata": {}
        },
        {
          "output_type": "stream",
          "name": "stdout",
          "text": "shape of the comments dataframe is 97,410x21\n"
        }
      ],
      "execution_count": 7,
      "metadata": {
        "jupyter": {
          "source_hidden": false,
          "outputs_hidden": false
        },
        "nteract": {
          "transient": {
            "deleting": false
          }
        },
        "gather": {
          "logged": 1697512312657
        }
      }
    },
    {
      "cell_type": "code",
      "source": [
        "submissions_single_df.printSchema()\n",
        "\n"
      ],
      "outputs": [
        {
          "output_type": "display_data",
          "data": {
            "application/vnd.livy.statement-meta+json": {
              "spark_pool": "cf47b043-0c98-4514-b15a-1e3237e3aed3",
              "session_id": "22",
              "statement_id": 13,
              "state": "finished",
              "livy_statement_state": "available",
              "queued_time": "2023-10-17T03:11:22.3969117Z",
              "session_start_time": null,
              "execution_start_time": "2023-10-17T03:11:52.8926801Z",
              "execution_finish_time": "2023-10-17T03:11:53.2333646Z",
              "spark_jobs": {
                "numbers": {
                  "FAILED": 0,
                  "SUCCEEDED": 0,
                  "UNKNOWN": 0,
                  "RUNNING": 0
                },
                "jobs": [],
                "limit": 20,
                "rule": "ALL_DESC"
              },
              "parent_msg_id": "bcc089ac-5dc6-462a-8e64-970cb3a40b9d"
            },
            "text/plain": "StatementMeta(cf47b043-0c98-4514-b15a-1e3237e3aed3, 22, 13, Finished, Available)"
          },
          "metadata": {}
        },
        {
          "output_type": "stream",
          "name": "stdout",
          "text": "root\n |-- adserver_click_url: string (nullable = true)\n |-- adserver_imp_pixel: string (nullable = true)\n |-- archived: boolean (nullable = true)\n |-- author: string (nullable = true)\n |-- author_cakeday: boolean (nullable = true)\n |-- author_flair_css_class: string (nullable = true)\n |-- author_flair_text: string (nullable = true)\n |-- author_id: string (nullable = true)\n |-- brand_safe: boolean (nullable = true)\n |-- contest_mode: boolean (nullable = true)\n |-- created_utc: timestamp (nullable = true)\n |-- crosspost_parent: string (nullable = true)\n |-- crosspost_parent_list: array (nullable = true)\n |    |-- element: struct (containsNull = true)\n |    |    |-- approved_at_utc: string (nullable = true)\n |    |    |-- approved_by: string (nullable = true)\n |    |    |-- archived: boolean (nullable = true)\n |    |    |-- author: string (nullable = true)\n |    |    |-- author_flair_css_class: string (nullable = true)\n |    |    |-- author_flair_text: string (nullable = true)\n |    |    |-- banned_at_utc: string (nullable = true)\n |    |    |-- banned_by: string (nullable = true)\n |    |    |-- brand_safe: boolean (nullable = true)\n |    |    |-- can_gild: boolean (nullable = true)\n |    |    |-- can_mod_post: boolean (nullable = true)\n |    |    |-- clicked: boolean (nullable = true)\n |    |    |-- contest_mode: boolean (nullable = true)\n |    |    |-- created: double (nullable = true)\n |    |    |-- created_utc: double (nullable = true)\n |    |    |-- distinguished: string (nullable = true)\n |    |    |-- domain: string (nullable = true)\n |    |    |-- downs: long (nullable = true)\n |    |    |-- edited: boolean (nullable = true)\n |    |    |-- gilded: long (nullable = true)\n |    |    |-- hidden: boolean (nullable = true)\n |    |    |-- hide_score: boolean (nullable = true)\n |    |    |-- id: string (nullable = true)\n |    |    |-- is_crosspostable: boolean (nullable = true)\n |    |    |-- is_reddit_media_domain: boolean (nullable = true)\n |    |    |-- is_self: boolean (nullable = true)\n |    |    |-- is_video: boolean (nullable = true)\n |    |    |-- likes: string (nullable = true)\n |    |    |-- link_flair_css_class: string (nullable = true)\n |    |    |-- link_flair_text: string (nullable = true)\n |    |    |-- locked: boolean (nullable = true)\n |    |    |-- media: string (nullable = true)\n |    |    |-- mod_reports: array (nullable = true)\n |    |    |    |-- element: string (containsNull = true)\n |    |    |-- name: string (nullable = true)\n |    |    |-- num_comments: long (nullable = true)\n |    |    |-- num_crossposts: long (nullable = true)\n |    |    |-- num_reports: string (nullable = true)\n |    |    |-- over_18: boolean (nullable = true)\n |    |    |-- parent_whitelist_status: string (nullable = true)\n |    |    |-- permalink: string (nullable = true)\n |    |    |-- pinned: boolean (nullable = true)\n |    |    |-- quarantine: boolean (nullable = true)\n |    |    |-- removal_reason: string (nullable = true)\n |    |    |-- report_reasons: string (nullable = true)\n |    |    |-- saved: boolean (nullable = true)\n |    |    |-- score: long (nullable = true)\n |    |    |-- secure_media: string (nullable = true)\n |    |    |-- selftext: string (nullable = true)\n |    |    |-- selftext_html: string (nullable = true)\n |    |    |-- spoiler: boolean (nullable = true)\n |    |    |-- stickied: boolean (nullable = true)\n |    |    |-- subreddit: string (nullable = true)\n |    |    |-- subreddit_id: string (nullable = true)\n |    |    |-- subreddit_name_prefixed: string (nullable = true)\n |    |    |-- subreddit_type: string (nullable = true)\n |    |    |-- suggested_sort: string (nullable = true)\n |    |    |-- thumbnail: string (nullable = true)\n |    |    |-- thumbnail_height: string (nullable = true)\n |    |    |-- thumbnail_width: string (nullable = true)\n |    |    |-- title: string (nullable = true)\n |    |    |-- ups: long (nullable = true)\n |    |    |-- url: string (nullable = true)\n |    |    |-- user_reports: array (nullable = true)\n |    |    |    |-- element: string (containsNull = true)\n |    |    |-- view_count: string (nullable = true)\n |    |    |-- visited: boolean (nullable = true)\n |    |    |-- whitelist_status: string (nullable = true)\n |-- disable_comments: boolean (nullable = true)\n |-- distinguished: string (nullable = true)\n |-- domain: string (nullable = true)\n |-- domain_override: string (nullable = true)\n |-- edited: string (nullable = true)\n |-- embed_type: string (nullable = true)\n |-- embed_url: string (nullable = true)\n |-- gilded: long (nullable = true)\n |-- hidden: boolean (nullable = true)\n |-- hide_score: boolean (nullable = true)\n |-- href_url: string (nullable = true)\n |-- id: string (nullable = true)\n |-- imp_pixel: string (nullable = true)\n |-- is_crosspostable: boolean (nullable = true)\n |-- is_reddit_media_domain: boolean (nullable = true)\n |-- is_self: boolean (nullable = true)\n |-- is_video: boolean (nullable = true)\n |-- link_flair_css_class: string (nullable = true)\n |-- link_flair_text: string (nullable = true)\n |-- locked: boolean (nullable = true)\n |-- media: struct (nullable = true)\n |    |-- event_id: string (nullable = true)\n |    |-- oembed: struct (nullable = true)\n |    |    |-- author_name: string (nullable = true)\n |    |    |-- author_url: string (nullable = true)\n |    |    |-- cache_age: long (nullable = true)\n |    |    |-- description: string (nullable = true)\n |    |    |-- height: long (nullable = true)\n |    |    |-- html: string (nullable = true)\n |    |    |-- provider_name: string (nullable = true)\n |    |    |-- provider_url: string (nullable = true)\n |    |    |-- thumbnail_height: long (nullable = true)\n |    |    |-- thumbnail_url: string (nullable = true)\n |    |    |-- thumbnail_width: long (nullable = true)\n |    |    |-- title: string (nullable = true)\n |    |    |-- type: string (nullable = true)\n |    |    |-- url: string (nullable = true)\n |    |    |-- version: string (nullable = true)\n |    |    |-- width: long (nullable = true)\n |    |-- reddit_video: struct (nullable = true)\n |    |    |-- dash_url: string (nullable = true)\n |    |    |-- duration: long (nullable = true)\n |    |    |-- fallback_url: string (nullable = true)\n |    |    |-- height: long (nullable = true)\n |    |    |-- hls_url: string (nullable = true)\n |    |    |-- is_gif: boolean (nullable = true)\n |    |    |-- scrubber_media_url: string (nullable = true)\n |    |    |-- transcoding_status: string (nullable = true)\n |    |    |-- width: long (nullable = true)\n |    |-- type: string (nullable = true)\n |-- media_embed: struct (nullable = true)\n |    |-- content: string (nullable = true)\n |    |-- height: long (nullable = true)\n |    |-- scrolling: boolean (nullable = true)\n |    |-- width: long (nullable = true)\n |-- mobile_ad_url: string (nullable = true)\n |-- num_comments: long (nullable = true)\n |-- num_crossposts: long (nullable = true)\n |-- original_link: string (nullable = true)\n |-- over_18: boolean (nullable = true)\n |-- parent_whitelist_status: string (nullable = true)\n |-- permalink: string (nullable = true)\n |-- pinned: boolean (nullable = true)\n |-- post_hint: string (nullable = true)\n |-- preview: struct (nullable = true)\n |    |-- enabled: boolean (nullable = true)\n |    |-- images: array (nullable = true)\n |    |    |-- element: struct (containsNull = true)\n |    |    |    |-- id: string (nullable = true)\n |    |    |    |-- resolutions: array (nullable = true)\n |    |    |    |    |-- element: struct (containsNull = true)\n |    |    |    |    |    |-- height: long (nullable = true)\n |    |    |    |    |    |-- url: string (nullable = true)\n |    |    |    |    |    |-- width: long (nullable = true)\n |    |    |    |-- source: struct (nullable = true)\n |    |    |    |    |-- height: long (nullable = true)\n |    |    |    |    |-- url: string (nullable = true)\n |    |    |    |    |-- width: long (nullable = true)\n |    |    |    |-- variants: struct (nullable = true)\n |    |    |    |    |-- gif: struct (nullable = true)\n |    |    |    |    |    |-- resolutions: array (nullable = true)\n |    |    |    |    |    |    |-- element: struct (containsNull = true)\n |    |    |    |    |    |    |    |-- height: long (nullable = true)\n |    |    |    |    |    |    |    |-- url: string (nullable = true)\n |    |    |    |    |    |    |    |-- width: long (nullable = true)\n |    |    |    |    |    |-- source: struct (nullable = true)\n |    |    |    |    |    |    |-- height: long (nullable = true)\n |    |    |    |    |    |    |-- url: string (nullable = true)\n |    |    |    |    |    |    |-- width: long (nullable = true)\n |    |    |    |    |-- mp4: struct (nullable = true)\n |    |    |    |    |    |-- resolutions: array (nullable = true)\n |    |    |    |    |    |    |-- element: struct (containsNull = true)\n |    |    |    |    |    |    |    |-- height: long (nullable = true)\n |    |    |    |    |    |    |    |-- url: string (nullable = true)\n |    |    |    |    |    |    |    |-- width: long (nullable = true)\n |    |    |    |    |    |-- source: struct (nullable = true)\n |    |    |    |    |    |    |-- height: long (nullable = true)\n |    |    |    |    |    |    |-- url: string (nullable = true)\n |    |    |    |    |    |    |-- width: long (nullable = true)\n |    |    |    |    |-- nsfw: struct (nullable = true)\n |    |    |    |    |    |-- resolutions: array (nullable = true)\n |    |    |    |    |    |    |-- element: struct (containsNull = true)\n |    |    |    |    |    |    |    |-- height: long (nullable = true)\n |    |    |    |    |    |    |    |-- url: string (nullable = true)\n |    |    |    |    |    |    |    |-- width: long (nullable = true)\n |    |    |    |    |    |-- source: struct (nullable = true)\n |    |    |    |    |    |    |-- height: long (nullable = true)\n |    |    |    |    |    |    |-- url: string (nullable = true)\n |    |    |    |    |    |    |-- width: long (nullable = true)\n |    |    |    |    |-- obfuscated: struct (nullable = true)\n |    |    |    |    |    |-- resolutions: array (nullable = true)\n |    |    |    |    |    |    |-- element: struct (containsNull = true)\n |    |    |    |    |    |    |    |-- height: long (nullable = true)\n |    |    |    |    |    |    |    |-- url: string (nullable = true)\n |    |    |    |    |    |    |    |-- width: long (nullable = true)\n |    |    |    |    |    |-- source: struct (nullable = true)\n |    |    |    |    |    |    |-- height: long (nullable = true)\n |    |    |    |    |    |    |-- url: string (nullable = true)\n |    |    |    |    |    |    |-- width: long (nullable = true)\n |-- promoted: boolean (nullable = true)\n |-- promoted_by: string (nullable = true)\n |-- promoted_display_name: string (nullable = true)\n |-- promoted_url: string (nullable = true)\n |-- retrieved_on: timestamp (nullable = true)\n |-- score: long (nullable = true)\n |-- secure_media: struct (nullable = true)\n |    |-- event_id: string (nullable = true)\n |    |-- oembed: struct (nullable = true)\n |    |    |-- author_name: string (nullable = true)\n |    |    |-- author_url: string (nullable = true)\n |    |    |-- cache_age: long (nullable = true)\n |    |    |-- description: string (nullable = true)\n |    |    |-- height: long (nullable = true)\n |    |    |-- html: string (nullable = true)\n |    |    |-- provider_name: string (nullable = true)\n |    |    |-- provider_url: string (nullable = true)\n |    |    |-- thumbnail_height: long (nullable = true)\n |    |    |-- thumbnail_url: string (nullable = true)\n |    |    |-- thumbnail_width: long (nullable = true)\n |    |    |-- title: string (nullable = true)\n |    |    |-- type: string (nullable = true)\n |    |    |-- url: string (nullable = true)\n |    |    |-- version: string (nullable = true)\n |    |    |-- width: long (nullable = true)\n |    |-- type: string (nullable = true)\n |-- secure_media_embed: struct (nullable = true)\n |    |-- content: string (nullable = true)\n |    |-- height: long (nullable = true)\n |    |-- media_domain_url: string (nullable = true)\n |    |-- scrolling: boolean (nullable = true)\n |    |-- width: long (nullable = true)\n |-- selftext: string (nullable = true)\n |-- spoiler: boolean (nullable = true)\n |-- stickied: boolean (nullable = true)\n |-- subreddit: string (nullable = true)\n |-- subreddit_id: string (nullable = true)\n |-- suggested_sort: string (nullable = true)\n |-- third_party_trackers: array (nullable = true)\n |    |-- element: string (containsNull = true)\n |-- third_party_tracking: string (nullable = true)\n |-- third_party_tracking_2: string (nullable = true)\n |-- thumbnail: string (nullable = true)\n |-- thumbnail_height: long (nullable = true)\n |-- thumbnail_width: long (nullable = true)\n |-- title: string (nullable = true)\n |-- url: string (nullable = true)\n |-- whitelist_status: string (nullable = true)\n\n"
        }
      ],
      "execution_count": 8,
      "metadata": {
        "jupyter": {
          "source_hidden": false,
          "outputs_hidden": false
        },
        "nteract": {
          "transient": {
            "deleting": false
          }
        },
        "gather": {
          "logged": 1697512313271
        }
      }
    },
    {
      "cell_type": "code",
      "source": [
        "submissions_row_count = submissions_single_df.count()\n",
        "submissions_col_count = len(submissions_single_df.columns)\n",
        "print(f\"shape of the submissions dataframe is {submissions_row_count:,}x{submissions_col_count}\")"
      ],
      "outputs": [
        {
          "output_type": "display_data",
          "data": {
            "application/vnd.livy.statement-meta+json": {
              "spark_pool": "cf47b043-0c98-4514-b15a-1e3237e3aed3",
              "session_id": "22",
              "statement_id": 14,
              "state": "finished",
              "livy_statement_state": "available",
              "queued_time": "2023-10-17T03:11:22.8980809Z",
              "session_start_time": null,
              "execution_start_time": "2023-10-17T03:11:53.3207353Z",
              "execution_finish_time": "2023-10-17T03:12:01.7108076Z",
              "spark_jobs": {
                "numbers": {
                  "FAILED": 0,
                  "SUCCEEDED": 2,
                  "UNKNOWN": 0,
                  "RUNNING": 0
                },
                "jobs": [
                  {
                    "displayName": "count at NativeMethodAccessorImpl.java:0",
                    "dataWritten": 0,
                    "dataRead": 171,
                    "rowCount": 3,
                    "usageDescription": "",
                    "jobId": 5,
                    "name": "count at NativeMethodAccessorImpl.java:0",
                    "description": "Job group for statement 14:\nsubmissions_row_count = submissions_single_df.count()\nsubmissions_col_count = len(submissions_single_df.columns)\nprint(f\"shape of the submissions dataframe is {submissions_row_count:,}x{submissions_col_count}\")",
                    "submissionTime": "2023-10-17T03:12:00.451GMT",
                    "completionTime": "2023-10-17T03:12:00.579GMT",
                    "stageIds": [
                      6,
                      7
                    ],
                    "jobGroup": "14",
                    "status": "SUCCEEDED",
                    "numTasks": 4,
                    "numActiveTasks": 0,
                    "numCompletedTasks": 1,
                    "numSkippedTasks": 3,
                    "numFailedTasks": 0,
                    "numKilledTasks": 0,
                    "numCompletedIndices": 1,
                    "numActiveStages": 0,
                    "numCompletedStages": 1,
                    "numSkippedStages": 1,
                    "numFailedStages": 0,
                    "killedTasksSummary": {}
                  },
                  {
                    "displayName": "count at NativeMethodAccessorImpl.java:0",
                    "dataWritten": 171,
                    "dataRead": 414900,
                    "rowCount": 34794,
                    "usageDescription": "",
                    "jobId": 4,
                    "name": "count at NativeMethodAccessorImpl.java:0",
                    "description": "Job group for statement 14:\nsubmissions_row_count = submissions_single_df.count()\nsubmissions_col_count = len(submissions_single_df.columns)\nprint(f\"shape of the submissions dataframe is {submissions_row_count:,}x{submissions_col_count}\")",
                    "submissionTime": "2023-10-17T03:11:53.470GMT",
                    "completionTime": "2023-10-17T03:12:00.410GMT",
                    "stageIds": [
                      5
                    ],
                    "jobGroup": "14",
                    "status": "SUCCEEDED",
                    "numTasks": 3,
                    "numActiveTasks": 0,
                    "numCompletedTasks": 3,
                    "numSkippedTasks": 0,
                    "numFailedTasks": 0,
                    "numKilledTasks": 0,
                    "numCompletedIndices": 3,
                    "numActiveStages": 0,
                    "numCompletedStages": 1,
                    "numSkippedStages": 0,
                    "numFailedStages": 0,
                    "killedTasksSummary": {}
                  }
                ],
                "limit": 20,
                "rule": "ALL_DESC"
              },
              "parent_msg_id": "a06448eb-e377-4907-aa33-4d81f0373aae"
            },
            "text/plain": "StatementMeta(cf47b043-0c98-4514-b15a-1e3237e3aed3, 22, 14, Finished, Available)"
          },
          "metadata": {}
        },
        {
          "output_type": "stream",
          "name": "stdout",
          "text": "shape of the submissions dataframe is 34,791x68\n"
        }
      ],
      "execution_count": 9,
      "metadata": {
        "jupyter": {
          "source_hidden": false,
          "outputs_hidden": false
        },
        "nteract": {
          "transient": {
            "deleting": false
          }
        },
        "gather": {
          "logged": 1697512321511
        }
      }
    },
    {
      "cell_type": "markdown",
      "source": [
        "### Reading in an entire month"
      ],
      "metadata": {
        "nteract": {
          "transient": {
            "deleting": false
          }
        }
      }
    },
    {
      "cell_type": "code",
      "source": [
        "# Test on a single month\n",
        "comments_month = \"year=2022/month=4/\"\n",
        "submissions_month = \"year=2021/month=7/\""
      ],
      "outputs": [
        {
          "output_type": "display_data",
          "data": {
            "application/vnd.livy.statement-meta+json": {
              "spark_pool": "cf47b043-0c98-4514-b15a-1e3237e3aed3",
              "session_id": "22",
              "statement_id": 15,
              "state": "finished",
              "livy_statement_state": "available",
              "queued_time": "2023-10-17T03:11:23.7210359Z",
              "session_start_time": null,
              "execution_start_time": "2023-10-17T03:12:01.7858015Z",
              "execution_finish_time": "2023-10-17T03:12:02.1278826Z",
              "spark_jobs": {
                "numbers": {
                  "FAILED": 0,
                  "SUCCEEDED": 0,
                  "UNKNOWN": 0,
                  "RUNNING": 0
                },
                "jobs": [],
                "limit": 20,
                "rule": "ALL_DESC"
              },
              "parent_msg_id": "1fa97962-f8f0-49f7-9678-16795102d8b9"
            },
            "text/plain": "StatementMeta(cf47b043-0c98-4514-b15a-1e3237e3aed3, 22, 15, Finished, Available)"
          },
          "metadata": {}
        }
      ],
      "execution_count": 10,
      "metadata": {
        "jupyter": {
          "source_hidden": false,
          "outputs_hidden": false
        },
        "nteract": {
          "transient": {
            "deleting": false
          }
        },
        "gather": {
          "logged": 1697512322000
        }
      }
    },
    {
      "cell_type": "code",
      "source": [
        "comments_months_df = spark.read.parquet(f\"{wasbs_base_url}{comments_path}{comments_month}\")\n",
        "submissions_months_df = spark.read.parquet(f\"{wasbs_base_url}{submissions_path}{submissions_month}\")"
      ],
      "outputs": [
        {
          "output_type": "display_data",
          "data": {
            "application/vnd.livy.statement-meta+json": {
              "spark_pool": "cf47b043-0c98-4514-b15a-1e3237e3aed3",
              "session_id": "22",
              "statement_id": 16,
              "state": "finished",
              "livy_statement_state": "available",
              "queued_time": "2023-10-17T03:11:23.9215579Z",
              "session_start_time": null,
              "execution_start_time": "2023-10-17T03:12:02.1997798Z",
              "execution_finish_time": "2023-10-17T03:12:04.907818Z",
              "spark_jobs": {
                "numbers": {
                  "FAILED": 0,
                  "SUCCEEDED": 2,
                  "UNKNOWN": 0,
                  "RUNNING": 0
                },
                "jobs": [
                  {
                    "displayName": "parquet at NativeMethodAccessorImpl.java:0",
                    "dataWritten": 0,
                    "dataRead": 0,
                    "rowCount": 0,
                    "usageDescription": "",
                    "jobId": 7,
                    "name": "parquet at NativeMethodAccessorImpl.java:0",
                    "description": "Job group for statement 16:\ncomments_months_df = spark.read.parquet(f\"{wasbs_base_url}{comments_path}{comments_month}\")\nsubmissions_months_df = spark.read.parquet(f\"{wasbs_base_url}{submissions_path}{submissions_month}\")",
                    "submissionTime": "2023-10-17T03:12:04.065GMT",
                    "completionTime": "2023-10-17T03:12:04.489GMT",
                    "stageIds": [
                      9
                    ],
                    "jobGroup": "16",
                    "status": "SUCCEEDED",
                    "numTasks": 1,
                    "numActiveTasks": 0,
                    "numCompletedTasks": 1,
                    "numSkippedTasks": 0,
                    "numFailedTasks": 0,
                    "numKilledTasks": 0,
                    "numCompletedIndices": 1,
                    "numActiveStages": 0,
                    "numCompletedStages": 1,
                    "numSkippedStages": 0,
                    "numFailedStages": 0,
                    "killedTasksSummary": {}
                  },
                  {
                    "displayName": "parquet at NativeMethodAccessorImpl.java:0",
                    "dataWritten": 0,
                    "dataRead": 0,
                    "rowCount": 0,
                    "usageDescription": "",
                    "jobId": 6,
                    "name": "parquet at NativeMethodAccessorImpl.java:0",
                    "description": "Job group for statement 16:\ncomments_months_df = spark.read.parquet(f\"{wasbs_base_url}{comments_path}{comments_month}\")\nsubmissions_months_df = spark.read.parquet(f\"{wasbs_base_url}{submissions_path}{submissions_month}\")",
                    "submissionTime": "2023-10-17T03:12:03.246GMT",
                    "completionTime": "2023-10-17T03:12:03.591GMT",
                    "stageIds": [
                      8
                    ],
                    "jobGroup": "16",
                    "status": "SUCCEEDED",
                    "numTasks": 1,
                    "numActiveTasks": 0,
                    "numCompletedTasks": 1,
                    "numSkippedTasks": 0,
                    "numFailedTasks": 0,
                    "numKilledTasks": 0,
                    "numCompletedIndices": 1,
                    "numActiveStages": 0,
                    "numCompletedStages": 1,
                    "numSkippedStages": 0,
                    "numFailedStages": 0,
                    "killedTasksSummary": {}
                  }
                ],
                "limit": 20,
                "rule": "ALL_DESC"
              },
              "parent_msg_id": "f5c81462-a46b-47b1-93e9-9f53485ce32c"
            },
            "text/plain": "StatementMeta(cf47b043-0c98-4514-b15a-1e3237e3aed3, 22, 16, Finished, Available)"
          },
          "metadata": {}
        }
      ],
      "execution_count": 11,
      "metadata": {
        "jupyter": {
          "source_hidden": false,
          "outputs_hidden": false
        },
        "nteract": {
          "transient": {
            "deleting": false
          }
        },
        "gather": {
          "logged": 1697512324666
        }
      }
    },
    {
      "cell_type": "markdown",
      "source": [
        "#### Initial exploration"
      ],
      "metadata": {
        "nteract": {
          "transient": {
            "deleting": false
          }
        }
      }
    },
    {
      "cell_type": "code",
      "source": [
        "comments_row_count = comments_months_df.count()\n",
        "comment_col_count = len(comments_months_df.columns)\n",
        "print(f\"shape of the comments dataframe is {comments_row_count:,}x{comment_col_count}\")"
      ],
      "outputs": [
        {
          "output_type": "display_data",
          "data": {
            "application/vnd.livy.statement-meta+json": {
              "spark_pool": "cf47b043-0c98-4514-b15a-1e3237e3aed3",
              "session_id": "22",
              "statement_id": 17,
              "state": "finished",
              "livy_statement_state": "available",
              "queued_time": "2023-10-17T03:11:24.2141728Z",
              "session_start_time": null,
              "execution_start_time": "2023-10-17T03:12:04.999776Z",
              "execution_finish_time": "2023-10-17T03:12:17.6769102Z",
              "spark_jobs": {
                "numbers": {
                  "FAILED": 0,
                  "SUCCEEDED": 2,
                  "UNKNOWN": 0,
                  "RUNNING": 0
                },
                "jobs": [
                  {
                    "displayName": "count at NativeMethodAccessorImpl.java:0",
                    "dataWritten": 0,
                    "dataRead": 16578,
                    "rowCount": 281,
                    "usageDescription": "",
                    "jobId": 9,
                    "name": "count at NativeMethodAccessorImpl.java:0",
                    "description": "Job group for statement 17:\ncomments_row_count = comments_months_df.count()\ncomment_col_count = len(comments_months_df.columns)\nprint(f\"shape of the comments dataframe is {comments_row_count:,}x{comment_col_count}\")",
                    "submissionTime": "2023-10-17T03:12:16.107GMT",
                    "completionTime": "2023-10-17T03:12:16.740GMT",
                    "stageIds": [
                      12,
                      11
                    ],
                    "jobGroup": "17",
                    "status": "SUCCEEDED",
                    "numTasks": 282,
                    "numActiveTasks": 0,
                    "numCompletedTasks": 1,
                    "numSkippedTasks": 281,
                    "numFailedTasks": 0,
                    "numKilledTasks": 0,
                    "numCompletedIndices": 1,
                    "numActiveStages": 0,
                    "numCompletedStages": 1,
                    "numSkippedStages": 1,
                    "numFailedStages": 0,
                    "killedTasksSummary": {}
                  },
                  {
                    "displayName": "count at NativeMethodAccessorImpl.java:0",
                    "dataWritten": 16578,
                    "dataRead": 23360320,
                    "rowCount": 231188358,
                    "usageDescription": "",
                    "jobId": 8,
                    "name": "count at NativeMethodAccessorImpl.java:0",
                    "description": "Job group for statement 17:\ncomments_row_count = comments_months_df.count()\ncomment_col_count = len(comments_months_df.columns)\nprint(f\"shape of the comments dataframe is {comments_row_count:,}x{comment_col_count}\")",
                    "submissionTime": "2023-10-17T03:12:05.228GMT",
                    "completionTime": "2023-10-17T03:12:16.081GMT",
                    "stageIds": [
                      10
                    ],
                    "jobGroup": "17",
                    "status": "SUCCEEDED",
                    "numTasks": 281,
                    "numActiveTasks": 0,
                    "numCompletedTasks": 281,
                    "numSkippedTasks": 0,
                    "numFailedTasks": 0,
                    "numKilledTasks": 0,
                    "numCompletedIndices": 281,
                    "numActiveStages": 0,
                    "numCompletedStages": 1,
                    "numSkippedStages": 0,
                    "numFailedStages": 0,
                    "killedTasksSummary": {}
                  }
                ],
                "limit": 20,
                "rule": "ALL_DESC"
              },
              "parent_msg_id": "4bf75e02-4534-432d-9f5e-cdc4eec7aef4"
            },
            "text/plain": "StatementMeta(cf47b043-0c98-4514-b15a-1e3237e3aed3, 22, 17, Finished, Available)"
          },
          "metadata": {}
        },
        {
          "output_type": "stream",
          "name": "stdout",
          "text": "shape of the comments dataframe is 231,188,077x21\n"
        }
      ],
      "execution_count": 12,
      "metadata": {
        "jupyter": {
          "source_hidden": false,
          "outputs_hidden": false
        },
        "nteract": {
          "transient": {
            "deleting": false
          }
        },
        "gather": {
          "logged": 1697512337969
        }
      }
    },
    {
      "cell_type": "code",
      "source": [
        "submissions_row_count = submissions_months_df.count()\n",
        "submissions_col_count = len(submissions_months_df.columns)\n",
        "print(f\"shape of the submissions dataframe is {submissions_row_count:,}x{submissions_col_count}\")"
      ],
      "outputs": [
        {
          "output_type": "display_data",
          "data": {
            "application/vnd.livy.statement-meta+json": {
              "spark_pool": "cf47b043-0c98-4514-b15a-1e3237e3aed3",
              "session_id": "22",
              "statement_id": 18,
              "state": "finished",
              "livy_statement_state": "available",
              "queued_time": "2023-10-17T03:11:24.3909245Z",
              "session_start_time": null,
              "execution_start_time": "2023-10-17T03:12:17.7526271Z",
              "execution_finish_time": "2023-10-17T03:12:24.4648765Z",
              "spark_jobs": {
                "numbers": {
                  "FAILED": 0,
                  "SUCCEEDED": 2,
                  "UNKNOWN": 0,
                  "RUNNING": 0
                },
                "jobs": [
                  {
                    "displayName": "count at NativeMethodAccessorImpl.java:0",
                    "dataWritten": 0,
                    "dataRead": 5368,
                    "rowCount": 91,
                    "usageDescription": "",
                    "jobId": 11,
                    "name": "count at NativeMethodAccessorImpl.java:0",
                    "description": "Job group for statement 18:\nsubmissions_row_count = submissions_months_df.count()\nsubmissions_col_count = len(submissions_months_df.columns)\nprint(f\"shape of the submissions dataframe is {submissions_row_count:,}x{submissions_col_count}\")",
                    "submissionTime": "2023-10-17T03:12:22.470GMT",
                    "completionTime": "2023-10-17T03:12:23.038GMT",
                    "stageIds": [
                      15,
                      14
                    ],
                    "jobGroup": "18",
                    "status": "SUCCEEDED",
                    "numTasks": 92,
                    "numActiveTasks": 0,
                    "numCompletedTasks": 1,
                    "numSkippedTasks": 91,
                    "numFailedTasks": 0,
                    "numKilledTasks": 0,
                    "numCompletedIndices": 1,
                    "numActiveStages": 0,
                    "numCompletedStages": 1,
                    "numSkippedStages": 1,
                    "numFailedStages": 0,
                    "killedTasksSummary": {}
                  },
                  {
                    "displayName": "count at NativeMethodAccessorImpl.java:0",
                    "dataWritten": 5368,
                    "dataRead": 107246694,
                    "rowCount": 28900325,
                    "usageDescription": "",
                    "jobId": 10,
                    "name": "count at NativeMethodAccessorImpl.java:0",
                    "description": "Job group for statement 18:\nsubmissions_row_count = submissions_months_df.count()\nsubmissions_col_count = len(submissions_months_df.columns)\nprint(f\"shape of the submissions dataframe is {submissions_row_count:,}x{submissions_col_count}\")",
                    "submissionTime": "2023-10-17T03:12:17.871GMT",
                    "completionTime": "2023-10-17T03:12:22.449GMT",
                    "stageIds": [
                      13
                    ],
                    "jobGroup": "18",
                    "status": "SUCCEEDED",
                    "numTasks": 91,
                    "numActiveTasks": 0,
                    "numCompletedTasks": 91,
                    "numSkippedTasks": 0,
                    "numFailedTasks": 0,
                    "numKilledTasks": 0,
                    "numCompletedIndices": 91,
                    "numActiveStages": 0,
                    "numCompletedStages": 1,
                    "numSkippedStages": 0,
                    "numFailedStages": 0,
                    "killedTasksSummary": {}
                  }
                ],
                "limit": 20,
                "rule": "ALL_DESC"
              },
              "parent_msg_id": "4d006b05-36ca-4817-8a1e-4926af8aa41a"
            },
            "text/plain": "StatementMeta(cf47b043-0c98-4514-b15a-1e3237e3aed3, 22, 18, Finished, Available)"
          },
          "metadata": {}
        },
        {
          "output_type": "stream",
          "name": "stdout",
          "text": "shape of the submissions dataframe is 28,900,234x68\n"
        }
      ],
      "execution_count": 13,
      "metadata": {
        "jupyter": {
          "source_hidden": false,
          "outputs_hidden": false
        },
        "nteract": {
          "transient": {
            "deleting": false
          }
        },
        "gather": {
          "logged": 1697512344233
        }
      }
    },
    {
      "cell_type": "markdown",
      "source": [
        "### Reeading in all of the Reddit data"
      ],
      "metadata": {
        "nteract": {
          "transient": {
            "deleting": false
          }
        }
      }
    },
    {
      "cell_type": "code",
      "source": [
        "comments_df = spark.read.parquet(f\"{wasbs_base_url}{comments_path}\")\n",
        "submissions_df = spark.read.parquet(f\"{wasbs_base_url}{submissions_path}\")"
      ],
      "outputs": [
        {
          "output_type": "display_data",
          "data": {
            "application/vnd.livy.statement-meta+json": {
              "spark_pool": "cf47b043-0c98-4514-b15a-1e3237e3aed3",
              "session_id": "22",
              "statement_id": 19,
              "state": "finished",
              "livy_statement_state": "available",
              "queued_time": "2023-10-17T03:11:24.9982077Z",
              "session_start_time": null,
              "execution_start_time": "2023-10-17T03:12:24.5396244Z",
              "execution_finish_time": "2023-10-17T03:12:50.6767971Z",
              "spark_jobs": {
                "numbers": {
                  "FAILED": 0,
                  "SUCCEEDED": 2,
                  "UNKNOWN": 0,
                  "RUNNING": 0
                },
                "jobs": [
                  {
                    "displayName": "parquet at NativeMethodAccessorImpl.java:0",
                    "dataWritten": 0,
                    "dataRead": 0,
                    "rowCount": 0,
                    "usageDescription": "",
                    "jobId": 13,
                    "name": "parquet at NativeMethodAccessorImpl.java:0",
                    "description": "Job group for statement 19:\ncomments_df = spark.read.parquet(f\"{wasbs_base_url}{comments_path}\")\nsubmissions_df = spark.read.parquet(f\"{wasbs_base_url}{submissions_path}\")",
                    "submissionTime": "2023-10-17T03:12:48.238GMT",
                    "completionTime": "2023-10-17T03:12:48.779GMT",
                    "stageIds": [
                      17
                    ],
                    "jobGroup": "19",
                    "status": "SUCCEEDED",
                    "numTasks": 1,
                    "numActiveTasks": 0,
                    "numCompletedTasks": 1,
                    "numSkippedTasks": 0,
                    "numFailedTasks": 0,
                    "numKilledTasks": 0,
                    "numCompletedIndices": 1,
                    "numActiveStages": 0,
                    "numCompletedStages": 1,
                    "numSkippedStages": 0,
                    "numFailedStages": 0,
                    "killedTasksSummary": {}
                  },
                  {
                    "displayName": "parquet at NativeMethodAccessorImpl.java:0",
                    "dataWritten": 0,
                    "dataRead": 0,
                    "rowCount": 0,
                    "usageDescription": "",
                    "jobId": 12,
                    "name": "parquet at NativeMethodAccessorImpl.java:0",
                    "description": "Job group for statement 19:\ncomments_df = spark.read.parquet(f\"{wasbs_base_url}{comments_path}\")\nsubmissions_df = spark.read.parquet(f\"{wasbs_base_url}{submissions_path}\")",
                    "submissionTime": "2023-10-17T03:12:40.960GMT",
                    "completionTime": "2023-10-17T03:12:41.267GMT",
                    "stageIds": [
                      16
                    ],
                    "jobGroup": "19",
                    "status": "SUCCEEDED",
                    "numTasks": 1,
                    "numActiveTasks": 0,
                    "numCompletedTasks": 1,
                    "numSkippedTasks": 0,
                    "numFailedTasks": 0,
                    "numKilledTasks": 0,
                    "numCompletedIndices": 1,
                    "numActiveStages": 0,
                    "numCompletedStages": 1,
                    "numSkippedStages": 0,
                    "numFailedStages": 0,
                    "killedTasksSummary": {}
                  }
                ],
                "limit": 20,
                "rule": "ALL_DESC"
              },
              "parent_msg_id": "15f1267a-4234-425c-9325-494b7acd5413"
            },
            "text/plain": "StatementMeta(cf47b043-0c98-4514-b15a-1e3237e3aed3, 22, 19, Finished, Available)"
          },
          "metadata": {}
        }
      ],
      "execution_count": 14,
      "metadata": {
        "jupyter": {
          "source_hidden": false,
          "outputs_hidden": false
        },
        "nteract": {
          "transient": {
            "deleting": false
          }
        },
        "gather": {
          "logged": 1697512370496
        }
      }
    },
    {
      "cell_type": "code",
      "source": [
        "submissions_df.count()"
      ],
      "outputs": [
        {
          "output_type": "display_data",
          "data": {
            "application/vnd.livy.statement-meta+json": {
              "spark_pool": "cf47b043-0c98-4514-b15a-1e3237e3aed3",
              "session_id": "22",
              "statement_id": 20,
              "state": "finished",
              "livy_statement_state": "available",
              "queued_time": "2023-10-17T03:11:25.3822567Z",
              "session_start_time": null,
              "execution_start_time": "2023-10-17T03:12:50.7515059Z",
              "execution_finish_time": "2023-10-17T03:14:57.0053801Z",
              "spark_jobs": {
                "numbers": {
                  "FAILED": 0,
                  "SUCCEEDED": 2,
                  "UNKNOWN": 0,
                  "RUNNING": 0
                },
                "jobs": [
                  {
                    "displayName": "count at NativeMethodAccessorImpl.java:0",
                    "dataWritten": 0,
                    "dataRead": 181711,
                    "rowCount": 3080,
                    "usageDescription": "",
                    "jobId": 15,
                    "name": "count at NativeMethodAccessorImpl.java:0",
                    "description": "Job group for statement 20:\nsubmissions_df.count()",
                    "submissionTime": "2023-10-17T03:14:55.590GMT",
                    "completionTime": "2023-10-17T03:14:55.967GMT",
                    "stageIds": [
                      19,
                      20
                    ],
                    "jobGroup": "20",
                    "status": "SUCCEEDED",
                    "numTasks": 3081,
                    "numActiveTasks": 0,
                    "numCompletedTasks": 1,
                    "numSkippedTasks": 3080,
                    "numFailedTasks": 0,
                    "numKilledTasks": 0,
                    "numCompletedIndices": 1,
                    "numActiveStages": 0,
                    "numCompletedStages": 1,
                    "numSkippedStages": 1,
                    "numFailedStages": 0,
                    "killedTasksSummary": {}
                  },
                  {
                    "displayName": "count at NativeMethodAccessorImpl.java:0",
                    "dataWritten": 181711,
                    "dataRead": 3377310964,
                    "rowCount": 892163901,
                    "usageDescription": "",
                    "jobId": 14,
                    "name": "count at NativeMethodAccessorImpl.java:0",
                    "description": "Job group for statement 20:\nsubmissions_df.count()",
                    "submissionTime": "2023-10-17T03:12:51.144GMT",
                    "completionTime": "2023-10-17T03:14:55.557GMT",
                    "stageIds": [
                      18
                    ],
                    "jobGroup": "20",
                    "status": "SUCCEEDED",
                    "numTasks": 3080,
                    "numActiveTasks": 0,
                    "numCompletedTasks": 3080,
                    "numSkippedTasks": 0,
                    "numFailedTasks": 0,
                    "numKilledTasks": 0,
                    "numCompletedIndices": 3080,
                    "numActiveStages": 0,
                    "numCompletedStages": 1,
                    "numSkippedStages": 0,
                    "numFailedStages": 0,
                    "killedTasksSummary": {}
                  }
                ],
                "limit": 20,
                "rule": "ALL_DESC"
              },
              "parent_msg_id": "d5a2a845-191c-4afc-9cb3-c20ab8079bc7"
            },
            "text/plain": "StatementMeta(cf47b043-0c98-4514-b15a-1e3237e3aed3, 22, 20, Finished, Available)"
          },
          "metadata": {}
        },
        {
          "output_type": "execute_result",
          "execution_count": 39,
          "data": {
            "text/plain": "892160821"
          },
          "metadata": {}
        }
      ],
      "execution_count": 15,
      "metadata": {
        "jupyter": {
          "source_hidden": false,
          "outputs_hidden": false
        },
        "nteract": {
          "transient": {
            "deleting": false
          }
        },
        "gather": {
          "logged": 1697512496782
        }
      }
    },
    {
      "cell_type": "code",
      "source": [
        "submissions_df.rdd.getNumPartitions()"
      ],
      "outputs": [
        {
          "output_type": "display_data",
          "data": {
            "application/vnd.livy.statement-meta+json": {
              "spark_pool": "cf47b043-0c98-4514-b15a-1e3237e3aed3",
              "session_id": "22",
              "statement_id": 21,
              "state": "finished",
              "livy_statement_state": "available",
              "queued_time": "2023-10-17T03:11:25.8577365Z",
              "session_start_time": null,
              "execution_start_time": "2023-10-17T03:14:57.0852432Z",
              "execution_finish_time": "2023-10-17T03:14:57.971123Z",
              "spark_jobs": {
                "numbers": {
                  "FAILED": 0,
                  "SUCCEEDED": 0,
                  "UNKNOWN": 0,
                  "RUNNING": 0
                },
                "jobs": [],
                "limit": 20,
                "rule": "ALL_DESC"
              },
              "parent_msg_id": "d2743efa-af44-4053-abfe-94288a731aa0"
            },
            "text/plain": "StatementMeta(cf47b043-0c98-4514-b15a-1e3237e3aed3, 22, 21, Finished, Available)"
          },
          "metadata": {}
        },
        {
          "output_type": "execute_result",
          "execution_count": 41,
          "data": {
            "text/plain": "3080"
          },
          "metadata": {}
        }
      ],
      "execution_count": 16,
      "metadata": {
        "jupyter": {
          "source_hidden": false,
          "outputs_hidden": false
        },
        "nteract": {
          "transient": {
            "deleting": false
          }
        },
        "gather": {
          "logged": 1697512497718
        }
      }
    },
    {
      "cell_type": "code",
      "source": [
        "comments_df.count()"
      ],
      "outputs": [
        {
          "output_type": "display_data",
          "data": {
            "application/vnd.livy.statement-meta+json": {
              "spark_pool": "cf47b043-0c98-4514-b15a-1e3237e3aed3",
              "session_id": "22",
              "statement_id": 22,
              "state": "finished",
              "livy_statement_state": "available",
              "queued_time": "2023-10-17T03:11:25.9729839Z",
              "session_start_time": null,
              "execution_start_time": "2023-10-17T03:14:58.0475529Z",
              "execution_finish_time": "2023-10-17T03:18:44.4534727Z",
              "spark_jobs": {
                "numbers": {
                  "FAILED": 0,
                  "SUCCEEDED": 2,
                  "UNKNOWN": 0,
                  "RUNNING": 0
                },
                "jobs": [
                  {
                    "displayName": "count at NativeMethodAccessorImpl.java:0",
                    "dataWritten": 0,
                    "dataRead": 438215,
                    "rowCount": 7428,
                    "usageDescription": "",
                    "jobId": 17,
                    "name": "count at NativeMethodAccessorImpl.java:0",
                    "description": "Job group for statement 22:\ncomments_df.count()",
                    "submissionTime": "2023-10-17T03:18:42.893GMT",
                    "completionTime": "2023-10-17T03:18:43.898GMT",
                    "stageIds": [
                      22,
                      23
                    ],
                    "jobGroup": "22",
                    "status": "SUCCEEDED",
                    "numTasks": 7429,
                    "numActiveTasks": 0,
                    "numCompletedTasks": 1,
                    "numSkippedTasks": 7428,
                    "numFailedTasks": 0,
                    "numKilledTasks": 0,
                    "numCompletedIndices": 1,
                    "numActiveStages": 0,
                    "numCompletedStages": 1,
                    "numSkippedStages": 1,
                    "numFailedStages": 0,
                    "killedTasksSummary": {}
                  },
                  {
                    "displayName": "count at NativeMethodAccessorImpl.java:0",
                    "dataWritten": 438215,
                    "dataRead": 625674450,
                    "rowCount": 6114487878,
                    "usageDescription": "",
                    "jobId": 16,
                    "name": "count at NativeMethodAccessorImpl.java:0",
                    "description": "Job group for statement 22:\ncomments_df.count()",
                    "submissionTime": "2023-10-17T03:14:58.499GMT",
                    "completionTime": "2023-10-17T03:18:42.869GMT",
                    "stageIds": [
                      21
                    ],
                    "jobGroup": "22",
                    "status": "SUCCEEDED",
                    "numTasks": 7428,
                    "numActiveTasks": 0,
                    "numCompletedTasks": 7428,
                    "numSkippedTasks": 0,
                    "numFailedTasks": 0,
                    "numKilledTasks": 0,
                    "numCompletedIndices": 7428,
                    "numActiveStages": 0,
                    "numCompletedStages": 1,
                    "numSkippedStages": 0,
                    "numFailedStages": 0,
                    "killedTasksSummary": {}
                  }
                ],
                "limit": 20,
                "rule": "ALL_DESC"
              },
              "parent_msg_id": "0bb95329-6525-45df-b0de-279a89aa27ab"
            },
            "text/plain": "StatementMeta(cf47b043-0c98-4514-b15a-1e3237e3aed3, 22, 22, Finished, Available)"
          },
          "metadata": {}
        },
        {
          "output_type": "execute_result",
          "execution_count": 43,
          "data": {
            "text/plain": "6114480450"
          },
          "metadata": {}
        }
      ],
      "execution_count": 17,
      "metadata": {
        "jupyter": {
          "source_hidden": false,
          "outputs_hidden": false
        },
        "nteract": {
          "transient": {
            "deleting": false
          }
        },
        "gather": {
          "logged": 1697512724354
        }
      }
    },
    {
      "cell_type": "code",
      "source": [
        "comments_df.rdd.getNumPartitions()"
      ],
      "outputs": [
        {
          "output_type": "display_data",
          "data": {
            "application/vnd.livy.statement-meta+json": {
              "spark_pool": "cf47b043-0c98-4514-b15a-1e3237e3aed3",
              "session_id": "22",
              "statement_id": 23,
              "state": "finished",
              "livy_statement_state": "available",
              "queued_time": "2023-10-17T03:11:26.6498865Z",
              "session_start_time": null,
              "execution_start_time": "2023-10-17T03:18:44.5280559Z",
              "execution_finish_time": "2023-10-17T03:18:45.4617783Z",
              "spark_jobs": {
                "numbers": {
                  "FAILED": 0,
                  "SUCCEEDED": 0,
                  "UNKNOWN": 0,
                  "RUNNING": 0
                },
                "jobs": [],
                "limit": 20,
                "rule": "ALL_DESC"
              },
              "parent_msg_id": "8f4a1fe9-8b44-4f8d-9296-cfe27d7ab10a"
            },
            "text/plain": "StatementMeta(cf47b043-0c98-4514-b15a-1e3237e3aed3, 22, 23, Finished, Available)"
          },
          "metadata": {}
        },
        {
          "output_type": "execute_result",
          "execution_count": 45,
          "data": {
            "text/plain": "7428"
          },
          "metadata": {}
        }
      ],
      "execution_count": 18,
      "metadata": {
        "jupyter": {
          "source_hidden": false,
          "outputs_hidden": false
        },
        "nteract": {
          "transient": {
            "deleting": false
          }
        },
        "gather": {
          "logged": 1697512725385
        }
      }
    },
    {
      "cell_type": "code",
      "source": [
        "comments_df.printSchema()"
      ],
      "outputs": [
        {
          "output_type": "display_data",
          "data": {
            "application/vnd.livy.statement-meta+json": {
              "spark_pool": "cf47b043-0c98-4514-b15a-1e3237e3aed3",
              "session_id": "22",
              "statement_id": 24,
              "state": "finished",
              "livy_statement_state": "available",
              "queued_time": "2023-10-17T03:11:27.2533711Z",
              "session_start_time": null,
              "execution_start_time": "2023-10-17T03:18:45.5321422Z",
              "execution_finish_time": "2023-10-17T03:18:45.8795815Z",
              "spark_jobs": {
                "numbers": {
                  "FAILED": 0,
                  "SUCCEEDED": 0,
                  "UNKNOWN": 0,
                  "RUNNING": 0
                },
                "jobs": [],
                "limit": 20,
                "rule": "ALL_DESC"
              },
              "parent_msg_id": "e9a900ba-f7dd-4473-a6d1-d793a5249c35"
            },
            "text/plain": "StatementMeta(cf47b043-0c98-4514-b15a-1e3237e3aed3, 22, 24, Finished, Available)"
          },
          "metadata": {}
        },
        {
          "output_type": "stream",
          "name": "stdout",
          "text": "root\n |-- author: string (nullable = true)\n |-- author_cakeday: boolean (nullable = true)\n |-- author_flair_css_class: string (nullable = true)\n |-- author_flair_text: string (nullable = true)\n |-- body: string (nullable = true)\n |-- can_gild: boolean (nullable = true)\n |-- controversiality: long (nullable = true)\n |-- created_utc: timestamp (nullable = true)\n |-- distinguished: string (nullable = true)\n |-- edited: string (nullable = true)\n |-- gilded: long (nullable = true)\n |-- id: string (nullable = true)\n |-- is_submitter: boolean (nullable = true)\n |-- link_id: string (nullable = true)\n |-- parent_id: string (nullable = true)\n |-- permalink: string (nullable = true)\n |-- retrieved_on: timestamp (nullable = true)\n |-- score: long (nullable = true)\n |-- stickied: boolean (nullable = true)\n |-- subreddit: string (nullable = true)\n |-- subreddit_id: string (nullable = true)\n |-- year: integer (nullable = true)\n |-- month: integer (nullable = true)\n\n"
        }
      ],
      "execution_count": 19,
      "metadata": {
        "jupyter": {
          "source_hidden": false,
          "outputs_hidden": false
        },
        "nteract": {
          "transient": {
            "deleting": false
          }
        },
        "gather": {
          "logged": 1697512726000
        }
      }
    },
    {
      "cell_type": "markdown",
      "source": [
        "## Exploratory Data Analysis\n",
        "\n",
        "Here is an example of some EDA. But, before we do that let us setup some local directory structure so that that the results can be checked in into the repo."
      ],
      "metadata": {
        "nteract": {
          "transient": {
            "deleting": false
          }
        }
      }
    },
    {
      "cell_type": "code",
      "source": [
        "## create a directory called data/plots and data/csv to save generated data\n",
        "import os\n",
        "PLOT_DIR = os.path.join(\"Users/aem303/data\", \"plots\")\n",
        "CSV_DIR = os.path.join(\"Users/aem303/data\", \"csv\")\n",
        "os.makedirs(PLOT_DIR, exist_ok=True)\n",
        "os.makedirs(CSV_DIR, exist_ok=True)"
      ],
      "outputs": [
        {
          "output_type": "display_data",
          "data": {
            "application/vnd.livy.statement-meta+json": {
              "spark_pool": "cf47b043-0c98-4514-b15a-1e3237e3aed3",
              "session_id": "23",
              "statement_id": 8,
              "state": "finished",
              "livy_statement_state": "available",
              "queued_time": "2023-10-17T22:00:03.9433325Z",
              "session_start_time": null,
              "execution_start_time": "2023-10-17T22:00:04.0232527Z",
              "execution_finish_time": "2023-10-17T22:00:06.6846616Z",
              "spark_jobs": {
                "numbers": {
                  "RUNNING": 0,
                  "UNKNOWN": 0,
                  "SUCCEEDED": 0,
                  "FAILED": 0
                },
                "jobs": [],
                "limit": 20,
                "rule": "ALL_DESC"
              },
              "parent_msg_id": "fab29b9b-16d3-4818-8662-01e2aaf7fbaa"
            },
            "text/plain": "StatementMeta(cf47b043-0c98-4514-b15a-1e3237e3aed3, 23, 8, Finished, Available)"
          },
          "metadata": {}
        }
      ],
      "execution_count": 3,
      "metadata": {
        "jupyter": {
          "source_hidden": false,
          "outputs_hidden": false
        },
        "nteract": {
          "transient": {
            "deleting": false
          }
        },
        "gather": {
          "logged": 1697580006297
        }
      }
    },
    {
      "cell_type": "markdown",
      "source": [
        "### How many subreddits are there and which are the more popular ones\n",
        "\n",
        "One of the first questions we can ask is how many subreddits are there and which ones are the top 10 based on the number of submissions."
      ],
      "metadata": {
        "nteract": {
          "transient": {
            "deleting": false
          }
        }
      }
    },
    {
      "cell_type": "code",
      "source": [
        "from pyspark.sql.functions import col, asc,desc\n",
        "submissions_by_subreddit = submissions_df.groupBy(\"subreddit\").count().orderBy(col(\"count\"), ascending=False).collect()"
      ],
      "outputs": [
        {
          "output_type": "display_data",
          "data": {
            "application/vnd.livy.statement-meta+json": {
              "spark_pool": "cf47b043-0c98-4514-b15a-1e3237e3aed3",
              "session_id": "22",
              "statement_id": 26,
              "state": "finished",
              "livy_statement_state": "available",
              "queued_time": "2023-10-17T03:25:34.8016529Z",
              "session_start_time": null,
              "execution_start_time": "2023-10-17T03:25:34.8846838Z",
              "execution_finish_time": "2023-10-17T03:29:07.6234548Z",
              "spark_jobs": {
                "numbers": {
                  "FAILED": 0,
                  "SUCCEEDED": 4,
                  "UNKNOWN": 0,
                  "RUNNING": 0
                },
                "jobs": [
                  {
                    "displayName": "collect at /tmp/ipykernel_8218/2599807449.py:2",
                    "dataWritten": 0,
                    "dataRead": 169525072,
                    "rowCount": 8333459,
                    "usageDescription": "",
                    "jobId": 21,
                    "name": "collect at /tmp/ipykernel_8218/2599807449.py:2",
                    "description": "Job group for statement 26:\nfrom pyspark.sql.functions import col, asc,desc\nsubmissions_by_subreddit = submissions_df.groupBy(\"subreddit\").count().orderBy(col(\"count\"), ascending=False).collect()",
                    "submissionTime": "2023-10-17T03:28:32.138GMT",
                    "completionTime": "2023-10-17T03:28:35.146GMT",
                    "stageIds": [
                      30,
                      31,
                      29
                    ],
                    "jobGroup": "26",
                    "status": "SUCCEEDED",
                    "numTasks": 3158,
                    "numActiveTasks": 0,
                    "numCompletedTasks": 11,
                    "numSkippedTasks": 3147,
                    "numFailedTasks": 0,
                    "numKilledTasks": 0,
                    "numCompletedIndices": 11,
                    "numActiveStages": 0,
                    "numCompletedStages": 1,
                    "numSkippedStages": 2,
                    "numFailedStages": 0,
                    "killedTasksSummary": {}
                  },
                  {
                    "displayName": "collect at /tmp/ipykernel_8218/2599807449.py:2",
                    "dataWritten": 169525072,
                    "dataRead": 3648893434,
                    "rowCount": 169165084,
                    "usageDescription": "",
                    "jobId": 20,
                    "name": "collect at /tmp/ipykernel_8218/2599807449.py:2",
                    "description": "Job group for statement 26:\nfrom pyspark.sql.functions import col, asc,desc\nsubmissions_by_subreddit = submissions_df.groupBy(\"subreddit\").count().orderBy(col(\"count\"), ascending=False).collect()",
                    "submissionTime": "2023-10-17T03:28:25.650GMT",
                    "completionTime": "2023-10-17T03:28:32.065GMT",
                    "stageIds": [
                      27,
                      28
                    ],
                    "jobGroup": "26",
                    "status": "SUCCEEDED",
                    "numTasks": 3147,
                    "numActiveTasks": 0,
                    "numCompletedTasks": 67,
                    "numSkippedTasks": 3080,
                    "numFailedTasks": 0,
                    "numKilledTasks": 0,
                    "numCompletedIndices": 67,
                    "numActiveStages": 0,
                    "numCompletedStages": 1,
                    "numSkippedStages": 1,
                    "numFailedStages": 0,
                    "killedTasksSummary": {}
                  },
                  {
                    "displayName": "collect at /tmp/ipykernel_8218/2599807449.py:2",
                    "dataWritten": 0,
                    "dataRead": 3648893434,
                    "rowCount": 160831625,
                    "usageDescription": "",
                    "jobId": 19,
                    "name": "collect at /tmp/ipykernel_8218/2599807449.py:2",
                    "description": "Job group for statement 26:\nfrom pyspark.sql.functions import col, asc,desc\nsubmissions_by_subreddit = submissions_df.groupBy(\"subreddit\").count().orderBy(col(\"count\"), ascending=False).collect()",
                    "submissionTime": "2023-10-17T03:28:16.767GMT",
                    "completionTime": "2023-10-17T03:28:25.548GMT",
                    "stageIds": [
                      25,
                      26
                    ],
                    "jobGroup": "26",
                    "status": "SUCCEEDED",
                    "numTasks": 3147,
                    "numActiveTasks": 0,
                    "numCompletedTasks": 67,
                    "numSkippedTasks": 3080,
                    "numFailedTasks": 0,
                    "numKilledTasks": 0,
                    "numCompletedIndices": 67,
                    "numActiveStages": 0,
                    "numCompletedStages": 1,
                    "numSkippedStages": 1,
                    "numFailedStages": 0,
                    "killedTasksSummary": {}
                  },
                  {
                    "displayName": "collect at /tmp/ipykernel_8218/2599807449.py:2",
                    "dataWritten": 3648893434,
                    "dataRead": 7532769086,
                    "rowCount": 1052992446,
                    "usageDescription": "",
                    "jobId": 18,
                    "name": "collect at /tmp/ipykernel_8218/2599807449.py:2",
                    "description": "Job group for statement 26:\nfrom pyspark.sql.functions import col, asc,desc\nsubmissions_by_subreddit = submissions_df.groupBy(\"subreddit\").count().orderBy(col(\"count\"), ascending=False).collect()",
                    "submissionTime": "2023-10-17T03:25:35.528GMT",
                    "completionTime": "2023-10-17T03:28:16.593GMT",
                    "stageIds": [
                      24
                    ],
                    "jobGroup": "26",
                    "status": "SUCCEEDED",
                    "numTasks": 3080,
                    "numActiveTasks": 0,
                    "numCompletedTasks": 3080,
                    "numSkippedTasks": 0,
                    "numFailedTasks": 0,
                    "numKilledTasks": 0,
                    "numCompletedIndices": 3080,
                    "numActiveStages": 0,
                    "numCompletedStages": 1,
                    "numSkippedStages": 0,
                    "numFailedStages": 0,
                    "killedTasksSummary": {}
                  }
                ],
                "limit": 20,
                "rule": "ALL_DESC"
              },
              "parent_msg_id": "1de8ab4f-ac1c-4753-9339-4d455f7eb8c2"
            },
            "text/plain": "StatementMeta(cf47b043-0c98-4514-b15a-1e3237e3aed3, 22, 26, Finished, Available)"
          },
          "metadata": {}
        }
      ],
      "execution_count": 21,
      "metadata": {
        "jupyter": {
          "source_hidden": false,
          "outputs_hidden": false
        },
        "nteract": {
          "transient": {
            "deleting": false
          }
        },
        "gather": {
          "logged": 1697513347341
        }
      }
    },
    {
      "cell_type": "code",
      "source": [
        "submissions_by_subreddit"
      ],
      "outputs": [
        {
          "output_type": "display_data",
          "data": {
            "application/vnd.livy.statement-meta+json": {
              "spark_pool": "cf47b043-0c98-4514-b15a-1e3237e3aed3",
              "session_id": "22",
              "statement_id": 27,
              "state": "finished",
              "livy_statement_state": "available",
              "queued_time": "2023-10-17T03:25:38.449409Z",
              "session_start_time": null,
              "execution_start_time": "2023-10-17T03:29:07.6936725Z",
              "execution_finish_time": "2023-10-17T03:29:08.0461899Z",
              "spark_jobs": {
                "numbers": {
                  "FAILED": 0,
                  "SUCCEEDED": 0,
                  "UNKNOWN": 0,
                  "RUNNING": 0
                },
                "jobs": [],
                "limit": 20,
                "rule": "ALL_DESC"
              },
              "parent_msg_id": "bd9d3579-c31c-4960-8e7b-09ce07712094"
            },
            "text/plain": "StatementMeta(cf47b043-0c98-4514-b15a-1e3237e3aed3, 22, 27, Finished, Available)"
          },
          "metadata": {}
        },
        {
          "output_type": "execute_result",
          "execution_count": 53,
          "data": {
            "text/plain": "[Row(subreddit='AskReddit', count=8502376),\n Row(subreddit='FreeKarma4U', count=4762030),\n Row(subreddit='dirtykikpals', count=4301872),\n Row(subreddit='GaySnapchat', count=3872262),\n Row(subreddit='dirtyr4r', count=3674829),\n Row(subreddit='memes', count=3107784),\n Row(subreddit='teenagers', count=3091696),\n Row(subreddit='jerkbudss', count=2484553),\n Row(subreddit='DirtySnapchat', count=2482436),\n Row(subreddit='AutoNewspaper', count=2247654),\n Row(subreddit='onlyfansgirls101', count=2156848),\n Row(subreddit='u_toronto_news', count=1918873),\n Row(subreddit='relationship_advice', count=1872758),\n Row(subreddit='MassiveCock', count=1810820),\n Row(subreddit='gonewild', count=1797077),\n Row(subreddit='dirtypenpals', count=1717879),\n Row(subreddit='wallstreetbets', count=1698103),\n Row(subreddit='cock', count=1665404),\n Row(subreddit='PokemonGoRaids', count=1657040),\n Row(subreddit='OnlyFansPromotions', count=1600455),\n Row(subreddit='FemBoys', count=1587264),\n Row(subreddit='PokemonGoFriends', count=1532861),\n Row(subreddit='NSFW_Tributes', count=1513809),\n Row(subreddit='FreeKarma4You', count=1441629),\n Row(subreddit='ratemycock', count=1390639),\n Row(subreddit='Slut', count=1376867),\n Row(subreddit='wifepictrading', count=1345750),\n Row(subreddit='Market76', count=1323621),\n Row(subreddit='needysluts', count=1304809),\n Row(subreddit='NoStupidQuestions', count=1274316),\n Row(subreddit='196', count=1269615),\n Row(subreddit='OnlyFans101', count=1240885),\n Row(subreddit='penis', count=1213179),\n Row(subreddit='naughtychicks', count=1114020),\n Row(subreddit='WickrFinder', count=1096435),\n Row(subreddit='boobs', count=1060233),\n Row(subreddit='dogecoin', count=1052048),\n Row(subreddit='cats', count=1024556),\n Row(subreddit='AmItheAsshole', count=1019063),\n Row(subreddit='CryptoCurrency', count=1008629),\n Row(subreddit='HentaiAndRoleplayy', count=998291),\n Row(subreddit='Showerthoughts', count=986102),\n Row(subreddit='chubby', count=985284),\n Row(subreddit='horny', count=979726),\n Row(subreddit='SluttyConfessions', count=977417),\n Row(subreddit='onlyfanshottest', count=961126),\n Row(subreddit='GaybrosGoneWild', count=958385),\n Row(subreddit='aww', count=956197),\n Row(subreddit='shitposting', count=931140),\n Row(subreddit='DadWouldBeProud', count=918720),\n Row(subreddit='AdorableOnlyfans', count=904600),\n Row(subreddit='Minecraft', count=903622),\n Row(subreddit='KGBTR', count=890884),\n Row(subreddit='amihot', count=885214),\n Row(subreddit='BreedingMaterial', count=883831),\n Row(subreddit='Advice', count=880375),\n Row(subreddit='news', count=868430),\n Row(subreddit='Superstonk', count=866178),\n Row(subreddit='Sissies', count=859597),\n Row(subreddit='gaming', count=852968),\n Row(subreddit='ksi', count=830778),\n Row(subreddit='funny', count=830550),\n Row(subreddit='Slutsofonlyfans', count=829079),\n Row(subreddit='Eldenring', count=827345),\n Row(subreddit='NaughtyOnlyfans', count=826286),\n Row(subreddit='Roleplaybuddy', count=820622),\n Row(subreddit='dankmemes', count=819690),\n Row(subreddit='InspirobotBot', count=803555),\n Row(subreddit='Nude_Selfie', count=794881),\n Row(subreddit='SluttyOnlyfans', count=766284),\n Row(subreddit='Sexsells', count=751294),\n Row(subreddit='unpopularopinion', count=728869),\n Row(subreddit='TranscribersOfReddit', count=728103),\n Row(subreddit='slutsofsnapchat', count=721766),\n Row(subreddit='UltraAlgo', count=719252),\n Row(subreddit='pussy', count=692987),\n Row(subreddit='pcmasterrace', count=686015),\n Row(subreddit='u_news247planet', count=684411),\n Row(subreddit='Genshin_Impact', count=676233),\n Row(subreddit='apexlegends', count=673215),\n Row(subreddit='rapefantasies', count=671396),\n Row(subreddit='pics', count=669721),\n Row(subreddit='onlyfanschicks', count=666244),\n Row(subreddit='phr4r', count=665841),\n Row(subreddit='videos', count=659540),\n Row(subreddit='Sissykik2', count=654818),\n Row(subreddit='cumtributes', count=648815),\n Row(subreddit='offmychest', count=646108),\n Row(subreddit='r4r', count=640062),\n Row(subreddit='ShadowBan', count=637564),\n Row(subreddit='OnlyfansAmateurs', count=635644),\n Row(subreddit='BBW', count=629047),\n Row(subreddit='Nudes', count=627421),\n Row(subreddit='MakeNewFriendsHere', count=625563),\n Row(subreddit='GoneWildOnlyfans', count=624488),\n Row(subreddit='OnlyfansXXX', count=623484),\n Row(subreddit='ladybonersgw', count=621464),\n Row(subreddit='curvy', count=619584),\n Row(subreddit='AskDocs', count=612173),\n Row(subreddit='xsmallgirls', count=608826),\n Row(subreddit='IRLgirls', count=603754),\n Row(subreddit='polls', count=588117),\n Row(subreddit='FashionReps', count=584857),\n Row(subreddit='collegesluts', count=581081),\n Row(subreddit='amcstock', count=578249),\n Row(subreddit='buildapc', count=577093),\n Row(subreddit='HotOnlyfans', count=575500),\n Row(subreddit='selfie', count=574314),\n Row(subreddit='Music', count=573223),\n Row(subreddit='ass', count=567356),\n Row(subreddit='GayKik', count=566058),\n Row(subreddit='Repsneakers', count=562837),\n Row(subreddit='OnlyFansAsstastic', count=562673),\n Row(subreddit='JuicyOnlyfans', count=559048),\n Row(subreddit='onlynudechicks', count=558378),\n Row(subreddit='booty_queens', count=556169),\n Row(subreddit='MeetPeople', count=554198),\n Row(subreddit='NoFap', count=551191),\n Row(subreddit='FortNiteBR', count=551156),\n Row(subreddit='PraiseToddHoward', count=548276),\n Row(subreddit='GOONED', count=548256),\n Row(subreddit='worldnews', count=545826),\n Row(subreddit='pornID', count=545115),\n Row(subreddit='ThickDick', count=545111),\n Row(subreddit='Onlyfans_Promo', count=537139),\n Row(subreddit='naturaltitties', count=536205),\n Row(subreddit='GunAccessoriesForSale', count=534441),\n Row(subreddit='feetpics', count=533724),\n Row(subreddit='SnapchatSext', count=530222),\n Row(subreddit='bigasses', count=529242),\n Row(subreddit='coinmarketbag', count=525477),\n Row(subreddit='ThickThighs', count=522690),\n Row(subreddit='tipofmytongue', count=522422),\n Row(subreddit='relationships', count=520007),\n Row(subreddit='onlyfansprom', count=516407),\n Row(subreddit='RLCustomDesigns', count=512436),\n Row(subreddit='Art', count=511115),\n Row(subreddit='techsupport', count=507743),\n Row(subreddit='CryptoCurrencyClassic', count=507463),\n Row(subreddit='udemyfreebies', count=502155),\n Row(subreddit='DadsAndBoys', count=500320),\n Row(subreddit='knockmeup', count=498843),\n Row(subreddit='BigBoobsGW', count=498564),\n Row(subreddit='DirtySocialMedia', count=494712),\n Row(subreddit='HolUp', count=494377),\n Row(subreddit='TrueOffMyChest', count=491817),\n Row(subreddit='leagueoflegends', count=488733),\n Row(subreddit='AskMen', count=487407),\n Row(subreddit='DirtyChatPals', count=482556),\n Row(subreddit='conspiracy', count=481938),\n Row(subreddit='LegalTeens', count=478333),\n Row(subreddit='JerkBuds', count=477320),\n Row(subreddit='CryptoMars', count=473573),\n Row(subreddit='adorableporn', count=469701),\n Row(subreddit='legaladvice', count=466058),\n Row(subreddit='DirtyKIKRoleplay', count=460435),\n Row(subreddit='twinks', count=455783),\n Row(subreddit='latinas', count=454204),\n Row(subreddit='GirlsGW', count=451674),\n Row(subreddit='SocialMediachicks', count=451596),\n Row(subreddit='RoyaleHighTrading', count=448624),\n Row(subreddit='CryptoMoonShots', count=447004),\n Row(subreddit='booty', count=444717),\n Row(subreddit='thickwhitegirls', count=443189),\n Row(subreddit='antiwork', count=441888),\n Row(subreddit='Brawlstars', count=440580),\n Row(subreddit='Stacked', count=436488),\n Row(subreddit='SmallCutie', count=436206),\n Row(subreddit='meme', count=434459),\n Row(subreddit='Justice_Served', count=433937),\n Row(subreddit='deadbydaylight', count=433750),\n Row(subreddit='newsbotbot', count=432882),\n Row(subreddit='sex', count=431570),\n Row(subreddit='ico', count=429453),\n Row(subreddit='cryptostreetbets', count=427434),\n Row(subreddit='barelylegalteens', count=426408),\n Row(subreddit='Wallstreetsilver', count=426177),\n Row(subreddit='pokemongo', count=417475),\n Row(subreddit='RocketLeagueExchange', count=415833),\n Row(subreddit='jobboardsearch', count=405376),\n Row(subreddit='anime', count=404298),\n Row(subreddit='dalewilson', count=403731),\n Row(subreddit='SuicideWatch', count=403017),\n Row(subreddit='Babes', count=397810),\n Row(subreddit='politics', count=396757),\n Row(subreddit='DadsGoneWild', count=395715),\n Row(subreddit='depression', count=395510),\n Row(subreddit='teenagersbutpog', count=393689),\n Row(subreddit='whooties', count=392308),\n Row(subreddit='mildlyinfuriating', count=392057),\n Row(subreddit='VALORANT', count=391354),\n Row(subreddit='TrendingQuickTVnews', count=389450),\n Row(subreddit='cursedcomments', count=387765),\n Row(subreddit='traps', count=387394),\n Row(subreddit='AthleticBabes', count=385731),\n Row(subreddit='gtaonline', count=384759),\n Row(subreddit='AdorableNudes', count=384521),\n Row(subreddit='movies', count=382085),\n Row(subreddit='NFTsMarketplace', count=380822),\n Row(subreddit='DestinyTheGame', count=379109),\n Row(subreddit='dating_advice', count=377944),\n Row(subreddit='bwc', count=369774),\n Row(subreddit='tipofmypenis', count=369514),\n Row(subreddit='hardwareswap', count=368214),\n Row(subreddit='nba', count=367725),\n Row(subreddit='AmateurGoneWildPlus', count=367292),\n Row(subreddit='CallOfDutyMobile', count=366513),\n Row(subreddit='OnlyFansPetite', count=366259),\n Row(subreddit='DiscordNudes', count=365287),\n Row(subreddit='InnocentlyNaughty', count=363349),\n Row(subreddit='soccer', count=362990),\n Row(subreddit='OnlyFansBusty', count=360873),\n Row(subreddit='promoteonlyfans', count=360557),\n Row(subreddit='hentai', count=360352),\n Row(subreddit='NFT', count=360147),\n Row(subreddit='fut', count=359511),\n Row(subreddit='FIFA', count=359291),\n Row(subreddit='Cuckik', count=358090),\n Row(subreddit='mildlyinteresting', count=358064),\n Row(subreddit='smallboobs', count=356005),\n Row(subreddit='Teencocks', count=355597),\n Row(subreddit='pokemon', count=355231),\n Row(subreddit='drawing', count=354198),\n Row(subreddit='ADHD', count=350518),\n Row(subreddit='Gonewild18', count=349695),\n Row(subreddit='socialhoes', count=348946),\n Row(subreddit='halo', count=347244),\n Row(subreddit='RandomActsOfBlowJob', count=345483),\n Row(subreddit='BDSMpersonals', count=345233),\n Row(subreddit='Conservative', count=344373),\n Row(subreddit='referralcodes', count=342573),\n Row(subreddit='TotalBabes', count=341739),\n Row(subreddit='GME', count=339372),\n Row(subreddit='boypussy', count=337117),\n Row(subreddit='asstastic', count=336845),\n Row(subreddit='Cuckold', count=336518),\n Row(subreddit='Nipples', count=335249),\n Row(subreddit='DFWcasualencounters', count=335036),\n Row(subreddit='weed', count=334854),\n Row(subreddit='india', count=334470),\n Row(subreddit='HornyAmateurGirls', count=332838),\n Row(subreddit='GachaClub', count=331192),\n Row(subreddit='RealGirls', count=331158),\n Row(subreddit='pokemontrades', count=330208),\n Row(subreddit='personalfinance', count=330101),\n Row(subreddit='TheThiccness', count=329382),\n Row(subreddit='DegradingHoles', count=329022),\n Row(subreddit='houseplants', count=327633),\n Row(subreddit='SatoshiBets', count=326464),\n Row(subreddit='DnD', count=325000),\n Row(subreddit='Sexy', count=324132),\n Row(subreddit='AskRedditAfterDark', count=322116),\n Row(subreddit='slutwife', count=319380),\n Row(subreddit='PewdiepieSubmissions', count=319373),\n Row(subreddit='Hololive', count=318884),\n Row(subreddit='AskWomen', count=315799),\n Row(subreddit='Phatasswhitegirls', count=315637),\n Row(subreddit='AllCryptoBets', count=315579),\n Row(subreddit='BoobsAndTities', count=315290),\n Row(subreddit='UnderwearGW', count=314105),\n Row(subreddit='naughtymediachicks', count=313281),\n Row(subreddit='OnePiece', count=311736),\n Row(subreddit='TooAfraidToAsk', count=311339),\n Row(subreddit='whatisthisthing', count=310592),\n Row(subreddit='SnapchatSextXXX', count=310242),\n Row(subreddit='Warthunder', count=308779),\n Row(subreddit='JizzedToThiss', count=305550),\n Row(subreddit='MadeMeSmile', count=304318),\n Row(subreddit='SkincareAddiction', count=303422),\n Row(subreddit='gothsluts', count=302179),\n Row(subreddit='DaughterTraining', count=299669),\n Row(subreddit='AdoptMeTrading', count=299434),\n Row(subreddit='NoFilterNews', count=297774),\n Row(subreddit='TributeRequests', count=297335),\n Row(subreddit='Overwatch', count=297011),\n Row(subreddit='Philippines', count=296825),\n Row(subreddit='lgbt', count=296459),\n Row(subreddit='EscapefromTarkov', count=295797),\n Row(subreddit='ClashRoyale', count=294647),\n Row(subreddit='Vent', count=294169),\n Row(subreddit='CollegeAmateurs', count=294010),\n Row(subreddit='RocketLeague', count=292146),\n Row(subreddit='asshole', count=291637),\n Row(subreddit='GreatView', count=291152),\n Row(subreddit='raceplay', count=291072),\n Row(subreddit='destiny2', count=289257),\n Row(subreddit='FridayNightFunkin', count=288524),\n Row(subreddit='CutCocks', count=288476),\n Row(subreddit='Balls', count=287363),\n Row(subreddit='itookapicture', count=286246),\n Row(subreddit='PerfectBody', count=285864),\n Row(subreddit='BBCsissies', count=284358),\n Row(subreddit='averagepenis', count=283687),\n Row(subreddit='food', count=283403),\n Row(subreddit='ThotNetwork', count=282609),\n Row(subreddit='PetiteGoneWild', count=281967),\n Row(subreddit='TwentyPlus', count=281430),\n Row(subreddit='FreeCompliments', count=281337),\n Row(subreddit='AnimalCrossing', count=280213),\n Row(subreddit='SHIBArmy', count=279682),\n Row(subreddit='HungryButts', count=278372),\n Row(subreddit='GetMoreViewsYT', count=277876),\n Row(subreddit='SafeMoon', count=277849),\n Row(subreddit='sissypersonals', count=277154),\n Row(subreddit='DirtySexyKikPals', count=276866),\n Row(subreddit='trees', count=276744),\n Row(subreddit='Desijobuds', count=276373),\n Row(subreddit='Ratemypussy', count=276037),\n Row(subreddit='SextingGW', count=275934),\n Row(subreddit='CODWarzone', count=274980),\n Row(subreddit='Aquariums', count=274974),\n Row(subreddit='manywords', count=274951),\n Row(subreddit='Tinder', count=274570),\n Row(subreddit='TheOnesYouLustOver', count=274420),\n Row(subreddit='SquaredCircle', count=274288),\n Row(subreddit='u_myanimeforlife', count=274001),\n Row(subreddit='CryptoMoonCoins', count=273972),\n Row(subreddit='GaySkype', count=273718),\n Row(subreddit='prettyaltgirls', count=273033),\n Row(subreddit='HotMoms', count=271254),\n Row(subreddit='NaughtyWives', count=270622),\n Row(subreddit='longtail', count=270525),\n Row(subreddit='wichsbrosDE', count=270214),\n Row(subreddit='NSFWGirl', count=269750),\n Row(subreddit='3Dprinting', count=269250),\n Row(subreddit='me_irl', count=268579),\n Row(subreddit='DirtyRedditChat', count=268374),\n Row(subreddit='gardening', count=268349),\n Row(subreddit='Unexpected', count=268222),\n Row(subreddit='shrooms', count=268032),\n Row(subreddit='interestingasfuck', count=267903),\n Row(subreddit='nsfw', count=267187),\n Row(subreddit='FeetLoversHeaven', count=267033),\n Row(subreddit='snapchat', count=266873),\n Row(subreddit='place', count=266478),\n Row(subreddit='furry', count=265089),\n Row(subreddit='BustyNaturals', count=264985),\n Row(subreddit='GaySnapchatImages', count=264874),\n Row(subreddit='FurryKikPals', count=264048),\n Row(subreddit='foreskin', count=263625),\n Row(subreddit='business', count=263487),\n Row(subreddit='BabesNSFW', count=262300),\n Row(subreddit='Mexico_Videos', count=262105),\n Row(subreddit='manga', count=261472),\n Row(subreddit='u_udemy_sample_bot', count=261211),\n Row(subreddit='CryptocurrencyICO', count=260748),\n Row(subreddit='ApplyingToCollege', count=260640),\n Row(subreddit='McrOne', count=260319),\n Row(subreddit='homegrowntits', count=260077),\n Row(subreddit='rule34', count=259922),\n Row(subreddit='WichsenDE', count=259123),\n Row(subreddit='SexyForSale', count=258746),\n Row(subreddit='OnlyFansBrunette', count=258515),\n Row(subreddit='funsized', count=257859),\n Row(subreddit='trans', count=256793),\n Row(subreddit='NaturalCurves', count=256748),\n Row(subreddit='MarsWallStreet', count=256366),\n Row(subreddit='GaySnapchatShare', count=256251),\n Row(subreddit='Sneakers', count=256072),\n Row(subreddit='softies', count=255556),\n Row(subreddit='Bitcoin', count=255184),\n Row(subreddit='Roleplaybuddy2', count=254888),\n Row(subreddit='NSFW_Social', count=254237),\n Row(subreddit='palegirls', count=253954),\n Row(subreddit='h3h3productions', count=253781),\n Row(subreddit='PokemonTCG', count=253598),\n Row(subreddit='SchoolgirlsXXX', count=253303),\n Row(subreddit='playboicarti', count=253053),\n Row(subreddit='2007scape', count=253011),\n Row(subreddit='gaynsfw', count=252450),\n Row(subreddit='Feet_NSFW', count=252225),\n Row(subreddit='BonerMaterial', count=251392),\n Row(subreddit='FetishLife', count=250204),\n Row(subreddit='DmMePorn', count=249121),\n Row(subreddit='kiksextingg', count=249028),\n Row(subreddit='mentalhealth', count=248450),\n Row(subreddit='sellingnudesxx', count=247823),\n Row(subreddit='whatsthisbug', count=247113),\n Row(subreddit='explainlikeimfive', count=246592),\n Row(subreddit='ukraine', count=246324),\n Row(subreddit='nsfw_gifs', count=245634),\n Row(subreddit='Warhammer40k', count=245552),\n Row(subreddit='CougarsForCubs', count=245355),\n Row(subreddit='Watches', count=245312),\n Row(subreddit='Jokes', count=245288),\n Row(subreddit='GoneWildCD', count=245169),\n Row(subreddit='mechmarket', count=244742),\n Row(subreddit='Amazon_Deals____', count=244093),\n Row(subreddit='RealCute', count=244014),\n Row(subreddit='plantclinic', count=243587),\n Row(subreddit='AdvertiseYourVideos', count=243514),\n Row(subreddit='femboy', count=242916),\n Row(subreddit='amateur_milfs', count=242530),\n Row(subreddit='cockheadlovers', count=242101),\n Row(subreddit='nfl', count=241492),\n Row(subreddit='BigAss', count=240881),\n Row(subreddit='MechanicalKeyboards', count=240255),\n Row(subreddit='fnafpornrp', count=239694),\n Row(subreddit='altgonewild', count=238792),\n Row(subreddit='BreakUps', count=238107),\n Row(subreddit='MechanicAdvice', count=237765),\n Row(subreddit='formula1', count=237106),\n Row(subreddit='normalnudes', count=237006),\n Row(subreddit='burstingout', count=236765),\n Row(subreddit='milf', count=236299),\n Row(subreddit='BustyPetite', count=235961),\n Row(subreddit='blender', count=235365),\n Row(subreddit='MasturbationGoneWild', count=235334),\n Row(subreddit='PoliticalHumor', count=234970),\n Row(subreddit='WhitePeopleTwitter', count=234086),\n Row(subreddit='CamSluts', count=233825),\n Row(subreddit='WetPussys', count=233182),\n Row(subreddit='Christianity', count=232640),\n Row(subreddit='brasil', count=231842),\n Row(subreddit='assinthong', count=231505),\n Row(subreddit='tf2', count=230995),\n Row(subreddit='myanimeforlife', count=230891),\n Row(subreddit='TeenBeauties', count=230685),\n Row(subreddit='desabafos', count=230203),\n Row(subreddit='ask', count=229761),\n Row(subreddit='petite', count=229032),\n Row(subreddit='18nsfw', count=228829),\n Row(subreddit='cocaine', count=228371),\n Row(subreddit='Damnthatsinteresting', count=226908),\n Row(subreddit='DotA2', count=226205),\n Row(subreddit='teenagersnew', count=225785),\n Row(subreddit='SmallYoutubers', count=225459),\n Row(subreddit='gayporn', count=225190),\n Row(subreddit='BrandonDE', count=224661),\n Row(subreddit='YouTube_startups', count=224226),\n Row(subreddit='Sims4', count=224192),\n Row(subreddit='F4M1', count=223274),\n Row(subreddit='exxxchange', count=222932),\n Row(subreddit='baseballcards', count=222392),\n Row(subreddit='Onlyfanspromoss', count=222086),\n Row(subreddit='HoustonNSFW', count=221764),\n Row(subreddit='NoMansSkyTheGame', count=221635),\n Row(subreddit='Onlyfanspromotion', count=221484),\n Row(subreddit='Sissy_humiliation', count=221147),\n Row(subreddit='Terraria', count=221004),\n Row(subreddit='BubbleButts', count=220696),\n Row(subreddit='nextfuckinglevel', count=220090),\n Row(subreddit='SexyTummies', count=219861),\n Row(subreddit='mombod', count=219281),\n Row(subreddit='maturemilf', count=219223),\n Row(subreddit='Rainbow6', count=219082),\n Row(subreddit='redscarepod', count=218023),\n Row(subreddit='tiktokthots', count=217598),\n Row(subreddit='TinyTits', count=217434),\n Row(subreddit='PoliticalCompassMemes', count=216867),\n Row(subreddit='GoneWildTrans', count=216804),\n Row(subreddit='jerkofftoceleb', count=216108),\n Row(subreddit='youtube', count=215582),\n Row(subreddit='StraightToSissy', count=215402),\n Row(subreddit='marvelstudios', count=215116),\n Row(subreddit='HistoryMemes', count=215049),\n Row(subreddit='askscience', count=215045),\n Row(subreddit='jerkbudsssssss', count=214658),\n Row(subreddit='phnewsfeed', count=214096),\n Row(subreddit='BestDealsOfTheDay_', count=213995),\n Row(subreddit='TikTokNude', count=213954),\n Row(subreddit='hotclub', count=213873),\n Row(subreddit='ClashOfClans', count=213807),\n Row(subreddit='formuladank', count=213717),\n Row(subreddit='UnsentLetters', count=213378),\n Row(subreddit='swingersr4r', count=213363),\n Row(subreddit='roblox', count=213287),\n Row(subreddit='ButtsAndBareFeet', count=213215),\n Row(subreddit='DeathBattleMatchups', count=212666),\n Row(subreddit='nsfwhardcore', count=212640),\n Row(subreddit='Kanye', count=212603),\n Row(subreddit='askgaybros', count=212434),\n Row(subreddit='lego', count=211880),\n Row(subreddit='dating', count=211861),\n Row(subreddit='gonewild30plus', count=211390),\n Row(subreddit='BiCuriousGuysChat', count=211357),\n Row(subreddit='SnapchatDirtySext', count=211107),\n Row(subreddit='airsoft', count=211056),\n Row(subreddit='HomeImprovement', count=210926),\n Row(subreddit='WomenBendingOver', count=210499),\n Row(subreddit='Anxiety', count=209701),\n Row(subreddit='ModernWarfareII', count=209432),\n Row(subreddit='thick', count=208704),\n Row(subreddit='skyrim', count=208402),\n Row(subreddit='MandJTV', count=208385),\n Row(subreddit='TotalPackage', count=208160),\n Row(subreddit='PrequelMemes', count=208092),\n Row(subreddit='TittyDrop', count=208014),\n Row(subreddit='microgrowery', count=207760),\n Row(subreddit='FreeOnlyFansPromotion', count=207698),\n Row(subreddit='KikRoleplay', count=207497),\n Row(subreddit='ChurchOfTheBBC', count=207487),\n Row(subreddit='crossdressing', count=207089),\n Row(subreddit='discordapp', count=206087),\n Row(subreddit='ffxiv', count=205556),\n Row(subreddit='fivenightsatfreddys', count=205356),\n Row(subreddit='LivestreamFail', count=205179),\n Row(subreddit='MONSTERCOCKS', count=205000),\n Row(subreddit='FertileGirls', count=204456),\n Row(subreddit='cuteonlyfans', count=203925),\n Row(subreddit='europe', count=203489),\n Row(subreddit='GuysFromBehind', count=203152),\n Row(subreddit='PetiteTits', count=203057),\n Row(subreddit='cumsluts', count=201990),\n Row(subreddit='CryptoMoon', count=200766),\n Row(subreddit='TwoSentenceHorror', count=200664),\n Row(subreddit='Needafriend', count=200420),\n Row(subreddit='softwaregore', count=199993),\n Row(subreddit='CamGirls', count=198363),\n Row(subreddit='PetiteNSFW', count=197967),\n Row(subreddit='wow', count=197920),\n Row(subreddit='bodyperfection', count=197346),\n Row(subreddit='ForzaHorizon', count=196145),\n Row(subreddit='BeyondTheFog', count=195860),\n Row(subreddit='DemocraticUnderground', count=195617),\n Row(subreddit='Drugs', count=195553),\n Row(subreddit='golf', count=195089),\n Row(subreddit='CockTributes', count=194835),\n Row(subreddit='AsiansGoneWild', count=194507),\n Row(subreddit='StarWars', count=194306),\n Row(subreddit='IndianDankMemes', count=193707),\n Row(subreddit='todayilearned', count=193445),\n Row(subreddit='ireland', count=192580),\n Row(subreddit='travel', count=192479),\n Row(subreddit='u_celebnationofficial', count=192026),\n Row(subreddit='ratemyboobs', count=191899),\n Row(subreddit='YoungGirlsGoneWild', count=191165),\n Row(subreddit='hiphopheads', count=191097),\n Row(subreddit='Bulges', count=191012),\n Row(subreddit='analog', count=190971),\n Row(subreddit='tits', count=190901),\n Row(subreddit='HelpMeFind', count=190375),\n Row(subreddit='PublicFreakout', count=189935),\n Row(subreddit='newsdk', count=189809),\n Row(subreddit='facepalm', count=189401),\n Row(subreddit='bigareolas', count=189330),\n Row(subreddit='ethtrader', count=188122),\n Row(subreddit='straightturnedgay', count=187828),\n Row(subreddit='B_Cups', count=187424),\n Row(subreddit='WallStreetbetsELITE', count=187191),\n Row(subreddit='playstation', count=187145),\n Row(subreddit='opensea', count=187040),\n Row(subreddit='tipofmyjoystick', count=186785),\n Row(subreddit='Floridar4r', count=186718),\n Row(subreddit='SummonSign', count=186660),\n Row(subreddit='bigtiddygothgf', count=186571),\n Row(subreddit='FootFetish', count=186368),\n Row(subreddit='fitgirls', count=186345),\n Row(subreddit='Slutzys', count=186277),\n Row(subreddit='Guitar', count=185928),\n Row(subreddit='FitNakedGirls', count=185762),\n Row(subreddit='Watchexchange', count=185751),\n Row(subreddit='YoungGuysGoneWild', count=185611),\n Row(subreddit='pathofexile', count=185423),\n Row(subreddit='cyberpunkgame', count=185278),\n Row(subreddit='shavedpussies', count=185045),\n Row(subreddit='StockTradingIdeas', count=184472),\n Row(subreddit='BruceDropEmOff', count=184052),\n Row(subreddit='StardewValley', count=183767),\n Row(subreddit='FreeOnlyFansPage', count=183359),\n Row(subreddit='OnlyFans_NonNude', count=183177),\n Row(subreddit='NameThatSong', count=182767),\n Row(subreddit='Chiraqology', count=182423),\n Row(subreddit='whowouldwin', count=182222),\n Row(subreddit='WifeWantstoPlay', count=182154),\n Row(subreddit='PatchesEmporium', count=182037),\n Row(subreddit='GodPussy', count=181930),\n Row(subreddit='CelebRoleplay', count=181737),\n Row(subreddit='technology', count=181596),\n Row(subreddit='help', count=181145),\n Row(subreddit='OldSchoolCool', count=180905),\n Row(subreddit='FoodPorn', count=180504),\n Row(subreddit='doordash_drivers', count=179577),\n Row(subreddit='dadjokes', count=179522),\n Row(subreddit='broslikeus', count=179251),\n Row(subreddit='RandomActsOfMuffDive', count=179133),\n Row(subreddit='ufc', count=178638),\n Row(subreddit='raisedbynarcissists', count=178540),\n Row(subreddit='NANIKPosting', count=178420),\n Row(subreddit='okbuddyretard', count=178381),\n Row(subreddit='VerifiedAmateurs', count=178115),\n Row(subreddit='ich_iel', count=177872),\n Row(subreddit='VerifiedFeet', count=177554),\n Row(subreddit='BonerAlert', count=177471),\n Row(subreddit='LiminalSpace', count=177307),\n Row(subreddit='jobs', count=177223),\n Row(subreddit='Genshin_Memepact', count=177059),\n Row(subreddit='battlefield2042', count=177008),\n Row(subreddit='YouTubeSubscribeBoost', count=176834),\n Row(subreddit='IWantToBeHerHentai2', count=176726),\n Row(subreddit='stopdrinking', count=176614),\n Row(subreddit='youtubepromotion', count=176373),\n Row(subreddit='BicuriousGuysChatNew', count=176271),\n Row(subreddit='ForeverAloneDating', count=176259),\n Row(subreddit='porn', count=175725),\n Row(subreddit='Feetishh', count=175283),\n Row(subreddit='blursedimages', count=175004),\n Row(subreddit='AlphaMalePorn', count=174175),\n Row(subreddit='Fantasy_Football', count=174140),\n Row(subreddit='gaymersgonewild', count=174086),\n Row(subreddit='PremiumCheeks', count=173603),\n Row(subreddit='OnlyFans101BrandNew', count=173464),\n Row(subreddit='Hotchickswithtattoos', count=173166),\n Row(subreddit='reddeadredemption', count=173071),\n Row(subreddit='CasualUK', count=173056),\n Row(subreddit='baseball', count=172875),\n Row(subreddit='crochet', count=172590),\n Row(subreddit='onlyfans_naked', count=172424),\n Row(subreddit='ftm', count=172275),\n Row(subreddit='SkinnyGirls', count=171964),\n Row(subreddit='obsf', count=171423),\n Row(subreddit='WritingPrompts', count=170996),\n Row(subreddit='btd6', count=170885),\n Row(subreddit='careerguidance', count=170831),\n Row(subreddit='giveaways', count=170001),\n Row(subreddit='piercing', count=169955),\n Row(subreddit='VirtualYoutubers', count=169916),\n Row(subreddit='FanslyFriends', count=169678),\n Row(subreddit='TheOwlHouse', count=169299),\n Row(subreddit='BotDefense', count=168988),\n Row(subreddit='HUEstation', count=168878),\n Row(subreddit='newsfeedmedia', count=168773),\n Row(subreddit='OnlyFansNaturallyHot', count=168617),\n Row(subreddit='shamelessplug', count=168548),\n Row(subreddit='TheTwitterFeed', count=168490),\n Row(subreddit='gaybears', count=167820),\n Row(subreddit='Animemes', count=167628),\n Row(subreddit='SpotifyPlaylists', count=166927),\n Row(subreddit='hugeboobs', count=166234),\n Row(subreddit='HairyPussy', count=165706),\n Row(subreddit='artcommissions', count=165672),\n Row(subreddit='RoleplayHentai', count=165328),\n Row(subreddit='dogs', count=164699),\n Row(subreddit='AskUK', count=164268),\n Row(subreddit='Entrepreneur', count=163899),\n Row(subreddit='BiMarriedMen', count=163371),\n Row(subreddit='copypasta', count=163329),\n Row(subreddit='UniversityGirls', count=163074),\n Row(subreddit='GoneMild', count=163020),\n Row(subreddit='CryptoCurrencyTrading', count=162680),\n Row(subreddit='OnOff', count=162570),\n Row(subreddit='meirl', count=162563),\n Row(subreddit='AMA', count=162510),\n Row(subreddit='worldpolitics', count=162475),\n Row(subreddit='usedpanties', count=162324),\n Row(subreddit='RateMyNudeBody', count=162267),\n Row(subreddit='AsianHotties', count=162219),\n Row(subreddit='deutschenfsw', count=162079),\n Row(subreddit='FapDeciders', count=161849),\n Row(subreddit='WrestlingBreakingNews', count=161449),\n Row(subreddit='OnlineAffairs', count=161421),\n Row(subreddit='Socalswingers', count=161411),\n Row(subreddit='listentothis', count=161386),\n Row(subreddit='couplesgonewild', count=161086),\n Row(subreddit='Incestconfessions', count=160949),\n Row(subreddit='shittyjobsforrobots', count=160917),\n Row(subreddit='fo76', count=160520),\n Row(subreddit='DragonballLegends', count=160194),\n Row(subreddit='autism', count=160191),\n Row(subreddit='freeusefamily', count=160025),\n Row(subreddit='NBA2k', count=159842),\n Row(subreddit='GayGermany', count=159737),\n Row(subreddit='MommyMaterial', count=159620),\n Row(subreddit='GayZoom', count=159376),\n Row(subreddit='funkopop', count=158543),\n Row(subreddit='RedditSessions', count=158457),\n Row(subreddit='DBZDokkanBattle', count=158420),\n Row(subreddit='CasualConversation', count=158357),\n Row(subreddit='promote', count=158142),\n Row(subreddit='confessions', count=158042),\n Row(subreddit='chastity', count=157244),\n Row(subreddit='ToR_Archive', count=157074),\n Row(subreddit='titanfolk', count=156798),\n Row(subreddit='AlertVegas', count=156581),\n Row(subreddit='whatsthisplant', count=156581),\n Row(subreddit='SteamDeck', count=156026),\n Row(subreddit='books', count=155390),\n Row(subreddit='FOXauto', count=154995),\n Row(subreddit='snapchatsextx', count=154569),\n Row(subreddit='stocks', count=153986),\n Row(subreddit='AmateurSlutWives', count=153377),\n Row(subreddit='drreads', count=153241),\n Row(subreddit='HotWheels', count=153175),\n Row(subreddit='SexRoleplay', count=152931),\n Row(subreddit='de', count=152759),\n Row(subreddit='DeutscheNSFW', count=152396),\n Row(subreddit='Celebhub', count=152310),\n Row(subreddit='chicagor4r', count=152286),\n Row(subreddit='Warframe', count=152261),\n Row(subreddit='ContentCreatorHub', count=152227),\n Row(subreddit='traaaaaaannnnnnnnnns', count=152085),\n Row(subreddit='danganronpa', count=151923),\n Row(subreddit='ARK', count=151693),\n Row(subreddit='hmmm', count=151620),\n Row(subreddit='liveadultcamsnow', count=151613),\n Row(subreddit='kpop', count=151537),\n Row(subreddit='cockcompare', count=151345),\n Row(subreddit='TheNewsFeed', count=151334),\n Row(subreddit='SnapchatSextss', count=151277),\n Row(subreddit='OnlyFansBlonde', count=151273),\n Row(subreddit='men_in_panties', count=151167),\n Row(subreddit='PersonalFinanceCanada', count=150930),\n Row(subreddit='sportsbetting', count=150731),\n Row(subreddit='MADFUT', count=150580),\n Row(subreddit='SlimThick', count=150358),\n Row(subreddit='OnlyIfShesPackin', count=150282),\n Row(subreddit='AskOuija', count=150047),\n Row(subreddit='gonewildcouples', count=149829),\n Row(subreddit='pawg', count=149731),\n Row(subreddit='Amateur', count=149395),\n Row(subreddit='lonely', count=149200),\n Row(subreddit='DealAndSale', count=148938),\n Row(subreddit='medical', count=148772),\n Row(subreddit='SatoshiStreetBets', count=148556),\n Row(subreddit='CryptoMoonRocks', count=148275),\n Row(subreddit='Naruto', count=148262),\n Row(subreddit='PS5', count=148151),\n Row(subreddit='PokemonSwordAndShield', count=148135),\n Row(subreddit='FingMemes', count=148060),\n Row(subreddit='cscareerquestions', count=147990),\n Row(subreddit='dadbod', count=147955),\n Row(subreddit='PornCum', count=147891),\n Row(subreddit='cocainegonewild', count=147866),\n Row(subreddit='transformers', count=147713),\n Row(subreddit='Memes_Of_The_Dank', count=147615),\n Row(subreddit='CallOfDuty', count=147267),\n Row(subreddit='SaintRampalJi', count=147218),\n Row(subreddit='UkrainianConflict', count=146913),\n Row(subreddit='technicallythetruth', count=146826),\n Row(subreddit='free_homework_answers', count=146806),\n Row(subreddit='HungryArtists', count=146781),\n Row(subreddit='Faces', count=146577),\n Row(subreddit='The_Best_NSFW_GIFS', count=146472),\n Row(subreddit='MyTeam', count=146308),\n Row(subreddit='argentina', count=146088),\n Row(subreddit='LegalTeensGW', count=145629),\n Row(subreddit='keoXer', count=145343),\n Row(subreddit='ClashOfClansRecruit', count=145144),\n Row(subreddit='JessetcSubmissions', count=145125),\n Row(subreddit='420_Girls', count=145100),\n Row(subreddit='famiL', count=144856),\n Row(subreddit='Cryptopumping', count=144845),\n Row(subreddit='LifeProTips', count=144720),\n Row(subreddit='fuckdoll', count=144578),\n Row(subreddit='assholegonewild', count=144457),\n Row(subreddit='goodanimemes', count=144365),\n Row(subreddit='TransGoneWild', count=144356),\n Row(subreddit='Blowjobs', count=144262),\n Row(subreddit='dykesgonewild', count=144158),\n Row(subreddit='NaughtyRealGirls', count=143742),\n Row(subreddit='sph', count=143467),\n Row(subreddit='OnlyfansgirlS', count=143410),\n Row(subreddit='DigitalArt', count=143303),\n Row(subreddit='NintendoSwitch', count=143268),\n Row(subreddit='NoFeeAC', count=142943),\n Row(subreddit='pantyobsession', count=142873),\n Row(subreddit='rant', count=142825),\n Row(subreddit='CelebDPP', count=142799),\n Row(subreddit='MLBTheShow', count=142743),\n Row(subreddit='BPD', count=142724),\n Row(subreddit='tattoos', count=142564),\n Row(subreddit='cars', count=142182),\n Row(subreddit='ACTrade', count=142104),\n Row(subreddit='TwoXChromosomes', count=142024),\n Row(subreddit='BoobsBetweenArms', count=142015),\n Row(subreddit='woodworking', count=141970),\n Row(subreddit='australia', count=141929),\n Row(subreddit='lovense', count=141766),\n Row(subreddit='Romania', count=141387),\n Row(subreddit='18_19', count=141047),\n Row(subreddit='walmart', count=140924),\n Row(subreddit='france', count=140864),\n Row(subreddit='RedDeadOnline', count=140805),\n Row(subreddit='FtMPorn', count=140687),\n Row(subreddit='SelfPromotionYouTube', count=140637),\n Row(subreddit='lostarkgame', count=140594),\n Row(subreddit='sellingonline', count=140506),\n Row(subreddit='u_gilnarPlanet', count=140355),\n Row(subreddit='bigonewild', count=140109),\n Row(subreddit='AsianNSFW', count=139972),\n Row(subreddit='islam', count=139830),\n Row(subreddit='GlobalOffensive', count=139746),\n Row(subreddit='NYPOSTauto', count=139588),\n Row(subreddit='11hr11min', count=139444),\n Row(subreddit='clips', count=139353),\n Row(subreddit='MAAU', count=139239),\n Row(subreddit='medical_advice', count=139032),\n Row(subreddit='LSD', count=138993),\n Row(subreddit='IndiaSpeaks', count=138779),\n Row(subreddit='CoinTuta', count=138775),\n Row(subreddit='learnprogramming', count=138478),\n Row(subreddit='buyingcontent', count=138444),\n Row(subreddit='SpunHornyFun', count=138415),\n Row(subreddit='EGirls', count=138394),\n Row(subreddit='CryptoMarkets', count=138176),\n Row(subreddit='exmormon', count=138066),\n Row(subreddit='NewsfeedForWork', count=137993),\n Row(subreddit='splatoon', count=137928),\n Row(subreddit='gaybrosgonemild', count=137806),\n Row(subreddit='DickPics4Freedom', count=137654),\n Row(subreddit='Twitch_Startup', count=137543),\n Row(subreddit='BBWPussys', count=137419),\n Row(subreddit='Doggystyle_NSFW', count=137341),\n Row(subreddit='ShinyPokemon', count=137295),\n Row(subreddit='Feminization', count=137255),\n Row(subreddit='MtF', count=137129),\n Row(subreddit='lovemanga', count=137115),\n Row(subreddit='Milfie', count=137100),\n Row(subreddit='spotify', count=137087),\n Row(subreddit='Alopas_Alopas_Alopas', count=137005),\n Row(subreddit='phonesex', count=136749),\n Row(subreddit='HANITSYPRODUCTS', count=136353),\n Row(subreddit='nottheonion', count=136326),\n Row(subreddit='Youtubeviews', count=136240),\n Row(subreddit='GUARDIANauto', count=136203),\n Row(subreddit='cumfetish', count=135857),\n Row(subreddit='starcitizen', count=135784),\n Row(subreddit='borrow', count=135445),\n Row(subreddit='squishmallow', count=135407),\n Row(subreddit='couponPromocode', count=135224),\n Row(subreddit='blackcats', count=135195),\n Row(subreddit='footballmanagergames', count=135150),\n Row(subreddit='TORONTOSTARauto', count=135141),\n Row(subreddit='canada', count=135135),\n Row(subreddit='pregnant', count=135004),\n Row(subreddit='newworldgame', count=134969),\n Row(subreddit='FeetInYourFace', count=134755),\n Row(subreddit='tributemombods', count=134681),\n Row(subreddit='BSCMoonShots', count=134477),\n Row(subreddit='wholesomememes', count=134222),\n Row(subreddit='Fallout76Marketplace', count=134177),\n Row(subreddit='OnlyfansAddict', count=134057),\n Row(subreddit='SonicTheHedgehog', count=133994),\n Row(subreddit='Amazon__Deals_', count=133785),\n Row(subreddit='StonkFeed', count=133737),\n Row(subreddit='Rabbits', count=133663),\n Row(subreddit='bindingofisaac', count=133583),\n Row(subreddit='geometrydash', count=133467),\n Row(subreddit='lfg', count=133233),\n Row(subreddit='AgeGapPersonals', count=133232),\n Row(subreddit='aa_cups', count=133182),\n Row(subreddit='guns', count=133089),\n Row(subreddit='Fitness', count=133083),\n Row(subreddit='forhonor', count=133028),\n Row(subreddit='Affairs', count=132705),\n Row(subreddit='fantasyfootball', count=132627),\n Row(subreddit='suggestmeabook', count=132599),\n Row(subreddit='porn_gifs', count=132337),\n Row(subreddit='Parenting', count=131934),\n Row(subreddit='FUTMobile', count=131440),\n Row(subreddit='onlyfans_get_noticed', count=131358),\n Row(subreddit='commissions', count=131324),\n Row(subreddit='hookups101', count=131219),\n Row(subreddit='runescape', count=131097),\n Row(subreddit='ACNH_Twitter_Designs', count=130996),\n Row(subreddit='FatPussyLovers', count=130951),\n Row(subreddit='iphone', count=130858),\n Row(subreddit='CPTSD', count=130785),\n Row(subreddit='comics', count=130770),\n Row(subreddit='brasilivre', count=130733),\n Row(subreddit='Baking', count=130519),\n Row(subreddit='Destiny', count=130433),\n Row(subreddit='trapsarentgay', count=130399),\n Row(subreddit='Onlyfanssmallgirls', count=130003),\n Row(subreddit='AssofOnlyfans', count=129890),\n Row(subreddit='BisexualFantasy', count=129664),\n Row(subreddit='Undertale', count=129511),\n Row(subreddit='PNW_4_Adults', count=129476),\n Row(subreddit='MobileLegendsGame', count=129436),\n Row(subreddit='Games', count=129428),\n Row(subreddit='Titties', count=129175),\n Row(subreddit='DIY', count=129118),\n Row(subreddit='Warzone', count=128987),\n Row(subreddit='LssAutomation', count=128712),\n Row(subreddit='selfharm', count=128504),\n Row(subreddit='bootypetite', count=128360),\n Row(subreddit='Yologirlsnetwork', count=128152),\n Row(subreddit='vegan', count=128100),\n Row(subreddit='AlldayfuckNSFW', count=128040),\n Row(subreddit='notinteresting', count=128021),\n Row(subreddit='AskHistorians', count=127831),\n Row(subreddit='Seaofthieves', count=127786),\n Row(subreddit='college', count=127736),\n Row(subreddit='hearthstone', count=127682),\n Row(subreddit='Ishowspeed', count=127613),\n Row(subreddit='lawschooladmissions', count=127396),\n Row(subreddit='pcgaming', count=127326),\n Row(subreddit='CrappyDesign', count=127284),\n Row(subreddit='modernwarfare', count=127276),\n Row(subreddit='AnimalsBeingDerps', count=127107),\n Row(subreddit='darksouls3', count=126910),\n Row(subreddit='nytimes', count=126829),\n Row(subreddit='atlantar4r', count=126693),\n Row(subreddit='fatwomenlove', count=126415),\n Row(subreddit='RedditorCum', count=126179),\n Row(subreddit='bostonr4r', count=125825),\n Row(subreddit='bigbubblebutt', count=125769),\n Row(subreddit='webcamgirlsnsfw', count=125641),\n Row(subreddit='GoCommitDie', count=125506),\n Row(subreddit='legs', count=125477),\n Row(subreddit='vancouver', count=125447),\n Row(subreddit='ProgrammerHumor', count=125430),\n Row(subreddit='manass', count=125398),\n Row(subreddit='TIHI', count=125229),\n Row(subreddit='GayRP', count=124840),\n Row(subreddit='ihadastroke', count=124767),\n Row(subreddit='BornToBeFucked', count=124715),\n Row(subreddit='Eyebleach', count=124676),\n Row(subreddit='NFTExchange', count=124464),\n Row(subreddit='cum', count=124370),\n Row(subreddit='GBr4r', count=124281),\n Row(subreddit='KikSextingXXX', count=124153),\n Row(subreddit='AdoptMeRBX', count=124125),\n Row(subreddit='xboxone', count=123999),\n Row(subreddit='xqcow', count=123989),\n Row(subreddit='juicyasians', count=123977),\n Row(subreddit='IWantToSuckCock', count=123842),\n Row(subreddit='DunderMifflin', count=123734),\n Row(subreddit='BeelcitosMemes', count=123663),\n Row(subreddit='Rateme', count=123640),\n Row(subreddit='BBCSluts', count=123633),\n Row(subreddit='BlackOwnedSissies', count=123417),\n Row(subreddit='skyrimmods', count=123069),\n Row(subreddit='RedditSample', count=123048),\n Row(subreddit='IdiotsInCars', count=122949),\n Row(subreddit='Ratemywifenaked', count=122914),\n Row(subreddit='Backview', count=122844),\n Row(subreddit='memesITA', count=122711),\n Row(subreddit='FreeKarma4All', count=122685),\n Row(subreddit='jakertown', count=122525),\n Row(subreddit='CertifiedNews', count=122449),\n Row(subreddit='nudesfeed', count=122367),\n Row(subreddit='SampleSize', count=122347),\n Row(subreddit='loseit', count=122321),\n Row(subreddit='PussyFlashing', count=122178),\n Row(subreddit='Steam', count=122162),\n Row(subreddit='Bbwmilf', count=122036),\n Row(subreddit='AskAstrologers', count=121831),\n Row(subreddit='teenagersbuthot', count=121715),\n Row(subreddit='vexillology', count=121701),\n Row(subreddit='autotldr', count=121654),\n Row(subreddit='BDSMGW', count=121514),\n Row(subreddit='ShitPostCrusaders', count=121475),\n Row(subreddit='u_Myodor', count=121089),\n Row(subreddit='OCD', count=121078),\n Row(subreddit='valheim', count=121002),\n Row(subreddit='asiangirlsforwhitemen', count=120885),\n Row(subreddit='hockey', count=120817),\n Row(subreddit='dndmemes', count=120572),\n Row(subreddit='cosplaygirls', count=120303),\n Row(subreddit='MalesMasturbating', count=120149),\n Row(subreddit='unitedkingdom', count=120009),\n Row(subreddit='SugarDaddyMeetMe', count=119978),\n Row(subreddit='DestinyFashion', count=119922),\n Row(subreddit='40plusGoneWild', count=119842),\n Row(subreddit='Daddy', count=119808),\n Row(subreddit='findfashion', count=119777),\n Row(subreddit='OnlyfansSales101', count=119739),\n Row(subreddit='BareBody', count=119525),\n Row(subreddit='mbti', count=119374),\n Row(subreddit='Instagram', count=119318),\n Row(subreddit='MushroomGrowers', count=119241),\n Row(subreddit='ebonyhomemade', count=119209),\n Row(subreddit='Tgirls', count=119052),\n Row(subreddit='amiugly', count=118968),\n Row(subreddit='Hair', count=118885),\n Row(subreddit='Sub4Sub', count=118844),\n Row(subreddit='marvelmemes', count=118816),\n Row(subreddit='DylanteroYT', count=118648),\n Row(subreddit='thongs', count=118512),\n Row(subreddit='U69a', count=118504),\n Row(subreddit='BabyBumps', count=118455),\n Row(subreddit='CryptoToFuture', count=118373),\n Row(subreddit='asktransgender', count=118348),\n Row(subreddit='learnpython', count=118272),\n Row(subreddit='shitcoin', count=118197),\n Row(subreddit='TikTokCringe', count=118172),\n Row(subreddit='Twitch', count=118159),\n Row(subreddit='sissydressing', count=118081),\n Row(subreddit='MarvelSnap', count=117990),\n Row(subreddit='Blonde', count=117938),\n Row(subreddit='youngpeopleyoutube', count=117750),\n Row(subreddit='bigblackcocks', count=117581),\n Row(subreddit='harrypotter', count=117532),\n Row(subreddit='totalwar', count=117525),\n Row(subreddit='RoyaleHigh_Roblox', count=117504),\n Row(subreddit='Onlyfansgirls102', count=117393),\n Row(subreddit='Deltarune', count=117333),\n Row(subreddit='furry_irl', count=117311),\n Row(subreddit='SpreadEm', count=117288),\n Row(subreddit='ForcedFeminization', count=117208),\n Row(subreddit='OnlyFansBestEver', count=117049),\n Row(subreddit='repbudgetsneakers', count=116986),\n Row(subreddit='wildrift', count=116962),\n Row(subreddit='Cross_Trading_Roblox', count=116945),\n Row(subreddit='OnlyFansLifestyle', count=116838),\n Row(subreddit='NatureIsFuckingLit', count=116679),\n Row(subreddit='JerkOffToCelebs', count=116517),\n Row(subreddit='Kikpals', count=116359),\n Row(subreddit='GlobalOffensiveTrade', count=116343),\n ...]"
          },
          "metadata": {}
        }
      ],
      "execution_count": 22,
      "metadata": {
        "jupyter": {
          "source_hidden": false,
          "outputs_hidden": false
        },
        "nteract": {
          "transient": {
            "deleting": false
          }
        },
        "gather": {
          "logged": 1697513347840
        }
      }
    },
    {
      "cell_type": "code",
      "source": [
        "top_n = 10\n",
        "top_n_subreddits = spark.createDataFrame(submissions_by_subreddit[:top_n]).toPandas()\n",
        "top_n_subreddits"
      ],
      "outputs": [
        {
          "output_type": "display_data",
          "data": {
            "application/vnd.livy.statement-meta+json": {
              "spark_pool": "cf47b043-0c98-4514-b15a-1e3237e3aed3",
              "session_id": "22",
              "statement_id": 28,
              "state": "finished",
              "livy_statement_state": "available",
              "queued_time": "2023-10-17T03:31:49.2655636Z",
              "session_start_time": null,
              "execution_start_time": "2023-10-17T03:31:49.5200734Z",
              "execution_finish_time": "2023-10-17T03:32:04.2255143Z",
              "spark_jobs": {
                "numbers": {
                  "FAILED": 0,
                  "SUCCEEDED": 1,
                  "UNKNOWN": 0,
                  "RUNNING": 0
                },
                "jobs": [
                  {
                    "displayName": "toPandas at /tmp/ipykernel_8218/971317376.py:2",
                    "dataWritten": 0,
                    "dataRead": 0,
                    "rowCount": 0,
                    "usageDescription": "",
                    "jobId": 22,
                    "name": "toPandas at /tmp/ipykernel_8218/971317376.py:2",
                    "description": "Job group for statement 28:\ntop_n = 10\ntop_n_subreddits = spark.createDataFrame(submissions_by_subreddit[:top_n]).toPandas()\ntop_n_subreddits",
                    "submissionTime": "2023-10-17T03:31:55.365GMT",
                    "completionTime": "2023-10-17T03:32:02.845GMT",
                    "stageIds": [
                      32
                    ],
                    "jobGroup": "28",
                    "status": "SUCCEEDED",
                    "numTasks": 24,
                    "numActiveTasks": 0,
                    "numCompletedTasks": 24,
                    "numSkippedTasks": 0,
                    "numFailedTasks": 0,
                    "numKilledTasks": 0,
                    "numCompletedIndices": 24,
                    "numActiveStages": 0,
                    "numCompletedStages": 1,
                    "numSkippedStages": 0,
                    "numFailedStages": 0,
                    "killedTasksSummary": {}
                  }
                ],
                "limit": 20,
                "rule": "ALL_DESC"
              },
              "parent_msg_id": "72064af7-5826-4f55-9b04-b889cb6cf6f7"
            },
            "text/plain": "StatementMeta(cf47b043-0c98-4514-b15a-1e3237e3aed3, 22, 28, Finished, Available)"
          },
          "metadata": {}
        },
        {
          "output_type": "execute_result",
          "execution_count": 55,
          "data": {
            "text/plain": "       subreddit    count\n0      AskReddit  8502376\n1    FreeKarma4U  4762030\n2   dirtykikpals  4301872\n3    GaySnapchat  3872262\n4       dirtyr4r  3674829\n5          memes  3107784\n6      teenagers  3091696\n7      jerkbudss  2484553\n8  DirtySnapchat  2482436\n9  AutoNewspaper  2247654",
            "text/html": "<div>\n<style scoped>\n    .dataframe tbody tr th:only-of-type {\n        vertical-align: middle;\n    }\n\n    .dataframe tbody tr th {\n        vertical-align: top;\n    }\n\n    .dataframe thead th {\n        text-align: right;\n    }\n</style>\n<table border=\"1\" class=\"dataframe\">\n  <thead>\n    <tr style=\"text-align: right;\">\n      <th></th>\n      <th>subreddit</th>\n      <th>count</th>\n    </tr>\n  </thead>\n  <tbody>\n    <tr>\n      <th>0</th>\n      <td>AskReddit</td>\n      <td>8502376</td>\n    </tr>\n    <tr>\n      <th>1</th>\n      <td>FreeKarma4U</td>\n      <td>4762030</td>\n    </tr>\n    <tr>\n      <th>2</th>\n      <td>dirtykikpals</td>\n      <td>4301872</td>\n    </tr>\n    <tr>\n      <th>3</th>\n      <td>GaySnapchat</td>\n      <td>3872262</td>\n    </tr>\n    <tr>\n      <th>4</th>\n      <td>dirtyr4r</td>\n      <td>3674829</td>\n    </tr>\n    <tr>\n      <th>5</th>\n      <td>memes</td>\n      <td>3107784</td>\n    </tr>\n    <tr>\n      <th>6</th>\n      <td>teenagers</td>\n      <td>3091696</td>\n    </tr>\n    <tr>\n      <th>7</th>\n      <td>jerkbudss</td>\n      <td>2484553</td>\n    </tr>\n    <tr>\n      <th>8</th>\n      <td>DirtySnapchat</td>\n      <td>2482436</td>\n    </tr>\n    <tr>\n      <th>9</th>\n      <td>AutoNewspaper</td>\n      <td>2247654</td>\n    </tr>\n  </tbody>\n</table>\n</div>"
          },
          "metadata": {}
        }
      ],
      "execution_count": 23,
      "metadata": {
        "jupyter": {
          "source_hidden": false,
          "outputs_hidden": false
        },
        "nteract": {
          "transient": {
            "deleting": false
          }
        },
        "gather": {
          "logged": 1697513523977
        }
      }
    },
    {
      "cell_type": "markdown",
      "source": [
        "## Plot a bar chart for the top 10 most popular by submission count"
      ],
      "metadata": {
        "nteract": {
          "transient": {
            "deleting": false
          }
        }
      }
    },
    {
      "cell_type": "code",
      "source": [
        "## Import data visualization packages\n",
        "import matplotlib.pyplot as plt\n",
        "plt.rcParams['figure.figsize'] = [15, 5]\n",
        "plt.bar(\"subreddit\", \"count\", data = top_n_subreddits, color = \"blue\")\n",
        "plt.xlabel(\"subreddit\")\n",
        "plt.ylabel(\"Submission Count\")\n",
        "plt.title(f\"Top {top_n} subreddits by suybmission count\")\n",
        "\n",
        "## Save the plot in the plot dir so that it can be checked in into the repo\n",
        "plot_fpath = os.path.join(PLOT_DIR, f'top_{top_n}_subreddits.png')\n",
        "\n",
        "plt.savefig(plot_fpath)\n",
        "plt.show()"
      ],
      "outputs": [
        {
          "output_type": "display_data",
          "data": {
            "application/vnd.livy.statement-meta+json": {
              "spark_pool": "cf47b043-0c98-4514-b15a-1e3237e3aed3",
              "session_id": "22",
              "statement_id": 29,
              "state": "finished",
              "livy_statement_state": "available",
              "queued_time": "2023-10-17T03:32:40.1095396Z",
              "session_start_time": null,
              "execution_start_time": "2023-10-17T03:32:40.1969016Z",
              "execution_finish_time": "2023-10-17T03:32:43.9620154Z",
              "spark_jobs": {
                "numbers": {
                  "FAILED": 0,
                  "SUCCEEDED": 0,
                  "UNKNOWN": 0,
                  "RUNNING": 0
                },
                "jobs": [],
                "limit": 20,
                "rule": "ALL_DESC"
              },
              "parent_msg_id": "b6024f68-f0f9-429d-8661-2395d7c37a00"
            },
            "text/plain": "StatementMeta(cf47b043-0c98-4514-b15a-1e3237e3aed3, 22, 29, Finished, Available)"
          },
          "metadata": {}
        },
        {
          "output_type": "display_data",
          "data": {
            "text/plain": "<Figure size 1080x360 with 1 Axes>",
            "image/png": "[encoded data removed]"
          },
          "metadata": {
            "needs_background": "light"
          }
        }
      ],
      "execution_count": 24,
      "metadata": {
        "jupyter": {
          "source_hidden": false,
          "outputs_hidden": false
        },
        "nteract": {
          "transient": {
            "deleting": false
          }
        },
        "gather": {
          "logged": 1697513563787
        }
      }
    },
    {
      "cell_type": "markdown",
      "source": [
        "## Saving data to Azure Storage"
      ],
      "metadata": {
        "nteract": {
          "transient": {
            "deleting": false
          }
        }
      }
    },
    {
      "cell_type": "markdown",
      "source": [
        "Sometimes we may want to save intermediate data, especially if it is big and took a significant time to generate, in DBFS. The following code shows an example of this. We save submissions on the `memes` subreddit into dbfs so that we can read from it at a later stage.\n"
      ],
      "metadata": {
        "nteract": {
          "transient": {
            "deleting": false
          }
        }
      }
    },
    {
      "cell_type": "code",
      "source": [
        "submissions_filtered = submissions_df.filter(submissions_df.subreddit == \"memes\")"
      ],
      "outputs": [
        {
          "output_type": "display_data",
          "data": {
            "application/vnd.livy.statement-meta+json": {
              "spark_pool": "cf47b043-0c98-4514-b15a-1e3237e3aed3",
              "session_id": "22",
              "statement_id": 30,
              "state": "finished",
              "livy_statement_state": "available",
              "queued_time": "2023-10-17T03:32:50.3612241Z",
              "session_start_time": null,
              "execution_start_time": "2023-10-17T03:32:50.4369661Z",
              "execution_finish_time": "2023-10-17T03:32:51.4045Z",
              "spark_jobs": {
                "numbers": {
                  "FAILED": 0,
                  "SUCCEEDED": 0,
                  "UNKNOWN": 0,
                  "RUNNING": 0
                },
                "jobs": [],
                "limit": 20,
                "rule": "ALL_DESC"
              },
              "parent_msg_id": "67f4a8a0-baa6-410b-a076-bf79b545e8ff"
            },
            "text/plain": "StatementMeta(cf47b043-0c98-4514-b15a-1e3237e3aed3, 22, 30, Finished, Available)"
          },
          "metadata": {}
        }
      ],
      "execution_count": 25,
      "metadata": {
        "jupyter": {
          "source_hidden": false,
          "outputs_hidden": false
        },
        "nteract": {
          "transient": {
            "deleting": false
          }
        },
        "gather": {
          "logged": 1697513571116
        }
      }
    },
    {
      "cell_type": "code",
      "source": [
        "submissions_filtered.show()"
      ],
      "outputs": [
        {
          "output_type": "display_data",
          "data": {
            "application/vnd.livy.statement-meta+json": {
              "spark_pool": "cf47b043-0c98-4514-b15a-1e3237e3aed3",
              "session_id": "22",
              "statement_id": 31,
              "state": "finished",
              "livy_statement_state": "available",
              "queued_time": "2023-10-17T03:32:54.2832444Z",
              "session_start_time": null,
              "execution_start_time": "2023-10-17T03:32:55.0314607Z",
              "execution_finish_time": "2023-10-17T03:33:00.114876Z",
              "spark_jobs": {
                "numbers": {
                  "FAILED": 0,
                  "SUCCEEDED": 1,
                  "UNKNOWN": 0,
                  "RUNNING": 0
                },
                "jobs": [
                  {
                    "displayName": "showString at NativeMethodAccessorImpl.java:0",
                    "dataWritten": 0,
                    "dataRead": 17106068,
                    "rowCount": 26191,
                    "usageDescription": "",
                    "jobId": 23,
                    "name": "showString at NativeMethodAccessorImpl.java:0",
                    "description": "Job group for statement 31:\nsubmissions_filtered.show()",
                    "submissionTime": "2023-10-17T03:32:55.487GMT",
                    "completionTime": "2023-10-17T03:32:58.514GMT",
                    "stageIds": [
                      33
                    ],
                    "jobGroup": "31",
                    "status": "SUCCEEDED",
                    "numTasks": 1,
                    "numActiveTasks": 0,
                    "numCompletedTasks": 1,
                    "numSkippedTasks": 0,
                    "numFailedTasks": 0,
                    "numKilledTasks": 0,
                    "numCompletedIndices": 1,
                    "numActiveStages": 0,
                    "numCompletedStages": 1,
                    "numSkippedStages": 0,
                    "numFailedStages": 0,
                    "killedTasksSummary": {}
                  }
                ],
                "limit": 20,
                "rule": "ALL_DESC"
              },
              "parent_msg_id": "b44cd128-2352-43df-8364-6e108b713f3a"
            },
            "text/plain": "StatementMeta(cf47b043-0c98-4514-b15a-1e3237e3aed3, 22, 31, Finished, Available)"
          },
          "metadata": {}
        },
        {
          "output_type": "stream",
          "name": "stdout",
          "text": "+------------------+------------------+--------+--------------------+--------------+----------------------+-----------------+---------+----------+------------+-------------------+----------------+---------------------+----------------+-------------+-----------+---------------+------+----------+---------+------+------+----------+--------+-------+---------+----------------+----------------------+-------+--------+--------------------+--------------------+------+--------------------+--------------------+-------------+------------+--------------+-------------+-------+-----------------------+--------------------+------+---------+--------------------+--------+-----------+---------------------+------------+-------------------+-----+------------------+--------------------+---------+-------+--------+---------+------------+--------------+--------------------+--------------------+----------------------+--------------------+----------------+---------------+--------------------+--------------------+----------------+----+-----+\n|adserver_click_url|adserver_imp_pixel|archived|              author|author_cakeday|author_flair_css_class|author_flair_text|author_id|brand_safe|contest_mode|        created_utc|crosspost_parent|crosspost_parent_list|disable_comments|distinguished|     domain|domain_override|edited|embed_type|embed_url|gilded|hidden|hide_score|href_url|     id|imp_pixel|is_crosspostable|is_reddit_media_domain|is_self|is_video|link_flair_css_class|     link_flair_text|locked|               media|         media_embed|mobile_ad_url|num_comments|num_crossposts|original_link|over_18|parent_whitelist_status|           permalink|pinned|post_hint|             preview|promoted|promoted_by|promoted_display_name|promoted_url|       retrieved_on|score|      secure_media|  secure_media_embed| selftext|spoiler|stickied|subreddit|subreddit_id|suggested_sort|third_party_trackers|third_party_tracking|third_party_tracking_2|           thumbnail|thumbnail_height|thumbnail_width|               title|                 url|whitelist_status|year|month|\n+------------------+------------------+--------+--------------------+--------------+----------------------+-----------------+---------+----------+------------+-------------------+----------------+---------------------+----------------+-------------+-----------+---------------+------+----------+---------+------+------+----------+--------+-------+---------+----------------+----------------------+-------+--------+--------------------+--------------------+------+--------------------+--------------------+-------------+------------+--------------+-------------+-------+-----------------------+--------------------+------+---------+--------------------+--------+-----------+---------------------+------------+-------------------+-----+------------------+--------------------+---------+-------+--------+---------+------------+--------------+--------------------+--------------------+----------------------+--------------------+----------------+---------------+--------------------+--------------------+----------------+----+-----+\n|              null|              null|   false|            iiBillyX|          null|                  null|             null|     null|      null|       false|2023-02-22 21:07:53|            null|                 null|            null|         null|  i.redd.it|           null| false|      null|     null|     0| false|     false|    null|119d72k|     null|           false|                  true|  false|   false|                null|                null| false|                null|{null, null, null...|         null|           1|             0|         null|  false|                all_ads|/r/memes/comments...| false|     null|                null|    null|       null|                 null|        null|2023-03-08 23:24:02|    1|              null|{null, null, null...|         |  false|   false|    memes|    t5_2qjpg|          null|                null|                null|                  null|             default|             140|            140|        too easy lol|https://i.redd.it...|         all_ads|2023|    2|\n|              null|              null|   false|          Burnout227|          null|                  null|             null|     null|      null|       false|2023-02-22 21:08:34|            null|                 null|            null|         null|  i.redd.it|           null| false|      null|     null|     0| false|     false|    null|119d82b|     null|            true|                  true|  false|   false|                null|                null| false|                null|{null, null, null...|         null|           7|             0|         null|  false|                all_ads|/r/memes/comments...| false|    image|{true, [{RM1e8TK7...|    null|       null|                 null|        null|2023-03-08 23:24:01|    2|              null|{null, null, null...|         |  false|   false|    memes|    t5_2qjpg|          null|                null|                null|                  null|https://b.thumbs....|             104|            140|Certified bruh mo...|https://i.redd.it...|         all_ads|2023|    2|\n|              null|              null|   false|           [deleted]|          null|                  null|             null|     null|      null|       false|2023-02-22 21:09:48|            null|                 null|            null|         null|           |           null| false|      null|     null|     0| false|     false|    null|119d9ri|     null|           false|                  true|  false|   false|                null|                null| false|                null|{null, null, null...|         null|           1|             0|         null|  false|                all_ads|/r/memes/comments...| false|     null|                null|    null|       null|                 null|        null|2023-03-08 23:23:59|    1|              null|{null, null, null...|[removed]|  false|   false|    memes|    t5_2qjpg|          null|                null|                null|                  null|             default|             139|            140|       Imagine tho👀|                    |         all_ads|2023|    2|\n|              null|              null|   false|           [deleted]|          null|                  null|             null|     null|      null|       false|2023-02-22 21:12:11|            null|                 null|            null|         null|           |           null| false|      null|     null|     0| false|     false|    null|119dde9|     null|           false|                  true|  false|   false|            removed8|!Rule 8 - NO REPOSTS|  true|                null|{null, null, null...|         null|           2|             0|         null|  false|                all_ads|/r/memes/comments...| false|     null|                null|    null|       null|                 null|        null|2023-03-08 23:23:56|   19|              null|{null, null, null...|[removed]|  false|   false|    memes|    t5_2qjpg|          null|                null|                null|                  null|             default|              99|            140|           darkness…|                    |         all_ads|2023|    2|\n|              null|              null|   false|I_love_Fortnite12456|          null|                  null|             null|     null|      null|       false|2023-02-22 21:12:28|            null|                 null|            null|         null|  i.redd.it|           null| false|      null|     null|     0| false|     false|    null|119ddtt|     null|           false|                  true|  false|   false|                null|                null| false|                null|{null, null, null...|         null|           1|             0|         null|  false|                all_ads|/r/memes/comments...| false|     null|                null|    null|       null|                 null|        null|2023-03-08 23:23:56|    1|              null|{null, null, null...|         |  false|   false|    memes|    t5_2qjpg|          null|                null|                null|                  null|             default|             140|            140|            So true.|https://i.redd.it...|         all_ads|2023|    2|\n|              null|              null|   false|           [deleted]|          null|                  null|             null|     null|      null|       false|2023-02-22 21:14:51|            null|                 null|            null|         null|           |           null| false|      null|     null|     0| false|     false|    null|119dhjv|     null|           false|                  true|  false|   false|                null|                null| false|                null|{null, null, null...|         null|          11|             0|         null|  false|                all_ads|/r/memes/comments...| false|     null|                null|    null|       null|                 null|        null|2023-03-08 23:23:52|  237|              null|{null, null, null...|[deleted]|  false|   false|    memes|    t5_2qjpg|          null|                null|                null|                  null|             default|             112|            140|Kinda wish it was...|                    |         all_ads|2023|    2|\n|              null|              null|   false|  marekla_warthunder|          null|                  null|             null|     null|      null|       false|2023-02-22 21:14:52|            null|                 null|            null|         null|  i.redd.it|           null| false|      null|     null|     0| false|     false|    null|119dhkm|     null|           false|                  true|  false|   false|                null|                null| false|                null|{null, null, null...|         null|           1|             0|         null|  false|                all_ads|/r/memes/comments...| false|     null|                null|    null|       null|                 null|        null|2023-03-08 23:23:52|    1|              null|{null, null, null...|         |  false|   false|    memes|    t5_2qjpg|          null|                null|                null|                  null|             default|             140|            140|well i guess it i...|https://i.redd.it...|         all_ads|2023|    2|\n|              null|              null|   false|           [deleted]|          null|                  null|             null|     null|      null|       false|2023-02-22 21:17:04|            null|                 null|            null|         null|           |           null| false|      null|     null|     0| false|     false|    null|119dkw8|     null|           false|                  true|  false|   false|                null|                null| false|                null|{null, null, null...|         null|           3|             1|         null|  false|                all_ads|/r/memes/comments...| false|     null|                null|    null|       null|                 null|        null|2023-03-08 23:23:50|   20|              null|{null, null, null...|[deleted]|  false|   false|    memes|    t5_2qjpg|          null|                null|                null|                  null|             default|             140|            140|Also when they fi...|                    |         all_ads|2023|    2|\n|              null|              null|   false|             Gawd428|          null|                  null|             null|     null|      null|       false|2023-02-22 21:17:21|            null|                 null|            null|         null|  i.redd.it|           null| false|      null|     null|     0| false|     false|    null|119dlaw|     null|           false|                  true|  false|   false|                null|                null| false|                null|{null, null, null...|         null|           9|             0|         null|  false|                all_ads|/r/memes/comments...| false|     null|                null|    null|       null|                 null|        null|2023-03-08 23:23:49|   40|              null|{null, null, null...|         |  false|   false|    memes|    t5_2qjpg|          null|                null|                null|                  null|             default|             105|            140|We need to increa...|https://i.redd.it...|         all_ads|2023|    2|\n|              null|              null|   false|           [deleted]|          null|                  null|             null|     null|      null|       false|2023-02-22 21:17:28|            null|                 null|            null|         null|           |           null| false|      null|     null|     0| false|     false|    null|119dlge|     null|           false|                  true|  false|   false|                null|                null| false|                null|{null, null, null...|         null|           1|             0|         null|  false|                all_ads|/r/memes/comments...| false|     null|                null|    null|       null|                 null|        null|2023-03-08 23:23:49|    5|              null|{null, null, null...|[deleted]|  false|   false|    memes|    t5_2qjpg|          null|                null|                null|                  null|             default|             140|            140|      Halal madrid .|                    |         all_ads|2023|    2|\n|              null|              null|   false|      QuicklyThisWay|          null|                  null|         Nyan cat|     null|      null|       false|2023-02-22 21:20:41|            null|                 null|            null|         null|i.imgur.com|           null| false|      null|     null|     0| false|     false|    null|119dqc2|     null|            true|                 false|  false|   false|                null|                null| false|                null|{null, null, null...|         null|           6|             0|         null|  false|                all_ads|/r/memes/comments...| false|    image|{true, [{3pOhl9PM...|    null|       null|                 null|        null|2023-03-08 23:23:44|   86|              null|{null, null, null...|         |  false|   false|    memes|    t5_2qjpg|          null|                null|                null|                  null|https://b.thumbs....|              88|            140|    So this is bliss|https://i.imgur.c...|         all_ads|2023|    2|\n|              null|              null|   false|             Warfi67|          null|                  null|             null|     null|      null|       false|2023-02-22 21:20:42|            null|                 null|            null|         null|  i.redd.it|           null| false|      null|     null|     0| false|     false|    null|119dqdo|     null|            true|                  true|  false|   false|                null|                null| false|                null|{null, null, null...|         null|           0|             0|         null|  false|                all_ads|/r/memes/comments...| false|    image|{true, [{IMmZGr-h...|    null|       null|                 null|        null|2023-03-08 23:23:44|   20|              null|{null, null, null...|         |  false|   false|    memes|    t5_2qjpg|          null|                null|                null|                  null|https://a.thumbs....|             103|            140|            relaxing|https://i.redd.it...|         all_ads|2023|    2|\n|              null|              null|   false|            MasterIG|          null|                  null|             null|     null|      null|       false|2023-02-22 21:22:02|            null|                 null|            null|         null|  i.redd.it|           null| false|      null|     null|     0| false|     false|    null|119dsgp|     null|           false|                  true|  false|   false|            removed7|!Rule 7 - NO META...|  true|                null|{null, null, null...|         null|          15|             0|         null|  false|                all_ads|/r/memes/comments...| false|     null|                null|    null|       null|                 null|        null|2023-03-08 23:23:42|    4|              null|{null, null, null...|         |  false|   false|    memes|    t5_2qjpg|          null|                null|                null|                  null|             default|              93|            140|I'm brazilian, of...|https://i.redd.it...|         all_ads|2023|    2|\n|              null|              null|   false| 5T0P5H4D0WB4NN1NGM3|          null|                  null|       Halal Mode|     null|      null|       false|2023-02-22 21:23:16|            null|                 null|            null|         null|  i.redd.it|           null| false|      null|     null|     0| false|     false|    null|119dub0|     null|            true|                  true|  false|   false|                null|                null| false|                null|{null, null, null...|         null|           1|             0|         null|  false|                all_ads|/r/memes/comments...| false|    image|{true, [{5-AJFZ1K...|    null|       null|                 null|        null|2023-03-08 23:23:40|  113|              null|{null, null, null...|         |  false|   false|    memes|    t5_2qjpg|          null|                null|                null|                  null|https://a.thumbs....|             140|            140|he is now a fly t...|https://i.redd.it...|         all_ads|2023|    2|\n|              null|              null|   false|           [deleted]|          null|                  null|             null|     null|      null|       false|2023-02-22 21:24:56|            null|                 null|            null|         null|           |           null| false|      null|     null|     0| false|     false|    null|119dwv5|     null|           false|                  true|  false|   false|                null|                null| false|                null|{null, null, null...|         null|           1|             0|         null|   true|                all_ads|/r/memes/comments...| false|     null|                null|    null|       null|                 null|        null|2023-03-08 23:23:38|    1|              null|{null, null, null...|[removed]|  false|   false|    memes|    t5_2qjpg|          null|                null|                null|                  null|             default|             140|            140|Why do they have ...|                    |promo_adult_nsfw|2023|    2|\n|              null|              null|   false|    Chief-Captain_BC|          null|                  null|Dark Mode Elitist|     null|      null|       false|2023-02-22 21:25:57|            null|                 null|            null|         null|  i.redd.it|           null| false|      null|     null|     0| false|     false|    null|119dyax|     null|           false|                  true|  false|   false|            removed1|!Rule 1 - ALL POS...|  true|                null|{null, null, null...|         null|           2|             0|         null|  false|                all_ads|/r/memes/comments...| false|     null|                null|    null|       null|                 null|        null|2023-03-08 23:23:37|    5|              null|{null, null, null...|         |  false|   false|    memes|    t5_2qjpg|          null|                null|                null|                  null|             default|              54|            140|uhhh guys? I thin...|https://i.redd.it...|         all_ads|2023|    2|\n|              null|              null|   false|      SwimmingAd2079|          null|                  null|             null|     null|      null|       false|2023-02-22 21:27:01|            null|                 null|            null|         null|  i.redd.it|           null| false|      null|     null|     0| false|     false|    null|119dzrn|     null|           false|                  true|  false|   false|                null|                null| false|                null|{null, null, null...|         null|           1|             0|         null|   true|                all_ads|/r/memes/comments...| false|     null|                null|    null|       null|                 null|        null|2023-03-08 23:23:36|    1|              null|{null, null, null...|[removed]|  false|   false|    memes|    t5_2qjpg|          null|                null|                null|                  null|             default|              93|            140|     Joke of the day|https://i.redd.it...|promo_adult_nsfw|2023|    2|\n|              null|              null|   false|  marekla_warthunder|          null|                  null|             null|     null|      null|       false|2023-02-22 21:28:18|            null|                 null|            null|         null|  i.redd.it|           null| false|      null|     null|     0| false|     false|    null|119e1hy|     null|           false|                  true|  false|   false|                null|                null| false|                null|{null, null, null...|         null|           1|             0|         null|  false|                all_ads|/r/memes/comments...| false|     null|                null|    null|       null|                 null|        null|2023-03-08 23:23:34|    1|              null|{null, null, null...|         |  false|   false|    memes|    t5_2qjpg|          null|                null|                null|                  null|             default|             140|            140|          True story|https://i.redd.it...|         all_ads|2023|    2|\n|              null|              null|   false|     Few-Witness9132|          null|                  null|             null|     null|      null|       false|2023-02-22 21:28:24|            null|                 null|            null|         null|  v.redd.it|           null| false|      null|     null|     0| false|     false|    null|119e1mt|     null|           false|                  true|  false|    true|                null|                null| false|{null, null, {htt...|{null, null, null...|         null|           1|             0|         null|   true|                all_ads|/r/memes/comments...| false|     null|                null|    null|       null|                 null|        null|2023-03-08 23:23:34|    1|{null, null, null}|{null, null, null...|         |  false|   false|    memes|    t5_2qjpg|          null|                null|                null|                  null|             default|             140|            140|             Cummies|https://v.redd.it...|promo_adult_nsfw|2023|    2|\n|              null|              null|   false|   csgogotmefuckedup|          null|                  null|             null|     null|      null|       false|2023-02-22 21:30:20|            null|                 null|            null|         null|  i.redd.it|           null| false|      null|     null|     0| false|     false|    null|119e4dz|     null|           false|                  true|  false|   false|                null|                null| false|                null|{null, null, null...|         null|           1|             0|         null|  false|                all_ads|/r/memes/comments...| false|     null|                null|    null|       null|                 null|        null|2023-03-08 23:23:32|    1|              null|{null, null, null...|         |  false|   false|    memes|    t5_2qjpg|          null|                null|                null|                  null|             default|             137|            140|         Every time.|https://i.redd.it...|         all_ads|2023|    2|\n+------------------+------------------+--------+--------------------+--------------+----------------------+-----------------+---------+----------+------------+-------------------+----------------+---------------------+----------------+-------------+-----------+---------------+------+----------+---------+------+------+----------+--------+-------+---------+----------------+----------------------+-------+--------+--------------------+--------------------+------+--------------------+--------------------+-------------+------------+--------------+-------------+-------+-----------------------+--------------------+------+---------+--------------------+--------+-----------+---------------------+------------+-------------------+-----+------------------+--------------------+---------+-------+--------+---------+------------+--------------+--------------------+--------------------+----------------------+--------------------+----------------+---------------+--------------------+--------------------+----------------+----+-----+\nonly showing top 20 rows\n\n"
        }
      ],
      "execution_count": 26,
      "metadata": {
        "jupyter": {
          "source_hidden": false,
          "outputs_hidden": false
        },
        "nteract": {
          "transient": {
            "deleting": false
          }
        },
        "gather": {
          "logged": 1697513579817
        }
      }
    },
    {
      "cell_type": "code",
      "source": [
        "# this code saves the data as a csv just for illustration, use parquet for faster analytics operations.\n",
        "df_save = submissions_filtered.limit(1000).select(\"author_id\", \"title\", \"selftext\").cache()"
      ],
      "outputs": [
        {
          "output_type": "display_data",
          "data": {
            "application/vnd.livy.statement-meta+json": {
              "spark_pool": "cf47b043-0c98-4514-b15a-1e3237e3aed3",
              "session_id": "22",
              "statement_id": 37,
              "state": "finished",
              "livy_statement_state": "available",
              "queued_time": "2023-10-17T03:41:22.5635601Z",
              "session_start_time": null,
              "execution_start_time": "2023-10-17T03:41:22.6532689Z",
              "execution_finish_time": "2023-10-17T03:47:31.1863571Z",
              "spark_jobs": {
                "numbers": {
                  "FAILED": 0,
                  "SUCCEEDED": 1,
                  "UNKNOWN": 0,
                  "RUNNING": 0
                },
                "jobs": [
                  {
                    "displayName": "parquet at NativeMethodAccessorImpl.java:0",
                    "dataWritten": 77816002,
                    "dataRead": 70539369916,
                    "rowCount": 776552976,
                    "usageDescription": "",
                    "jobId": 27,
                    "name": "parquet at NativeMethodAccessorImpl.java:0",
                    "description": "Job group for statement 37:\n# this code saves the data as a csv just for illustration, use parquet for faster analytics operations.\ndf_save = submissions_filtered.limit(1000).select(\"author_id\", \"title\", \"selftext\").cache()\ndf_save.write.parquet(f\"{CSV_DIR}/memes.parquet\")",
                    "submissionTime": "2023-10-17T03:41:23.156GMT",
                    "completionTime": "2023-10-17T03:47:29.474GMT",
                    "stageIds": [
                      38,
                      39
                    ],
                    "jobGroup": "37",
                    "status": "SUCCEEDED",
                    "numTasks": 3081,
                    "numActiveTasks": 0,
                    "numCompletedTasks": 3081,
                    "numSkippedTasks": 0,
                    "numFailedTasks": 0,
                    "numKilledTasks": 0,
                    "numCompletedIndices": 3081,
                    "numActiveStages": 0,
                    "numCompletedStages": 2,
                    "numSkippedStages": 0,
                    "numFailedStages": 0,
                    "killedTasksSummary": {}
                  }
                ],
                "limit": 20,
                "rule": "ALL_DESC"
              },
              "parent_msg_id": "2bde5390-5914-4579-a245-e1cbe5118a92"
            },
            "text/plain": "StatementMeta(cf47b043-0c98-4514-b15a-1e3237e3aed3, 22, 37, Finished, Available)"
          },
          "metadata": {}
        }
      ],
      "execution_count": 32,
      "metadata": {
        "jupyter": {
          "source_hidden": false,
          "outputs_hidden": false
        },
        "nteract": {
          "transient": {
            "deleting": false
          }
        },
        "gather": {
          "logged": 1697514450903
        }
      }
    },
    {
      "cell_type": "code",
      "source": [
        "df_save.write.csv(f\"{CSV_DIR}/memes_data.csv\")"
      ],
      "outputs": [
        {
          "output_type": "display_data",
          "data": {
            "application/vnd.livy.statement-meta+json": {
              "spark_pool": "cf47b043-0c98-4514-b15a-1e3237e3aed3",
              "session_id": "22",
              "statement_id": 40,
              "state": "submitted",
              "livy_statement_state": "running",
              "queued_time": "2023-10-17T03:50:26.5215652Z",
              "session_start_time": null,
              "execution_start_time": "2023-10-17T03:50:26.5913443Z",
              "execution_finish_time": null,
              "spark_jobs": {
                "numbers": {
                  "FAILED": 0,
                  "SUCCEEDED": 0,
                  "UNKNOWN": 0,
                  "RUNNING": 0
                },
                "jobs": [],
                "limit": 20,
                "rule": "ALL_DESC"
              },
              "parent_msg_id": "760c6a4e-1464-4aa0-8028-fe30be009f39"
            },
            "text/plain": "StatementMeta(cf47b043-0c98-4514-b15a-1e3237e3aed3, 22, 40, Submitted, Running)"
          },
          "metadata": {}
        }
      ],
      "execution_count": 35,
      "metadata": {
        "jupyter": {
          "source_hidden": false,
          "outputs_hidden": false
        },
        "nteract": {
          "transient": {
            "deleting": false
          }
        },
        "gather": {
          "logged": 1697514619758
        }
      }
    },
    {
      "cell_type": "code",
      "source": [
        "memes = spark.read.parquet(f\"{CSV_DIR}/memes.parquet\")\n",
        "memes.show()"
      ],
      "outputs": [
        {
          "output_type": "display_data",
          "data": {
            "application/vnd.livy.statement-meta+json": {
              "spark_pool": "cf47b043-0c98-4514-b15a-1e3237e3aed3",
              "session_id": "23",
              "statement_id": 9,
              "state": "finished",
              "livy_statement_state": "available",
              "queued_time": "2023-10-17T22:00:10.7386817Z",
              "session_start_time": null,
              "execution_start_time": "2023-10-17T22:00:10.8152635Z",
              "execution_finish_time": "2023-10-17T22:00:12.4757406Z",
              "spark_jobs": {
                "numbers": {
                  "RUNNING": 0,
                  "UNKNOWN": 0,
                  "SUCCEEDED": 0,
                  "FAILED": 0
                },
                "jobs": [],
                "limit": 20,
                "rule": "ALL_DESC"
              },
              "parent_msg_id": "b8083677-9b6f-4ad7-90b7-b769cc8aef45"
            },
            "text/plain": "StatementMeta(cf47b043-0c98-4514-b15a-1e3237e3aed3, 23, 9, Finished, Available)"
          },
          "metadata": {}
        },
        {
          "output_type": "error",
          "ename": "AnalysisException",
          "evalue": "Path does not exist: wasbs://3eb31707-ae17-47f8-a542-c32c8eb0808c@hobostoragebvnew0jqf3.blob.core.windows.net/user/trusted-service-user/Users/aem303/data/csv/memes.parquet",
          "traceback": [
            "\u001b[0;31m---------------------------------------------------------------------------\u001b[0m",
            "\u001b[0;31mAnalysisException\u001b[0m                         Traceback (most recent call last)",
            "\u001b[0;32m/tmp/ipykernel_7259/354830562.py\u001b[0m in \u001b[0;36m<module>\u001b[0;34m\u001b[0m\n\u001b[0;32m----> 1\u001b[0;31m \u001b[0mmemes\u001b[0m \u001b[0;34m=\u001b[0m \u001b[0mspark\u001b[0m\u001b[0;34m.\u001b[0m\u001b[0mread\u001b[0m\u001b[0;34m.\u001b[0m\u001b[0mparquet\u001b[0m\u001b[0;34m(\u001b[0m\u001b[0;34mf\"{CSV_DIR}/memes.parquet\"\u001b[0m\u001b[0;34m)\u001b[0m\u001b[0;34m\u001b[0m\u001b[0;34m\u001b[0m\u001b[0m\n\u001b[0m\u001b[1;32m      2\u001b[0m \u001b[0mmemes\u001b[0m\u001b[0;34m.\u001b[0m\u001b[0mshow\u001b[0m\u001b[0;34m(\u001b[0m\u001b[0;34m)\u001b[0m\u001b[0;34m\u001b[0m\u001b[0;34m\u001b[0m\u001b[0m\n",
            "\u001b[0;32m/opt/spark/python/lib/pyspark.zip/pyspark/sql/readwriter.py\u001b[0m in \u001b[0;36mparquet\u001b[0;34m(self, *paths, **options)\u001b[0m\n\u001b[1;32m    299\u001b[0m                        int96RebaseMode=int96RebaseMode)\n\u001b[1;32m    300\u001b[0m \u001b[0;34m\u001b[0m\u001b[0m\n\u001b[0;32m--> 301\u001b[0;31m         \u001b[0;32mreturn\u001b[0m \u001b[0mself\u001b[0m\u001b[0;34m.\u001b[0m\u001b[0m_df\u001b[0m\u001b[0;34m(\u001b[0m\u001b[0mself\u001b[0m\u001b[0;34m.\u001b[0m\u001b[0m_jreader\u001b[0m\u001b[0;34m.\u001b[0m\u001b[0mparquet\u001b[0m\u001b[0;34m(\u001b[0m\u001b[0m_to_seq\u001b[0m\u001b[0;34m(\u001b[0m\u001b[0mself\u001b[0m\u001b[0;34m.\u001b[0m\u001b[0m_spark\u001b[0m\u001b[0;34m.\u001b[0m\u001b[0m_sc\u001b[0m\u001b[0;34m,\u001b[0m \u001b[0mpaths\u001b[0m\u001b[0;34m)\u001b[0m\u001b[0;34m)\u001b[0m\u001b[0;34m)\u001b[0m\u001b[0;34m\u001b[0m\u001b[0;34m\u001b[0m\u001b[0m\n\u001b[0m\u001b[1;32m    302\u001b[0m \u001b[0;34m\u001b[0m\u001b[0m\n\u001b[1;32m    303\u001b[0m     def text(self, paths, wholetext=False, lineSep=None, pathGlobFilter=None,\n",
            "\u001b[0;32m~/cluster-env/env/lib/python3.8/site-packages/py4j/java_gateway.py\u001b[0m in \u001b[0;36m__call__\u001b[0;34m(self, *args)\u001b[0m\n\u001b[1;32m   1319\u001b[0m \u001b[0;34m\u001b[0m\u001b[0m\n\u001b[1;32m   1320\u001b[0m         \u001b[0manswer\u001b[0m \u001b[0;34m=\u001b[0m \u001b[0mself\u001b[0m\u001b[0;34m.\u001b[0m\u001b[0mgateway_client\u001b[0m\u001b[0;34m.\u001b[0m\u001b[0msend_command\u001b[0m\u001b[0;34m(\u001b[0m\u001b[0mcommand\u001b[0m\u001b[0;34m)\u001b[0m\u001b[0;34m\u001b[0m\u001b[0;34m\u001b[0m\u001b[0m\n\u001b[0;32m-> 1321\u001b[0;31m         return_value = get_return_value(\n\u001b[0m\u001b[1;32m   1322\u001b[0m             answer, self.gateway_client, self.target_id, self.name)\n\u001b[1;32m   1323\u001b[0m \u001b[0;34m\u001b[0m\u001b[0m\n",
            "\u001b[0;32m/opt/spark/python/lib/pyspark.zip/pyspark/sql/utils.py\u001b[0m in \u001b[0;36mdeco\u001b[0;34m(*a, **kw)\u001b[0m\n\u001b[1;32m    115\u001b[0m                 \u001b[0;31m# Hide where the exception came from that shows a non-Pythonic\u001b[0m\u001b[0;34m\u001b[0m\u001b[0;34m\u001b[0m\u001b[0;34m\u001b[0m\u001b[0m\n\u001b[1;32m    116\u001b[0m                 \u001b[0;31m# JVM exception message.\u001b[0m\u001b[0;34m\u001b[0m\u001b[0;34m\u001b[0m\u001b[0;34m\u001b[0m\u001b[0m\n\u001b[0;32m--> 117\u001b[0;31m                 \u001b[0;32mraise\u001b[0m \u001b[0mconverted\u001b[0m \u001b[0;32mfrom\u001b[0m \u001b[0;32mNone\u001b[0m\u001b[0;34m\u001b[0m\u001b[0;34m\u001b[0m\u001b[0m\n\u001b[0m\u001b[1;32m    118\u001b[0m             \u001b[0;32melse\u001b[0m\u001b[0;34m:\u001b[0m\u001b[0;34m\u001b[0m\u001b[0;34m\u001b[0m\u001b[0m\n\u001b[1;32m    119\u001b[0m                 \u001b[0;32mraise\u001b[0m\u001b[0;34m\u001b[0m\u001b[0;34m\u001b[0m\u001b[0m\n",
            "\u001b[0;31mAnalysisException\u001b[0m: Path does not exist: wasbs://3eb31707-ae17-47f8-a542-c32c8eb0808c@hobostoragebvnew0jqf3.blob.core.windows.net/user/trusted-service-user/Users/aem303/data/csv/memes.parquet"
          ]
        }
      ],
      "execution_count": 4,
      "metadata": {
        "jupyter": {
          "source_hidden": false,
          "outputs_hidden": false
        },
        "nteract": {
          "transient": {
            "deleting": false
          }
        },
        "gather": {
          "logged": 1697580012103
        }
      }
    },
    {
      "cell_type": "markdown",
      "source": [
        "### Saving intermediate data"
      ],
      "metadata": {
        "nteract": {
          "transient": {
            "deleting": false
          }
        }
      }
    },
    {
      "cell_type": "markdown",
      "source": [
        "The intermediate outputs go into the azureml workspace attached storage using the URI `azureml://datastores/workspaceblobstore/paths/<PATH-TO_STORE>` this is the same for all workspaces. Then to re-load you use the same URI"
      ],
      "metadata": {
        "nteract": {
          "transient": {
            "deleting": false
          }
        }
      }
    },
    {
      "cell_type": "code",
      "source": [
        "datastore = 'azureml://datastores/workspaceblobstore/paths'\n",
        "comments_single_df.write.parquet(f\"{datastore}/memes.parquet\")"
      ],
      "outputs": [
        {
          "output_type": "display_data",
          "data": {
            "application/vnd.livy.statement-meta+json": {
              "spark_pool": "cf47b043-0c98-4514-b15a-1e3237e3aed3",
              "session_id": "23",
              "statement_id": 13,
              "state": "finished",
              "livy_statement_state": "available",
              "queued_time": "2023-10-17T22:05:35.6813864Z",
              "session_start_time": null,
              "execution_start_time": "2023-10-17T22:05:35.7781388Z",
              "execution_finish_time": "2023-10-17T22:05:46.2845543Z",
              "spark_jobs": {
                "numbers": {
                  "RUNNING": 0,
                  "UNKNOWN": 0,
                  "SUCCEEDED": 1,
                  "FAILED": 0
                },
                "jobs": [
                  {
                    "displayName": "parquet at NativeMethodAccessorImpl.java:0",
                    "dataWritten": 17748445,
                    "dataRead": 10524944,
                    "rowCount": 194820,
                    "usageDescription": "",
                    "jobId": 2,
                    "name": "parquet at NativeMethodAccessorImpl.java:0",
                    "description": "Job group for statement 13:\ndatastore = 'azureml://datastores/workspaceblobstore/paths'\ncomments_single_df.write.parquet(f\"{datastore}/memes.parquet\")",
                    "submissionTime": "2023-10-17T22:05:37.990GMT",
                    "completionTime": "2023-10-17T22:05:44.762GMT",
                    "stageIds": [
                      2
                    ],
                    "jobGroup": "13",
                    "status": "SUCCEEDED",
                    "numTasks": 3,
                    "numActiveTasks": 0,
                    "numCompletedTasks": 3,
                    "numSkippedTasks": 0,
                    "numFailedTasks": 0,
                    "numKilledTasks": 0,
                    "numCompletedIndices": 3,
                    "numActiveStages": 0,
                    "numCompletedStages": 1,
                    "numSkippedStages": 0,
                    "numFailedStages": 0,
                    "killedTasksSummary": {}
                  }
                ],
                "limit": 20,
                "rule": "ALL_DESC"
              },
              "parent_msg_id": "aa685af2-ce8a-402c-95e5-cbf7983dc9b5"
            },
            "text/plain": "StatementMeta(cf47b043-0c98-4514-b15a-1e3237e3aed3, 23, 13, Finished, Available)"
          },
          "metadata": {}
        }
      ],
      "execution_count": 8,
      "metadata": {
        "jupyter": {
          "source_hidden": false,
          "outputs_hidden": false
        },
        "nteract": {
          "transient": {
            "deleting": false
          }
        },
        "gather": {
          "logged": 1697580345876
        }
      }
    },
    {
      "cell_type": "code",
      "source": [
        "comments_single_df_load = spark.read.parquet(f\"{datastore}/memes.parquet\")"
      ],
      "outputs": [
        {
          "output_type": "display_data",
          "data": {
            "application/vnd.livy.statement-meta+json": {
              "spark_pool": "cf47b043-0c98-4514-b15a-1e3237e3aed3",
              "session_id": "23",
              "statement_id": 14,
              "state": "finished",
              "livy_statement_state": "available",
              "queued_time": "2023-10-17T22:05:54.6649505Z",
              "session_start_time": null,
              "execution_start_time": "2023-10-17T22:05:54.7486292Z",
              "execution_finish_time": "2023-10-17T22:05:55.6580027Z",
              "spark_jobs": {
                "numbers": {
                  "RUNNING": 0,
                  "UNKNOWN": 0,
                  "SUCCEEDED": 1,
                  "FAILED": 0
                },
                "jobs": [
                  {
                    "displayName": "parquet at NativeMethodAccessorImpl.java:0",
                    "dataWritten": 0,
                    "dataRead": 0,
                    "rowCount": 0,
                    "usageDescription": "",
                    "jobId": 3,
                    "name": "parquet at NativeMethodAccessorImpl.java:0",
                    "description": "Job group for statement 14:\ncomments_single_df_load = spark.read.parquet(f\"{datastore}/memes.parquet\")",
                    "submissionTime": "2023-10-17T22:05:55.003GMT",
                    "completionTime": "2023-10-17T22:05:55.169GMT",
                    "stageIds": [
                      3
                    ],
                    "jobGroup": "14",
                    "status": "SUCCEEDED",
                    "numTasks": 1,
                    "numActiveTasks": 0,
                    "numCompletedTasks": 1,
                    "numSkippedTasks": 0,
                    "numFailedTasks": 0,
                    "numKilledTasks": 0,
                    "numCompletedIndices": 1,
                    "numActiveStages": 0,
                    "numCompletedStages": 1,
                    "numSkippedStages": 0,
                    "numFailedStages": 0,
                    "killedTasksSummary": {}
                  }
                ],
                "limit": 20,
                "rule": "ALL_DESC"
              },
              "parent_msg_id": "ae5df0ea-201a-47d5-9280-3abaa9359943"
            },
            "text/plain": "StatementMeta(cf47b043-0c98-4514-b15a-1e3237e3aed3, 23, 14, Finished, Available)"
          },
          "metadata": {}
        }
      ],
      "execution_count": 9,
      "metadata": {
        "jupyter": {
          "source_hidden": false,
          "outputs_hidden": false
        },
        "nteract": {
          "transient": {
            "deleting": false
          }
        },
        "gather": {
          "logged": 1697580355321
        }
      }
    },
    {
      "cell_type": "code",
      "source": [
        "print(f'data saved {comments_single_df.count()} - {len(comments_single_df.columns)}')\n",
        "print(f'data loaded {comments_single_df_load.count()} - {len(comments_single_df_load.columns)}')"
      ],
      "outputs": [
        {
          "output_type": "display_data",
          "data": {
            "application/vnd.livy.statement-meta+json": {
              "spark_pool": "cf47b043-0c98-4514-b15a-1e3237e3aed3",
              "session_id": "23",
              "statement_id": 16,
              "state": "finished",
              "livy_statement_state": "available",
              "queued_time": "2023-10-17T22:07:01.3574898Z",
              "session_start_time": null,
              "execution_start_time": "2023-10-17T22:07:01.4309527Z",
              "execution_finish_time": "2023-10-17T22:07:03.0792491Z",
              "spark_jobs": {
                "numbers": {
                  "RUNNING": 0,
                  "UNKNOWN": 0,
                  "SUCCEEDED": 4,
                  "FAILED": 0
                },
                "jobs": [
                  {
                    "displayName": "count at NativeMethodAccessorImpl.java:0",
                    "dataWritten": 0,
                    "dataRead": 339,
                    "rowCount": 6,
                    "usageDescription": "",
                    "jobId": 9,
                    "name": "count at NativeMethodAccessorImpl.java:0",
                    "description": "Job group for statement 16:\nprint(f'data saved {comments_single_df.count()} - {len(comments_single_df.columns)}')\nprint(f'data loaded {comments_single_df_load.count()} - {len(comments_single_df_load.columns)}')",
                    "submissionTime": "2023-10-17T22:07:02.523GMT",
                    "completionTime": "2023-10-17T22:07:02.588GMT",
                    "stageIds": [
                      12,
                      11
                    ],
                    "jobGroup": "16",
                    "status": "SUCCEEDED",
                    "numTasks": 7,
                    "numActiveTasks": 0,
                    "numCompletedTasks": 1,
                    "numSkippedTasks": 6,
                    "numFailedTasks": 0,
                    "numKilledTasks": 0,
                    "numCompletedIndices": 1,
                    "numActiveStages": 0,
                    "numCompletedStages": 1,
                    "numSkippedStages": 1,
                    "numFailedStages": 0,
                    "killedTasksSummary": {}
                  },
                  {
                    "displayName": "count at NativeMethodAccessorImpl.java:0",
                    "dataWritten": 339,
                    "dataRead": 24538,
                    "rowCount": 97416,
                    "usageDescription": "",
                    "jobId": 8,
                    "name": "count at NativeMethodAccessorImpl.java:0",
                    "description": "Job group for statement 16:\nprint(f'data saved {comments_single_df.count()} - {len(comments_single_df.columns)}')\nprint(f'data loaded {comments_single_df_load.count()} - {len(comments_single_df_load.columns)}')",
                    "submissionTime": "2023-10-17T22:07:02.223GMT",
                    "completionTime": "2023-10-17T22:07:02.489GMT",
                    "stageIds": [
                      10
                    ],
                    "jobGroup": "16",
                    "status": "SUCCEEDED",
                    "numTasks": 6,
                    "numActiveTasks": 0,
                    "numCompletedTasks": 6,
                    "numSkippedTasks": 0,
                    "numFailedTasks": 0,
                    "numKilledTasks": 0,
                    "numCompletedIndices": 6,
                    "numActiveStages": 0,
                    "numCompletedStages": 1,
                    "numSkippedStages": 0,
                    "numFailedStages": 0,
                    "killedTasksSummary": {}
                  },
                  {
                    "displayName": "count at NativeMethodAccessorImpl.java:0",
                    "dataWritten": 0,
                    "dataRead": 171,
                    "rowCount": 3,
                    "usageDescription": "",
                    "jobId": 7,
                    "name": "count at NativeMethodAccessorImpl.java:0",
                    "description": "Job group for statement 16:\nprint(f'data saved {comments_single_df.count()} - {len(comments_single_df.columns)}')\nprint(f'data loaded {comments_single_df_load.count()} - {len(comments_single_df_load.columns)}')",
                    "submissionTime": "2023-10-17T22:07:01.810GMT",
                    "completionTime": "2023-10-17T22:07:02.112GMT",
                    "stageIds": [
                      9,
                      8
                    ],
                    "jobGroup": "16",
                    "status": "SUCCEEDED",
                    "numTasks": 4,
                    "numActiveTasks": 0,
                    "numCompletedTasks": 1,
                    "numSkippedTasks": 3,
                    "numFailedTasks": 0,
                    "numKilledTasks": 0,
                    "numCompletedIndices": 1,
                    "numActiveStages": 0,
                    "numCompletedStages": 1,
                    "numSkippedStages": 1,
                    "numFailedStages": 0,
                    "killedTasksSummary": {}
                  },
                  {
                    "displayName": "count at NativeMethodAccessorImpl.java:0",
                    "dataWritten": 171,
                    "dataRead": 13410,
                    "rowCount": 97413,
                    "usageDescription": "",
                    "jobId": 6,
                    "name": "count at NativeMethodAccessorImpl.java:0",
                    "description": "Job group for statement 16:\nprint(f'data saved {comments_single_df.count()} - {len(comments_single_df.columns)}')\nprint(f'data loaded {comments_single_df_load.count()} - {len(comments_single_df_load.columns)}')",
                    "submissionTime": "2023-10-17T22:07:01.561GMT",
                    "completionTime": "2023-10-17T22:07:01.786GMT",
                    "stageIds": [
                      7
                    ],
                    "jobGroup": "16",
                    "status": "SUCCEEDED",
                    "numTasks": 3,
                    "numActiveTasks": 0,
                    "numCompletedTasks": 3,
                    "numSkippedTasks": 0,
                    "numFailedTasks": 0,
                    "numKilledTasks": 0,
                    "numCompletedIndices": 3,
                    "numActiveStages": 0,
                    "numCompletedStages": 1,
                    "numSkippedStages": 0,
                    "numFailedStages": 0,
                    "killedTasksSummary": {}
                  }
                ],
                "limit": 20,
                "rule": "ALL_DESC"
              },
              "parent_msg_id": "c2806702-852b-41a8-b3df-08be482ba189"
            },
            "text/plain": "StatementMeta(cf47b043-0c98-4514-b15a-1e3237e3aed3, 23, 16, Finished, Available)"
          },
          "metadata": {}
        },
        {
          "output_type": "stream",
          "name": "stdout",
          "text": "data saved 97410 - 21\ndata loaded 97410 - 21\n"
        }
      ],
      "execution_count": 11,
      "metadata": {
        "jupyter": {
          "source_hidden": false,
          "outputs_hidden": false
        },
        "nteract": {
          "transient": {
            "deleting": false
          }
        },
        "gather": {
          "logged": 1697580422738
        }
      }
    },
    {
      "cell_type": "code",
      "source": [],
      "outputs": [],
      "execution_count": null,
      "metadata": {
        "jupyter": {
          "source_hidden": false,
          "outputs_hidden": false
        },
        "nteract": {
          "transient": {
            "deleting": false
          }
        }
      }
    }
  ],
  "metadata": {
    "application/vnd.databricks.v1+notebook": {
      "dashboards": [],
      "language": "python",
      "notebookMetadata": {
        "pythonIndentUnit": 4
      },
      "notebookName": "Comments JSON to Parquet",
      "widgets": {}
    },
    "microsoft": {
      "ms_spell_check": {
        "ms_spell_check_language": "en"
      },
      "host": {
        "AzureML": {
          "notebookHasBeenCompleted": true
        }
      }
    },
    "language_info": {
      "name": "python",
      "version": "3.8.0",
      "mimetype": "text/x-python",
      "file_extension": ".py",
      "pygments_lexer": "ipython",
      "codemirror_mode": "ipython",
      "nbconvert_exporter": "python"
    },
    "kernelspec": {
      "name": "synapse_pyspark",
      "language": "Python",
      "display_name": "Synapse PySpark"
    },
    "kernel_info": {
      "name": "synapse_pyspark"
    },
    "nteract": {
      "version": "nteract-front-end@1.0.0"
    }
  },
  "nbformat": 4,
  "nbformat_minor": 0
}