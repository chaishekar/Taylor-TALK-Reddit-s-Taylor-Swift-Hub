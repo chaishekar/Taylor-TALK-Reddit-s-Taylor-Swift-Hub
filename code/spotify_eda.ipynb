{
 "cells": [
  {
   "cell_type": "code",
   "execution_count": 60,
   "metadata": {},
   "outputs": [],
   "source": [
    "import pandas as pd\n",
    "import plotly.express as px\n",
    "import plotly.graph_objects as go\n",
    "import plotly.io as pio"
   ]
  },
  {
   "cell_type": "markdown",
   "metadata": {},
   "source": [
    "# ABOUT THE DATA\n",
    "\n",
    "The data used in this analysis has been generated using the Spotify API, a powerful platform that provides access to a vast collection of music-related information. Specifically, we have generated data for the renowned artist Taylor Swift. This choice is deliberate as our project focuses exclusively on Taylor Swift's music and the insights we can glean from it.\n",
    "\n",
    "To create this dataset, we utilized the Spotify API to retrieve various details related to Taylor Swift's songs and albums. This information encompasses a wide range of attributes, including audio features, album release dates, and more.\n",
    "\n",
    "Data Generation and Export\n",
    "\n",
    "It's important to note that data generation through the Spotify API requires access keys and authentication, which grants us the ability to query and retrieve this valuable musical information. Once we successfully gathered the necessary data for Taylor Swift's music, we exported it to a CSV (Comma-Separated Values) file. This decision to export the data to a CSV file serves several purposes:\n",
    "\n",
    "Data Preservation: By storing the data in a CSV file, we ensure that our project has access to this dataset without the need to repeatedly fetch it from the Spotify API. This not only reduces the burden on the API but also allows us to work with a consistent dataset for analysis.\n",
    "\n",
    "Accessibility: CSV files are widely supported across various data analysis tools and programming languages, making it easy for us to load and manipulate the data in our chosen environment. The data is stored in [https://github.com/gu-dsan6000/fall-2023-reddit-project-team-21/tree/main/data/csv/spotify_Taylor_Swift]"
   ]
  },
  {
   "cell_type": "code",
   "execution_count": 61,
   "metadata": {},
   "outputs": [
    {
     "data": {
      "text/html": [
       "<div>\n",
       "<style scoped>\n",
       "    .dataframe tbody tr th:only-of-type {\n",
       "        vertical-align: middle;\n",
       "    }\n",
       "\n",
       "    .dataframe tbody tr th {\n",
       "        vertical-align: top;\n",
       "    }\n",
       "\n",
       "    .dataframe thead th {\n",
       "        text-align: right;\n",
       "    }\n",
       "</style>\n",
       "<table border=\"1\" class=\"dataframe\">\n",
       "  <thead>\n",
       "    <tr style=\"text-align: right;\">\n",
       "      <th></th>\n",
       "      <th>artist_name</th>\n",
       "      <th>artist_id</th>\n",
       "      <th>album_id</th>\n",
       "      <th>album_type</th>\n",
       "      <th>album_images</th>\n",
       "      <th>album_release_date</th>\n",
       "      <th>album_release_year</th>\n",
       "      <th>album_release_date_precision</th>\n",
       "      <th>danceability</th>\n",
       "      <th>energy</th>\n",
       "      <th>...</th>\n",
       "      <th>track_name</th>\n",
       "      <th>track_preview_url</th>\n",
       "      <th>track_number</th>\n",
       "      <th>type</th>\n",
       "      <th>track_uri</th>\n",
       "      <th>external_urls.spotify</th>\n",
       "      <th>album_name</th>\n",
       "      <th>key_name</th>\n",
       "      <th>mode_name</th>\n",
       "      <th>key_mode</th>\n",
       "    </tr>\n",
       "  </thead>\n",
       "  <tbody>\n",
       "    <tr>\n",
       "      <th>0</th>\n",
       "      <td>Taylor Swift</td>\n",
       "      <td>06HL4z0CvFAxyc27GXpf02</td>\n",
       "      <td>1o59UpKw81iHR0HPiSkJR0</td>\n",
       "      <td>album</td>\n",
       "      <td>NaN</td>\n",
       "      <td>2023-10-27</td>\n",
       "      <td>2023</td>\n",
       "      <td>day</td>\n",
       "      <td>0.757</td>\n",
       "      <td>0.610</td>\n",
       "      <td>...</td>\n",
       "      <td>Welcome To New York (Taylor's Version)</td>\n",
       "      <td>NaN</td>\n",
       "      <td>1</td>\n",
       "      <td>track</td>\n",
       "      <td>spotify:track:4WUepByoeqcedHoYhSNHRt</td>\n",
       "      <td>https://open.spotify.com/track/4WUepByoeqcedHo...</td>\n",
       "      <td>1989 (Taylor's Version) [Deluxe]</td>\n",
       "      <td>G</td>\n",
       "      <td>major</td>\n",
       "      <td>G major</td>\n",
       "    </tr>\n",
       "    <tr>\n",
       "      <th>1</th>\n",
       "      <td>Taylor Swift</td>\n",
       "      <td>06HL4z0CvFAxyc27GXpf02</td>\n",
       "      <td>1o59UpKw81iHR0HPiSkJR0</td>\n",
       "      <td>album</td>\n",
       "      <td>NaN</td>\n",
       "      <td>2023-10-27</td>\n",
       "      <td>2023</td>\n",
       "      <td>day</td>\n",
       "      <td>0.733</td>\n",
       "      <td>0.733</td>\n",
       "      <td>...</td>\n",
       "      <td>Blank Space (Taylor's Version)</td>\n",
       "      <td>NaN</td>\n",
       "      <td>2</td>\n",
       "      <td>track</td>\n",
       "      <td>spotify:track:0108kcWLnn2HlH2kedi1gn</td>\n",
       "      <td>https://open.spotify.com/track/0108kcWLnn2HlH2...</td>\n",
       "      <td>1989 (Taylor's Version) [Deluxe]</td>\n",
       "      <td>C</td>\n",
       "      <td>major</td>\n",
       "      <td>C major</td>\n",
       "    </tr>\n",
       "    <tr>\n",
       "      <th>2</th>\n",
       "      <td>Taylor Swift</td>\n",
       "      <td>06HL4z0CvFAxyc27GXpf02</td>\n",
       "      <td>1o59UpKw81iHR0HPiSkJR0</td>\n",
       "      <td>album</td>\n",
       "      <td>NaN</td>\n",
       "      <td>2023-10-27</td>\n",
       "      <td>2023</td>\n",
       "      <td>day</td>\n",
       "      <td>0.511</td>\n",
       "      <td>0.822</td>\n",
       "      <td>...</td>\n",
       "      <td>Style (Taylor's Version)</td>\n",
       "      <td>NaN</td>\n",
       "      <td>3</td>\n",
       "      <td>track</td>\n",
       "      <td>spotify:track:3Vpk1hfMAQme8VJ0SNRSkd</td>\n",
       "      <td>https://open.spotify.com/track/3Vpk1hfMAQme8VJ...</td>\n",
       "      <td>1989 (Taylor's Version) [Deluxe]</td>\n",
       "      <td>B</td>\n",
       "      <td>minor</td>\n",
       "      <td>B minor</td>\n",
       "    </tr>\n",
       "    <tr>\n",
       "      <th>3</th>\n",
       "      <td>Taylor Swift</td>\n",
       "      <td>06HL4z0CvFAxyc27GXpf02</td>\n",
       "      <td>1o59UpKw81iHR0HPiSkJR0</td>\n",
       "      <td>album</td>\n",
       "      <td>NaN</td>\n",
       "      <td>2023-10-27</td>\n",
       "      <td>2023</td>\n",
       "      <td>day</td>\n",
       "      <td>0.545</td>\n",
       "      <td>0.885</td>\n",
       "      <td>...</td>\n",
       "      <td>Out Of The Woods (Taylor's Version)</td>\n",
       "      <td>NaN</td>\n",
       "      <td>4</td>\n",
       "      <td>track</td>\n",
       "      <td>spotify:track:1OcSfkeCg9hRC2sFKB4IMJ</td>\n",
       "      <td>https://open.spotify.com/track/1OcSfkeCg9hRC2s...</td>\n",
       "      <td>1989 (Taylor's Version) [Deluxe]</td>\n",
       "      <td>C</td>\n",
       "      <td>major</td>\n",
       "      <td>C major</td>\n",
       "    </tr>\n",
       "    <tr>\n",
       "      <th>4</th>\n",
       "      <td>Taylor Swift</td>\n",
       "      <td>06HL4z0CvFAxyc27GXpf02</td>\n",
       "      <td>1o59UpKw81iHR0HPiSkJR0</td>\n",
       "      <td>album</td>\n",
       "      <td>NaN</td>\n",
       "      <td>2023-10-27</td>\n",
       "      <td>2023</td>\n",
       "      <td>day</td>\n",
       "      <td>0.588</td>\n",
       "      <td>0.721</td>\n",
       "      <td>...</td>\n",
       "      <td>All You Had To Do Was Stay (Taylor's Version)</td>\n",
       "      <td>NaN</td>\n",
       "      <td>5</td>\n",
       "      <td>track</td>\n",
       "      <td>spotify:track:2k0ZEeAqzvYMcx9Qt5aClQ</td>\n",
       "      <td>https://open.spotify.com/track/2k0ZEeAqzvYMcx9...</td>\n",
       "      <td>1989 (Taylor's Version) [Deluxe]</td>\n",
       "      <td>C</td>\n",
       "      <td>major</td>\n",
       "      <td>C major</td>\n",
       "    </tr>\n",
       "  </tbody>\n",
       "</table>\n",
       "<p>5 rows × 39 columns</p>\n",
       "</div>"
      ],
      "text/plain": [
       "    artist_name               artist_id                album_id album_type   \n",
       "0  Taylor Swift  06HL4z0CvFAxyc27GXpf02  1o59UpKw81iHR0HPiSkJR0      album  \\\n",
       "1  Taylor Swift  06HL4z0CvFAxyc27GXpf02  1o59UpKw81iHR0HPiSkJR0      album   \n",
       "2  Taylor Swift  06HL4z0CvFAxyc27GXpf02  1o59UpKw81iHR0HPiSkJR0      album   \n",
       "3  Taylor Swift  06HL4z0CvFAxyc27GXpf02  1o59UpKw81iHR0HPiSkJR0      album   \n",
       "4  Taylor Swift  06HL4z0CvFAxyc27GXpf02  1o59UpKw81iHR0HPiSkJR0      album   \n",
       "\n",
       "   album_images album_release_date  album_release_year   \n",
       "0           NaN         2023-10-27                2023  \\\n",
       "1           NaN         2023-10-27                2023   \n",
       "2           NaN         2023-10-27                2023   \n",
       "3           NaN         2023-10-27                2023   \n",
       "4           NaN         2023-10-27                2023   \n",
       "\n",
       "  album_release_date_precision  danceability  energy  ...   \n",
       "0                          day         0.757   0.610  ...  \\\n",
       "1                          day         0.733   0.733  ...   \n",
       "2                          day         0.511   0.822  ...   \n",
       "3                          day         0.545   0.885  ...   \n",
       "4                          day         0.588   0.721  ...   \n",
       "\n",
       "                                      track_name  track_preview_url   \n",
       "0         Welcome To New York (Taylor's Version)                NaN  \\\n",
       "1                 Blank Space (Taylor's Version)                NaN   \n",
       "2                       Style (Taylor's Version)                NaN   \n",
       "3            Out Of The Woods (Taylor's Version)                NaN   \n",
       "4  All You Had To Do Was Stay (Taylor's Version)                NaN   \n",
       "\n",
       "   track_number   type                             track_uri   \n",
       "0             1  track  spotify:track:4WUepByoeqcedHoYhSNHRt  \\\n",
       "1             2  track  spotify:track:0108kcWLnn2HlH2kedi1gn   \n",
       "2             3  track  spotify:track:3Vpk1hfMAQme8VJ0SNRSkd   \n",
       "3             4  track  spotify:track:1OcSfkeCg9hRC2sFKB4IMJ   \n",
       "4             5  track  spotify:track:2k0ZEeAqzvYMcx9Qt5aClQ   \n",
       "\n",
       "                               external_urls.spotify   \n",
       "0  https://open.spotify.com/track/4WUepByoeqcedHo...  \\\n",
       "1  https://open.spotify.com/track/0108kcWLnn2HlH2...   \n",
       "2  https://open.spotify.com/track/3Vpk1hfMAQme8VJ...   \n",
       "3  https://open.spotify.com/track/1OcSfkeCg9hRC2s...   \n",
       "4  https://open.spotify.com/track/2k0ZEeAqzvYMcx9...   \n",
       "\n",
       "                         album_name  key_name  mode_name key_mode  \n",
       "0  1989 (Taylor's Version) [Deluxe]         G      major  G major  \n",
       "1  1989 (Taylor's Version) [Deluxe]         C      major  C major  \n",
       "2  1989 (Taylor's Version) [Deluxe]         B      minor  B minor  \n",
       "3  1989 (Taylor's Version) [Deluxe]         C      major  C major  \n",
       "4  1989 (Taylor's Version) [Deluxe]         C      major  C major  \n",
       "\n",
       "[5 rows x 39 columns]"
      ]
     },
     "execution_count": 61,
     "metadata": {},
     "output_type": "execute_result"
    }
   ],
   "source": [
    "# Load the data\n",
    "data = pd.read_csv(\"spofify_Taylor_swift.csv\")\n",
    "\n",
    "data = pd.read_csv(\"https://github.com/gu-dsan6000/fall-2023-reddit-project-team-21/tree/main/data/csv/spotify_Taylor_Swift.csv\")\n",
    "\n",
    "# Print the head of the data\n",
    "data.head()"
   ]
  },
  {
   "cell_type": "markdown",
   "metadata": {},
   "source": [
    "# Data Cleaning\n",
    "\n",
    "In the process of preparing our dataset for analysis, several critical steps were taken to ensure its quality and relevance. We began by examining the data types of each column and addressing missing values. Duplicate rows were also identified and handled accordingly. To streamline our analysis, we focused on data from 2021 to 2023.\n",
    "\n",
    "Furthermore, specific columns were excluded from our dataset. These exclusions were made purposefully to enhance the focus of our analysis. \"artist_id\" and \"artist_name\" were removed as they redundantly contained information about our primary focus, Taylor Swift. \"album_images\" were excluded, as they were not directly relevant to our goal of understanding public responses to Taylor Swift's music. Additionally, a range of technical and URL-related columns, including \"analysis_url,\" \"track_uri,\" and others, were removed. These columns contained information from the Spotify API that, while useful in other contexts, did not align with our specific research goals of examining how the public perceives Taylor Swift's music. This careful column exclusion allowed us to concentrate on key information essential to our research."
   ]
  },
  {
   "cell_type": "code",
   "execution_count": 62,
   "metadata": {},
   "outputs": [],
   "source": [
    "# Print the data types of each column in the data frame 'data'\n",
    "data.dtypes\n",
    "\n",
    "# Check for null values in the data frame\n",
    "data.isnull().any()\n",
    "\n",
    "# Check for duplicate rows in the data frame\n",
    "data[data.duplicated()]\n",
    "\n",
    "# Subset the data from 2021\n",
    "data = data[(data['album_release_year'] >= 2021) & (data['album_release_year'] <= 2023)]"
   ]
  },
  {
   "cell_type": "code",
   "execution_count": 63,
   "metadata": {},
   "outputs": [
    {
     "data": {
      "text/html": [
       "<div>\n",
       "<style scoped>\n",
       "    .dataframe tbody tr th:only-of-type {\n",
       "        vertical-align: middle;\n",
       "    }\n",
       "\n",
       "    .dataframe tbody tr th {\n",
       "        vertical-align: top;\n",
       "    }\n",
       "\n",
       "    .dataframe thead th {\n",
       "        text-align: right;\n",
       "    }\n",
       "</style>\n",
       "<table border=\"1\" class=\"dataframe\">\n",
       "  <thead>\n",
       "    <tr style=\"text-align: right;\">\n",
       "      <th></th>\n",
       "      <th>danceability</th>\n",
       "      <th>energy</th>\n",
       "      <th>key</th>\n",
       "      <th>loudness</th>\n",
       "      <th>mode</th>\n",
       "      <th>speechiness</th>\n",
       "      <th>acousticness</th>\n",
       "      <th>instrumentalness</th>\n",
       "      <th>liveness</th>\n",
       "      <th>valence</th>\n",
       "      <th>tempo</th>\n",
       "      <th>time_signature</th>\n",
       "      <th>duration_ms</th>\n",
       "    </tr>\n",
       "  </thead>\n",
       "  <tbody>\n",
       "    <tr>\n",
       "      <th>count</th>\n",
       "      <td>194.000000</td>\n",
       "      <td>194.000000</td>\n",
       "      <td>194.000000</td>\n",
       "      <td>194.000000</td>\n",
       "      <td>194.000000</td>\n",
       "      <td>194.000000</td>\n",
       "      <td>194.000000</td>\n",
       "      <td>194.000000</td>\n",
       "      <td>194.000000</td>\n",
       "      <td>194.000000</td>\n",
       "      <td>194.000000</td>\n",
       "      <td>194.000000</td>\n",
       "      <td>194.000000</td>\n",
       "    </tr>\n",
       "    <tr>\n",
       "      <th>mean</th>\n",
       "      <td>0.591820</td>\n",
       "      <td>0.571149</td>\n",
       "      <td>4.510309</td>\n",
       "      <td>-7.910356</td>\n",
       "      <td>0.922680</td>\n",
       "      <td>0.060171</td>\n",
       "      <td>0.286196</td>\n",
       "      <td>0.008185</td>\n",
       "      <td>0.147087</td>\n",
       "      <td>0.375365</td>\n",
       "      <td>123.576289</td>\n",
       "      <td>3.989691</td>\n",
       "      <td>236445.572165</td>\n",
       "    </tr>\n",
       "    <tr>\n",
       "      <th>std</th>\n",
       "      <td>0.106741</td>\n",
       "      <td>0.178326</td>\n",
       "      <td>3.314655</td>\n",
       "      <td>2.981381</td>\n",
       "      <td>0.267789</td>\n",
       "      <td>0.054466</td>\n",
       "      <td>0.307694</td>\n",
       "      <td>0.051625</td>\n",
       "      <td>0.093326</td>\n",
       "      <td>0.208453</td>\n",
       "      <td>29.756590</td>\n",
       "      <td>0.203332</td>\n",
       "      <td>49365.306771</td>\n",
       "    </tr>\n",
       "    <tr>\n",
       "      <th>min</th>\n",
       "      <td>0.316000</td>\n",
       "      <td>0.131000</td>\n",
       "      <td>0.000000</td>\n",
       "      <td>-15.489000</td>\n",
       "      <td>0.000000</td>\n",
       "      <td>0.025000</td>\n",
       "      <td>0.000191</td>\n",
       "      <td>0.000000</td>\n",
       "      <td>0.054000</td>\n",
       "      <td>0.037400</td>\n",
       "      <td>73.942000</td>\n",
       "      <td>3.000000</td>\n",
       "      <td>146436.000000</td>\n",
       "    </tr>\n",
       "    <tr>\n",
       "      <th>25%</th>\n",
       "      <td>0.515250</td>\n",
       "      <td>0.438000</td>\n",
       "      <td>1.250000</td>\n",
       "      <td>-9.742500</td>\n",
       "      <td>1.000000</td>\n",
       "      <td>0.032725</td>\n",
       "      <td>0.028125</td>\n",
       "      <td>0.000000</td>\n",
       "      <td>0.094300</td>\n",
       "      <td>0.194250</td>\n",
       "      <td>100.014000</td>\n",
       "      <td>4.000000</td>\n",
       "      <td>204852.000000</td>\n",
       "    </tr>\n",
       "    <tr>\n",
       "      <th>50%</th>\n",
       "      <td>0.600000</td>\n",
       "      <td>0.571000</td>\n",
       "      <td>5.000000</td>\n",
       "      <td>-7.344500</td>\n",
       "      <td>1.000000</td>\n",
       "      <td>0.043300</td>\n",
       "      <td>0.157000</td>\n",
       "      <td>0.000001</td>\n",
       "      <td>0.116500</td>\n",
       "      <td>0.359500</td>\n",
       "      <td>119.024500</td>\n",
       "      <td>4.000000</td>\n",
       "      <td>231475.000000</td>\n",
       "    </tr>\n",
       "    <tr>\n",
       "      <th>75%</th>\n",
       "      <td>0.660750</td>\n",
       "      <td>0.711750</td>\n",
       "      <td>7.000000</td>\n",
       "      <td>-5.791250</td>\n",
       "      <td>1.000000</td>\n",
       "      <td>0.062650</td>\n",
       "      <td>0.509750</td>\n",
       "      <td>0.000051</td>\n",
       "      <td>0.152000</td>\n",
       "      <td>0.532000</td>\n",
       "      <td>143.998750</td>\n",
       "      <td>4.000000</td>\n",
       "      <td>257360.750000</td>\n",
       "    </tr>\n",
       "    <tr>\n",
       "      <th>max</th>\n",
       "      <td>0.870000</td>\n",
       "      <td>0.915000</td>\n",
       "      <td>11.000000</td>\n",
       "      <td>-1.909000</td>\n",
       "      <td>1.000000</td>\n",
       "      <td>0.390000</td>\n",
       "      <td>0.967000</td>\n",
       "      <td>0.488000</td>\n",
       "      <td>0.611000</td>\n",
       "      <td>0.921000</td>\n",
       "      <td>208.918000</td>\n",
       "      <td>5.000000</td>\n",
       "      <td>613026.000000</td>\n",
       "    </tr>\n",
       "  </tbody>\n",
       "</table>\n",
       "</div>"
      ],
      "text/plain": [
       "       danceability      energy         key    loudness        mode   \n",
       "count    194.000000  194.000000  194.000000  194.000000  194.000000  \\\n",
       "mean       0.591820    0.571149    4.510309   -7.910356    0.922680   \n",
       "std        0.106741    0.178326    3.314655    2.981381    0.267789   \n",
       "min        0.316000    0.131000    0.000000  -15.489000    0.000000   \n",
       "25%        0.515250    0.438000    1.250000   -9.742500    1.000000   \n",
       "50%        0.600000    0.571000    5.000000   -7.344500    1.000000   \n",
       "75%        0.660750    0.711750    7.000000   -5.791250    1.000000   \n",
       "max        0.870000    0.915000   11.000000   -1.909000    1.000000   \n",
       "\n",
       "       speechiness  acousticness  instrumentalness    liveness     valence   \n",
       "count   194.000000    194.000000        194.000000  194.000000  194.000000  \\\n",
       "mean      0.060171      0.286196          0.008185    0.147087    0.375365   \n",
       "std       0.054466      0.307694          0.051625    0.093326    0.208453   \n",
       "min       0.025000      0.000191          0.000000    0.054000    0.037400   \n",
       "25%       0.032725      0.028125          0.000000    0.094300    0.194250   \n",
       "50%       0.043300      0.157000          0.000001    0.116500    0.359500   \n",
       "75%       0.062650      0.509750          0.000051    0.152000    0.532000   \n",
       "max       0.390000      0.967000          0.488000    0.611000    0.921000   \n",
       "\n",
       "            tempo  time_signature    duration_ms  \n",
       "count  194.000000      194.000000     194.000000  \n",
       "mean   123.576289        3.989691  236445.572165  \n",
       "std     29.756590        0.203332   49365.306771  \n",
       "min     73.942000        3.000000  146436.000000  \n",
       "25%    100.014000        4.000000  204852.000000  \n",
       "50%    119.024500        4.000000  231475.000000  \n",
       "75%    143.998750        4.000000  257360.750000  \n",
       "max    208.918000        5.000000  613026.000000  "
      ]
     },
     "execution_count": 63,
     "metadata": {},
     "output_type": "execute_result"
    }
   ],
   "source": [
    "# List of columns to remove\n",
    "columns_to_remove = [\"artist_id\", \"artist_name\", \"album_type\", \"album_images\", \"album_release_date_precision\",\n",
    "                     \"analysis_url\", \"artists\", \"available_markets\", \"disc_number\", \"track_href\", \"is_local\",\n",
    "                     \"track_preview_url\", \"track_number\", \"type\", \"track_uri\", \"external_urls.spotify\"]\n",
    "\n",
    "# Remove the specified columns from the 'data' data frame\n",
    "data = data.drop(columns=columns_to_remove)\n",
    "\n",
    "# Assuming the specified column order\n",
    "column_order = [\"album_id\", \"track_id\", \"track_name\", \"album_name\", \"album_release_date\", \"album_release_year\",\n",
    "                \"danceability\", \"energy\", \"key\", \"loudness\", \"mode\", \"speechiness\", \"acousticness\",\n",
    "                \"instrumentalness\", \"liveness\", \"valence\", \"tempo\", \"time_signature\", \"duration_ms\", \"explicit\",\n",
    "                \"key_name\", \"mode_name\", \"key_mode\"]\n",
    "\n",
    "# Create a new data frame with columns in the specified order\n",
    "data = data[column_order]\n",
    "\n",
    "# Select only the numeric columns for basic statistics\n",
    "numeric_data = data.select_dtypes(include=['number'])\n",
    "\n",
    "# Remove the \"Year\" column from numeric_data\n",
    "numeric_data = numeric_data.drop(columns=['album_release_year'])\n",
    "\n",
    "# Compute basic summary statistics\n",
    "summary_stats = numeric_data.describe()\n",
    "# Save summary statistics to a CSV file\n",
    "summary_stats.to_csv('summary_statistics.csv', index=True)\n",
    "summary_stats"
   ]
  },
  {
   "cell_type": "markdown",
   "metadata": {},
   "source": [
    "**Inferences from Summary Statistics**\n",
    "\n",
    "The summary statistics provide valuable insights into the key audio features of Taylor Swift's songs, enabling us to better understand their characteristics:\n",
    "\n",
    " - **Danceability (Mean: 0.592, Std: 0.107):** On average, Taylor Swift's songs exhibit moderate danceability, with a mean value of approximately 0.592. This suggests that her music tends to have a balance between dance-worthy and less energetic elements.\n",
    "\n",
    " - **Energy (Mean: 0.571, Std: 0.178):** The energy of her songs averages around 0.571, indicating a moderate level of intensity. This suggests a blend of energetic and calmer tracks within her discography.\n",
    "\n",
    " - **Key (Mean: 4.510, Std: 3.315):** The key, which represents the tonal center of the music, varies widely across Taylor Swift's songs. The mean key value of 4.510 implies a diverse range of tonalities in her music.\n",
    "\n",
    " - **Loudness (Mean: -7.910 dB, Std: 2.981 dB):** Taylor Swift's songs have an average loudness level of approximately -7.910 dB. This information helps us understand the overall volume and dynamic range of her tracks.\n",
    "\n",
    " - **Speechiness (Mean: 0.0602, Std: 0.0545):** With an average speechiness value of 0.0602, Taylor Swift's songs tend to have a low presence of spoken words relative to singing.\n",
    "\n",
    " - **Acousticness (Mean: 0.286, Std: 0.308):** The average acousticness of her songs is around 0.286, suggesting that a significant portion of her music includes acoustic elements.\n",
    "\n",
    " - **Instrumentalness (Mean: 0.0082, Std: 0.0516):** Her songs generally have low instrumentalness, with a mean value of 0.0082, indicating a strong presence of vocals and lyrics.\n",
    "\n",
    " - **Liveness (Mean: 0.147, Std: 0.0933):** Taylor Swift's music typically exhibits a moderate level of liveness, with a mean value of 0.147, indicating a mix of studio and live recordings.\n",
    "\n",
    " - **Valence (Mean: 0.375, Std: 0.208):** The valence, representing the positivity or happiness of the music, averages at 0.375. This suggests that her songs cover a spectrum of emotional tones.\n",
    "\n",
    " - **Tempo (Mean: 123.576 BPM, Std: 29.757 BPM):** The average tempo of her songs is approximately 123.576 beats per minute, indicating a diverse tempo range across her music.\n",
    "\n",
    " - **Time Signature (Most Frequent: 4/4):** The most frequent time signature in her songs is 4/4, a common time signature in popular music, indicating a standard rhythmic structure.\n",
    "\n",
    " - **Duration (Mean: 236,446 ms, Std: 49,365 ms):** The average duration of her songs is around 236,446 milliseconds, or approximately 3.94 minutes. This provides insight into the typical length of her tracks.\n"
   ]
  },
  {
   "cell_type": "code",
   "execution_count": 64,
   "metadata": {},
   "outputs": [
    {
     "data": {
      "application/vnd.plotly.v1+json": {
       "config": {
        "plotlyServerURL": "https://plotly.com"
       },
       "data": [
        {
         "colorscale": [
          [
           0,
           "rgb(247,252,240)"
          ],
          [
           0.125,
           "rgb(224,243,219)"
          ],
          [
           0.25,
           "rgb(204,235,197)"
          ],
          [
           0.375,
           "rgb(168,221,181)"
          ],
          [
           0.5,
           "rgb(123,204,196)"
          ],
          [
           0.625,
           "rgb(78,179,211)"
          ],
          [
           0.75,
           "rgb(43,140,190)"
          ],
          [
           0.875,
           "rgb(8,104,172)"
          ],
          [
           1,
           "rgb(8,64,129)"
          ]
         ],
         "type": "heatmap",
         "x": [
          "danceability",
          "energy",
          "key",
          "loudness",
          "speechiness",
          "acousticness",
          "instrumentalness",
          "liveness",
          "valence",
          "tempo"
         ],
         "y": [
          "danceability",
          "energy",
          "key",
          "loudness",
          "speechiness",
          "acousticness",
          "instrumentalness",
          "liveness",
          "valence",
          "tempo"
         ],
         "z": [
          [
           1,
           0.011952010123328034,
           0.15957823956904368,
           -0.02345939626051448,
           0.32154908728990095,
           -0.23105104826327072,
           -0.17375523722752234,
           0.02811353976457661,
           0.1067345224390372,
           -0.3203577185332463
          ],
          [
           0.011952010123328034,
           1,
           0.06743661522063935,
           0.8092416019060995,
           -0.15029153993332384,
           -0.671124912795658,
           -0.16371512138094657,
           0.1911809169738411,
           0.5220934053111088,
           0.048646457558268255
          ],
          [
           0.15957823956904368,
           0.06743661522063935,
           1,
           0.09444272716906069,
           0.18209016761766975,
           -0.0778154732342691,
           -0.15766528759716017,
           0.12516312650850006,
           0.11542886158299583,
           -0.1395372618060349
          ],
          [
           -0.02345939626051448,
           0.8092416019060995,
           0.09444272716906069,
           1,
           -0.24664623603155456,
           -0.7133440594074837,
           -0.3091277081634834,
           0.23431846434933412,
           0.38904618657561135,
           0.04073639705788662
          ],
          [
           0.32154908728990095,
           -0.15029153993332384,
           0.18209016761766975,
           -0.24664623603155456,
           1,
           0.009577676525435978,
           -0.03787801618902067,
           0.05530829947291336,
           -0.05596344663520749,
           -0.017006798098493953
          ],
          [
           -0.23105104826327072,
           -0.671124912795658,
           -0.0778154732342691,
           -0.7133440594074837,
           0.009577676525435978,
           1,
           0.2431591217333952,
           -0.21006338239045666,
           -0.12681311192511555,
           0.0011456113142431865
          ],
          [
           -0.17375523722752234,
           -0.16371512138094657,
           -0.15766528759716017,
           -0.3091277081634834,
           -0.03787801618902067,
           0.2431591217333952,
           1,
           -0.047965764216156365,
           -0.1267563019800787,
           -0.04232898330057284
          ],
          [
           0.02811353976457661,
           0.1911809169738411,
           0.12516312650850006,
           0.23431846434933412,
           0.05530829947291336,
           -0.21006338239045666,
           -0.047965764216156365,
           1,
           -0.1354486770352411,
           -0.04787453777735109
          ],
          [
           0.1067345224390372,
           0.5220934053111088,
           0.11542886158299583,
           0.38904618657561135,
           -0.05596344663520749,
           -0.12681311192511555,
           -0.1267563019800787,
           -0.1354486770352411,
           1,
           0.17434817233759375
          ],
          [
           -0.3203577185332463,
           0.048646457558268255,
           -0.1395372618060349,
           0.04073639705788662,
           -0.017006798098493953,
           0.0011456113142431865,
           -0.04232898330057284,
           -0.04787453777735109,
           0.17434817233759375,
           1
          ]
         ]
        }
       ],
       "layout": {
        "font": {
         "family": "Arial",
         "size": 12
        },
        "height": 500,
        "template": {
         "data": {
          "bar": [
           {
            "error_x": {
             "color": "#2a3f5f"
            },
            "error_y": {
             "color": "#2a3f5f"
            },
            "marker": {
             "line": {
              "color": "#E5ECF6",
              "width": 0.5
             },
             "pattern": {
              "fillmode": "overlay",
              "size": 10,
              "solidity": 0.2
             }
            },
            "type": "bar"
           }
          ],
          "barpolar": [
           {
            "marker": {
             "line": {
              "color": "#E5ECF6",
              "width": 0.5
             },
             "pattern": {
              "fillmode": "overlay",
              "size": 10,
              "solidity": 0.2
             }
            },
            "type": "barpolar"
           }
          ],
          "carpet": [
           {
            "aaxis": {
             "endlinecolor": "#2a3f5f",
             "gridcolor": "white",
             "linecolor": "white",
             "minorgridcolor": "white",
             "startlinecolor": "#2a3f5f"
            },
            "baxis": {
             "endlinecolor": "#2a3f5f",
             "gridcolor": "white",
             "linecolor": "white",
             "minorgridcolor": "white",
             "startlinecolor": "#2a3f5f"
            },
            "type": "carpet"
           }
          ],
          "choropleth": [
           {
            "colorbar": {
             "outlinewidth": 0,
             "ticks": ""
            },
            "type": "choropleth"
           }
          ],
          "contour": [
           {
            "colorbar": {
             "outlinewidth": 0,
             "ticks": ""
            },
            "colorscale": [
             [
              0,
              "#0d0887"
             ],
             [
              0.1111111111111111,
              "#46039f"
             ],
             [
              0.2222222222222222,
              "#7201a8"
             ],
             [
              0.3333333333333333,
              "#9c179e"
             ],
             [
              0.4444444444444444,
              "#bd3786"
             ],
             [
              0.5555555555555556,
              "#d8576b"
             ],
             [
              0.6666666666666666,
              "#ed7953"
             ],
             [
              0.7777777777777778,
              "#fb9f3a"
             ],
             [
              0.8888888888888888,
              "#fdca26"
             ],
             [
              1,
              "#f0f921"
             ]
            ],
            "type": "contour"
           }
          ],
          "contourcarpet": [
           {
            "colorbar": {
             "outlinewidth": 0,
             "ticks": ""
            },
            "type": "contourcarpet"
           }
          ],
          "heatmap": [
           {
            "colorbar": {
             "outlinewidth": 0,
             "ticks": ""
            },
            "colorscale": [
             [
              0,
              "#0d0887"
             ],
             [
              0.1111111111111111,
              "#46039f"
             ],
             [
              0.2222222222222222,
              "#7201a8"
             ],
             [
              0.3333333333333333,
              "#9c179e"
             ],
             [
              0.4444444444444444,
              "#bd3786"
             ],
             [
              0.5555555555555556,
              "#d8576b"
             ],
             [
              0.6666666666666666,
              "#ed7953"
             ],
             [
              0.7777777777777778,
              "#fb9f3a"
             ],
             [
              0.8888888888888888,
              "#fdca26"
             ],
             [
              1,
              "#f0f921"
             ]
            ],
            "type": "heatmap"
           }
          ],
          "heatmapgl": [
           {
            "colorbar": {
             "outlinewidth": 0,
             "ticks": ""
            },
            "colorscale": [
             [
              0,
              "#0d0887"
             ],
             [
              0.1111111111111111,
              "#46039f"
             ],
             [
              0.2222222222222222,
              "#7201a8"
             ],
             [
              0.3333333333333333,
              "#9c179e"
             ],
             [
              0.4444444444444444,
              "#bd3786"
             ],
             [
              0.5555555555555556,
              "#d8576b"
             ],
             [
              0.6666666666666666,
              "#ed7953"
             ],
             [
              0.7777777777777778,
              "#fb9f3a"
             ],
             [
              0.8888888888888888,
              "#fdca26"
             ],
             [
              1,
              "#f0f921"
             ]
            ],
            "type": "heatmapgl"
           }
          ],
          "histogram": [
           {
            "marker": {
             "pattern": {
              "fillmode": "overlay",
              "size": 10,
              "solidity": 0.2
             }
            },
            "type": "histogram"
           }
          ],
          "histogram2d": [
           {
            "colorbar": {
             "outlinewidth": 0,
             "ticks": ""
            },
            "colorscale": [
             [
              0,
              "#0d0887"
             ],
             [
              0.1111111111111111,
              "#46039f"
             ],
             [
              0.2222222222222222,
              "#7201a8"
             ],
             [
              0.3333333333333333,
              "#9c179e"
             ],
             [
              0.4444444444444444,
              "#bd3786"
             ],
             [
              0.5555555555555556,
              "#d8576b"
             ],
             [
              0.6666666666666666,
              "#ed7953"
             ],
             [
              0.7777777777777778,
              "#fb9f3a"
             ],
             [
              0.8888888888888888,
              "#fdca26"
             ],
             [
              1,
              "#f0f921"
             ]
            ],
            "type": "histogram2d"
           }
          ],
          "histogram2dcontour": [
           {
            "colorbar": {
             "outlinewidth": 0,
             "ticks": ""
            },
            "colorscale": [
             [
              0,
              "#0d0887"
             ],
             [
              0.1111111111111111,
              "#46039f"
             ],
             [
              0.2222222222222222,
              "#7201a8"
             ],
             [
              0.3333333333333333,
              "#9c179e"
             ],
             [
              0.4444444444444444,
              "#bd3786"
             ],
             [
              0.5555555555555556,
              "#d8576b"
             ],
             [
              0.6666666666666666,
              "#ed7953"
             ],
             [
              0.7777777777777778,
              "#fb9f3a"
             ],
             [
              0.8888888888888888,
              "#fdca26"
             ],
             [
              1,
              "#f0f921"
             ]
            ],
            "type": "histogram2dcontour"
           }
          ],
          "mesh3d": [
           {
            "colorbar": {
             "outlinewidth": 0,
             "ticks": ""
            },
            "type": "mesh3d"
           }
          ],
          "parcoords": [
           {
            "line": {
             "colorbar": {
              "outlinewidth": 0,
              "ticks": ""
             }
            },
            "type": "parcoords"
           }
          ],
          "pie": [
           {
            "automargin": true,
            "type": "pie"
           }
          ],
          "scatter": [
           {
            "fillpattern": {
             "fillmode": "overlay",
             "size": 10,
             "solidity": 0.2
            },
            "type": "scatter"
           }
          ],
          "scatter3d": [
           {
            "line": {
             "colorbar": {
              "outlinewidth": 0,
              "ticks": ""
             }
            },
            "marker": {
             "colorbar": {
              "outlinewidth": 0,
              "ticks": ""
             }
            },
            "type": "scatter3d"
           }
          ],
          "scattercarpet": [
           {
            "marker": {
             "colorbar": {
              "outlinewidth": 0,
              "ticks": ""
             }
            },
            "type": "scattercarpet"
           }
          ],
          "scattergeo": [
           {
            "marker": {
             "colorbar": {
              "outlinewidth": 0,
              "ticks": ""
             }
            },
            "type": "scattergeo"
           }
          ],
          "scattergl": [
           {
            "marker": {
             "colorbar": {
              "outlinewidth": 0,
              "ticks": ""
             }
            },
            "type": "scattergl"
           }
          ],
          "scattermapbox": [
           {
            "marker": {
             "colorbar": {
              "outlinewidth": 0,
              "ticks": ""
             }
            },
            "type": "scattermapbox"
           }
          ],
          "scatterpolar": [
           {
            "marker": {
             "colorbar": {
              "outlinewidth": 0,
              "ticks": ""
             }
            },
            "type": "scatterpolar"
           }
          ],
          "scatterpolargl": [
           {
            "marker": {
             "colorbar": {
              "outlinewidth": 0,
              "ticks": ""
             }
            },
            "type": "scatterpolargl"
           }
          ],
          "scatterternary": [
           {
            "marker": {
             "colorbar": {
              "outlinewidth": 0,
              "ticks": ""
             }
            },
            "type": "scatterternary"
           }
          ],
          "surface": [
           {
            "colorbar": {
             "outlinewidth": 0,
             "ticks": ""
            },
            "colorscale": [
             [
              0,
              "#0d0887"
             ],
             [
              0.1111111111111111,
              "#46039f"
             ],
             [
              0.2222222222222222,
              "#7201a8"
             ],
             [
              0.3333333333333333,
              "#9c179e"
             ],
             [
              0.4444444444444444,
              "#bd3786"
             ],
             [
              0.5555555555555556,
              "#d8576b"
             ],
             [
              0.6666666666666666,
              "#ed7953"
             ],
             [
              0.7777777777777778,
              "#fb9f3a"
             ],
             [
              0.8888888888888888,
              "#fdca26"
             ],
             [
              1,
              "#f0f921"
             ]
            ],
            "type": "surface"
           }
          ],
          "table": [
           {
            "cells": {
             "fill": {
              "color": "#EBF0F8"
             },
             "line": {
              "color": "white"
             }
            },
            "header": {
             "fill": {
              "color": "#C8D4E3"
             },
             "line": {
              "color": "white"
             }
            },
            "type": "table"
           }
          ]
         },
         "layout": {
          "annotationdefaults": {
           "arrowcolor": "#2a3f5f",
           "arrowhead": 0,
           "arrowwidth": 1
          },
          "autotypenumbers": "strict",
          "coloraxis": {
           "colorbar": {
            "outlinewidth": 0,
            "ticks": ""
           }
          },
          "colorscale": {
           "diverging": [
            [
             0,
             "#8e0152"
            ],
            [
             0.1,
             "#c51b7d"
            ],
            [
             0.2,
             "#de77ae"
            ],
            [
             0.3,
             "#f1b6da"
            ],
            [
             0.4,
             "#fde0ef"
            ],
            [
             0.5,
             "#f7f7f7"
            ],
            [
             0.6,
             "#e6f5d0"
            ],
            [
             0.7,
             "#b8e186"
            ],
            [
             0.8,
             "#7fbc41"
            ],
            [
             0.9,
             "#4d9221"
            ],
            [
             1,
             "#276419"
            ]
           ],
           "sequential": [
            [
             0,
             "#0d0887"
            ],
            [
             0.1111111111111111,
             "#46039f"
            ],
            [
             0.2222222222222222,
             "#7201a8"
            ],
            [
             0.3333333333333333,
             "#9c179e"
            ],
            [
             0.4444444444444444,
             "#bd3786"
            ],
            [
             0.5555555555555556,
             "#d8576b"
            ],
            [
             0.6666666666666666,
             "#ed7953"
            ],
            [
             0.7777777777777778,
             "#fb9f3a"
            ],
            [
             0.8888888888888888,
             "#fdca26"
            ],
            [
             1,
             "#f0f921"
            ]
           ],
           "sequentialminus": [
            [
             0,
             "#0d0887"
            ],
            [
             0.1111111111111111,
             "#46039f"
            ],
            [
             0.2222222222222222,
             "#7201a8"
            ],
            [
             0.3333333333333333,
             "#9c179e"
            ],
            [
             0.4444444444444444,
             "#bd3786"
            ],
            [
             0.5555555555555556,
             "#d8576b"
            ],
            [
             0.6666666666666666,
             "#ed7953"
            ],
            [
             0.7777777777777778,
             "#fb9f3a"
            ],
            [
             0.8888888888888888,
             "#fdca26"
            ],
            [
             1,
             "#f0f921"
            ]
           ]
          },
          "colorway": [
           "#636efa",
           "#EF553B",
           "#00cc96",
           "#ab63fa",
           "#FFA15A",
           "#19d3f3",
           "#FF6692",
           "#B6E880",
           "#FF97FF",
           "#FECB52"
          ],
          "font": {
           "color": "#2a3f5f"
          },
          "geo": {
           "bgcolor": "white",
           "lakecolor": "white",
           "landcolor": "#E5ECF6",
           "showlakes": true,
           "showland": true,
           "subunitcolor": "white"
          },
          "hoverlabel": {
           "align": "left"
          },
          "hovermode": "closest",
          "mapbox": {
           "style": "light"
          },
          "paper_bgcolor": "white",
          "plot_bgcolor": "#E5ECF6",
          "polar": {
           "angularaxis": {
            "gridcolor": "white",
            "linecolor": "white",
            "ticks": ""
           },
           "bgcolor": "#E5ECF6",
           "radialaxis": {
            "gridcolor": "white",
            "linecolor": "white",
            "ticks": ""
           }
          },
          "scene": {
           "xaxis": {
            "backgroundcolor": "#E5ECF6",
            "gridcolor": "white",
            "gridwidth": 2,
            "linecolor": "white",
            "showbackground": true,
            "ticks": "",
            "zerolinecolor": "white"
           },
           "yaxis": {
            "backgroundcolor": "#E5ECF6",
            "gridcolor": "white",
            "gridwidth": 2,
            "linecolor": "white",
            "showbackground": true,
            "ticks": "",
            "zerolinecolor": "white"
           },
           "zaxis": {
            "backgroundcolor": "#E5ECF6",
            "gridcolor": "white",
            "gridwidth": 2,
            "linecolor": "white",
            "showbackground": true,
            "ticks": "",
            "zerolinecolor": "white"
           }
          },
          "shapedefaults": {
           "line": {
            "color": "#2a3f5f"
           }
          },
          "ternary": {
           "aaxis": {
            "gridcolor": "white",
            "linecolor": "white",
            "ticks": ""
           },
           "baxis": {
            "gridcolor": "white",
            "linecolor": "white",
            "ticks": ""
           },
           "bgcolor": "#E5ECF6",
           "caxis": {
            "gridcolor": "white",
            "linecolor": "white",
            "ticks": ""
           }
          },
          "title": {
           "x": 0.05
          },
          "xaxis": {
           "automargin": true,
           "gridcolor": "white",
           "linecolor": "white",
           "ticks": "",
           "title": {
            "standoff": 15
           },
           "zerolinecolor": "white",
           "zerolinewidth": 2
          },
          "yaxis": {
           "automargin": true,
           "gridcolor": "white",
           "linecolor": "white",
           "ticks": "",
           "title": {
            "standoff": 15
           },
           "zerolinecolor": "white",
           "zerolinewidth": 2
          }
         }
        },
        "title": {
         "text": "Correlation Heatmap of Taylor Swift Audio Features",
         "x": 0.5
        },
        "width": 700,
        "xaxis": {
         "title": {
          "text": "Audio Features"
         }
        },
        "yaxis": {
         "title": {
          "text": "Audio Features"
         }
        }
       }
      }
     },
     "metadata": {},
     "output_type": "display_data"
    },
    {
     "data": {
      "text/html": [
       "\n",
       "        <iframe\n",
       "            width=\"100%\"\n",
       "            height=\"600\"\n",
       "            src=\"spotify_heatmap_plotly.html\"\n",
       "            frameborder=\"0\"\n",
       "            allowfullscreen\n",
       "            \n",
       "        ></iframe>\n",
       "        "
      ],
      "text/plain": [
       "<IPython.lib.display.IFrame at 0x147b69810>"
      ]
     },
     "execution_count": 64,
     "metadata": {},
     "output_type": "execute_result"
    }
   ],
   "source": [
    "# Select relevant columns for correlation analysis\n",
    "selected_df = data[[\"danceability\", \"energy\", \"key\", \"loudness\", \"speechiness\", \"acousticness\", \"instrumentalness\",\n",
    "                    \"liveness\", \"valence\", \"tempo\"]]\n",
    "\n",
    "# Calculate the correlation matrix\n",
    "correlation_matrix = selected_df.corr()\n",
    "\n",
    "# Create a correlation heatmap using plotly\n",
    "heatmap = go.Figure(data=go.Heatmap(z=correlation_matrix.values,\n",
    "                                    x=correlation_matrix.columns,\n",
    "                                    y=correlation_matrix.columns,\n",
    "                                    colorscale=\"GnBu\"))\n",
    "\n",
    "# Customize the layout and center-align the title\n",
    "heatmap.update_layout(\n",
    "    title=\"Correlation Heatmap of Taylor Swift Audio Features\",\n",
    "    xaxis_title=\"Audio Features\",\n",
    "    yaxis_title=\"Audio Features\",\n",
    "    font=dict(family=\"Arial\", size=12),\n",
    "    width=700,\n",
    "    height=500,\n",
    "    title_x=0.5,  # Set the title's horizontal position to the middle (0 to 1)\n",
    ")\n",
    "\n",
    "\n",
    "heatmap.show()\n",
    "\n",
    "# Save the correlation heatmap to an HTML file\n",
    "heatmap.write_html(\"spotify_heatmap_plotly.html\")\n",
    "\n",
    "# Display the HTML file (optional)\n",
    "from IPython.display import IFrame\n",
    "IFrame(src=\"spotify_heatmap_plotly.html\", width=\"100%\", height=600)\n",
    "\n",
    "correlation_matrix\n"
   ]
  },
  {
   "cell_type": "markdown",
   "metadata": {},
   "source": [
    "The correlation heatmap analysis reveals intriguing relationships among the audio features of Taylor Swift's songs. Notably, there is a strong positive correlation between energy and loudness, indicating that her more energetic tracks tend to be louder, a connection that aligns with musical intuition. Conversely, a compelling negative correlation emerges between speechiness and acousticness, implying a trade-off between spoken content and the presence of acoustic instrumentation. This suggests that when her music leans towards spoken word elements, it tends to reduce its reliance on acoustic qualities. Additionally, the moderate positive correlation between valence (positivity) and energy underscores that her songs with higher energy levels tend to convey a more positive emotional tone, a dynamic that resonates with listeners seeking uplifting musical experiences. Furthermore, the correlation heatmap highlights the interplay between danceability and tempo, revealing that while faster-paced songs are less danceable, slower-paced tracks tend to invite more danceability—an observation that adds depth to the understanding of her music's rhythmic characteristics. "
   ]
  },
  {
   "cell_type": "code",
   "execution_count": 65,
   "metadata": {},
   "outputs": [
    {
     "data": {
      "application/vnd.plotly.v1+json": {
       "config": {
        "plotlyServerURL": "https://plotly.com"
       },
       "data": [
        {
         "fill": "toself",
         "fillcolor": "rgba(212, 239, 223, 1)",
         "marker": {
          "color": "rgba(40, 180, 99, 1)"
         },
         "r": [
          0.5918196,
          0.5918196,
          0.06017113,
          0.2861963,
          0.008184635,
          0.1470871,
          0.3753655,
          0.5918196
         ],
         "theta": [
          "danceability",
          "energy",
          "speechiness",
          "acousticness",
          "instrumentalness",
          "liveness",
          "valence",
          "danceability"
         ],
         "type": "scatterpolar"
        }
       ],
       "layout": {
        "polar": {
         "radialaxis": {
          "range": [
           0,
           1
          ],
          "visible": true
         }
        },
        "showlegend": false,
        "template": {
         "data": {
          "bar": [
           {
            "error_x": {
             "color": "#2a3f5f"
            },
            "error_y": {
             "color": "#2a3f5f"
            },
            "marker": {
             "line": {
              "color": "#E5ECF6",
              "width": 0.5
             },
             "pattern": {
              "fillmode": "overlay",
              "size": 10,
              "solidity": 0.2
             }
            },
            "type": "bar"
           }
          ],
          "barpolar": [
           {
            "marker": {
             "line": {
              "color": "#E5ECF6",
              "width": 0.5
             },
             "pattern": {
              "fillmode": "overlay",
              "size": 10,
              "solidity": 0.2
             }
            },
            "type": "barpolar"
           }
          ],
          "carpet": [
           {
            "aaxis": {
             "endlinecolor": "#2a3f5f",
             "gridcolor": "white",
             "linecolor": "white",
             "minorgridcolor": "white",
             "startlinecolor": "#2a3f5f"
            },
            "baxis": {
             "endlinecolor": "#2a3f5f",
             "gridcolor": "white",
             "linecolor": "white",
             "minorgridcolor": "white",
             "startlinecolor": "#2a3f5f"
            },
            "type": "carpet"
           }
          ],
          "choropleth": [
           {
            "colorbar": {
             "outlinewidth": 0,
             "ticks": ""
            },
            "type": "choropleth"
           }
          ],
          "contour": [
           {
            "colorbar": {
             "outlinewidth": 0,
             "ticks": ""
            },
            "colorscale": [
             [
              0,
              "#0d0887"
             ],
             [
              0.1111111111111111,
              "#46039f"
             ],
             [
              0.2222222222222222,
              "#7201a8"
             ],
             [
              0.3333333333333333,
              "#9c179e"
             ],
             [
              0.4444444444444444,
              "#bd3786"
             ],
             [
              0.5555555555555556,
              "#d8576b"
             ],
             [
              0.6666666666666666,
              "#ed7953"
             ],
             [
              0.7777777777777778,
              "#fb9f3a"
             ],
             [
              0.8888888888888888,
              "#fdca26"
             ],
             [
              1,
              "#f0f921"
             ]
            ],
            "type": "contour"
           }
          ],
          "contourcarpet": [
           {
            "colorbar": {
             "outlinewidth": 0,
             "ticks": ""
            },
            "type": "contourcarpet"
           }
          ],
          "heatmap": [
           {
            "colorbar": {
             "outlinewidth": 0,
             "ticks": ""
            },
            "colorscale": [
             [
              0,
              "#0d0887"
             ],
             [
              0.1111111111111111,
              "#46039f"
             ],
             [
              0.2222222222222222,
              "#7201a8"
             ],
             [
              0.3333333333333333,
              "#9c179e"
             ],
             [
              0.4444444444444444,
              "#bd3786"
             ],
             [
              0.5555555555555556,
              "#d8576b"
             ],
             [
              0.6666666666666666,
              "#ed7953"
             ],
             [
              0.7777777777777778,
              "#fb9f3a"
             ],
             [
              0.8888888888888888,
              "#fdca26"
             ],
             [
              1,
              "#f0f921"
             ]
            ],
            "type": "heatmap"
           }
          ],
          "heatmapgl": [
           {
            "colorbar": {
             "outlinewidth": 0,
             "ticks": ""
            },
            "colorscale": [
             [
              0,
              "#0d0887"
             ],
             [
              0.1111111111111111,
              "#46039f"
             ],
             [
              0.2222222222222222,
              "#7201a8"
             ],
             [
              0.3333333333333333,
              "#9c179e"
             ],
             [
              0.4444444444444444,
              "#bd3786"
             ],
             [
              0.5555555555555556,
              "#d8576b"
             ],
             [
              0.6666666666666666,
              "#ed7953"
             ],
             [
              0.7777777777777778,
              "#fb9f3a"
             ],
             [
              0.8888888888888888,
              "#fdca26"
             ],
             [
              1,
              "#f0f921"
             ]
            ],
            "type": "heatmapgl"
           }
          ],
          "histogram": [
           {
            "marker": {
             "pattern": {
              "fillmode": "overlay",
              "size": 10,
              "solidity": 0.2
             }
            },
            "type": "histogram"
           }
          ],
          "histogram2d": [
           {
            "colorbar": {
             "outlinewidth": 0,
             "ticks": ""
            },
            "colorscale": [
             [
              0,
              "#0d0887"
             ],
             [
              0.1111111111111111,
              "#46039f"
             ],
             [
              0.2222222222222222,
              "#7201a8"
             ],
             [
              0.3333333333333333,
              "#9c179e"
             ],
             [
              0.4444444444444444,
              "#bd3786"
             ],
             [
              0.5555555555555556,
              "#d8576b"
             ],
             [
              0.6666666666666666,
              "#ed7953"
             ],
             [
              0.7777777777777778,
              "#fb9f3a"
             ],
             [
              0.8888888888888888,
              "#fdca26"
             ],
             [
              1,
              "#f0f921"
             ]
            ],
            "type": "histogram2d"
           }
          ],
          "histogram2dcontour": [
           {
            "colorbar": {
             "outlinewidth": 0,
             "ticks": ""
            },
            "colorscale": [
             [
              0,
              "#0d0887"
             ],
             [
              0.1111111111111111,
              "#46039f"
             ],
             [
              0.2222222222222222,
              "#7201a8"
             ],
             [
              0.3333333333333333,
              "#9c179e"
             ],
             [
              0.4444444444444444,
              "#bd3786"
             ],
             [
              0.5555555555555556,
              "#d8576b"
             ],
             [
              0.6666666666666666,
              "#ed7953"
             ],
             [
              0.7777777777777778,
              "#fb9f3a"
             ],
             [
              0.8888888888888888,
              "#fdca26"
             ],
             [
              1,
              "#f0f921"
             ]
            ],
            "type": "histogram2dcontour"
           }
          ],
          "mesh3d": [
           {
            "colorbar": {
             "outlinewidth": 0,
             "ticks": ""
            },
            "type": "mesh3d"
           }
          ],
          "parcoords": [
           {
            "line": {
             "colorbar": {
              "outlinewidth": 0,
              "ticks": ""
             }
            },
            "type": "parcoords"
           }
          ],
          "pie": [
           {
            "automargin": true,
            "type": "pie"
           }
          ],
          "scatter": [
           {
            "fillpattern": {
             "fillmode": "overlay",
             "size": 10,
             "solidity": 0.2
            },
            "type": "scatter"
           }
          ],
          "scatter3d": [
           {
            "line": {
             "colorbar": {
              "outlinewidth": 0,
              "ticks": ""
             }
            },
            "marker": {
             "colorbar": {
              "outlinewidth": 0,
              "ticks": ""
             }
            },
            "type": "scatter3d"
           }
          ],
          "scattercarpet": [
           {
            "marker": {
             "colorbar": {
              "outlinewidth": 0,
              "ticks": ""
             }
            },
            "type": "scattercarpet"
           }
          ],
          "scattergeo": [
           {
            "marker": {
             "colorbar": {
              "outlinewidth": 0,
              "ticks": ""
             }
            },
            "type": "scattergeo"
           }
          ],
          "scattergl": [
           {
            "marker": {
             "colorbar": {
              "outlinewidth": 0,
              "ticks": ""
             }
            },
            "type": "scattergl"
           }
          ],
          "scattermapbox": [
           {
            "marker": {
             "colorbar": {
              "outlinewidth": 0,
              "ticks": ""
             }
            },
            "type": "scattermapbox"
           }
          ],
          "scatterpolar": [
           {
            "marker": {
             "colorbar": {
              "outlinewidth": 0,
              "ticks": ""
             }
            },
            "type": "scatterpolar"
           }
          ],
          "scatterpolargl": [
           {
            "marker": {
             "colorbar": {
              "outlinewidth": 0,
              "ticks": ""
             }
            },
            "type": "scatterpolargl"
           }
          ],
          "scatterternary": [
           {
            "marker": {
             "colorbar": {
              "outlinewidth": 0,
              "ticks": ""
             }
            },
            "type": "scatterternary"
           }
          ],
          "surface": [
           {
            "colorbar": {
             "outlinewidth": 0,
             "ticks": ""
            },
            "colorscale": [
             [
              0,
              "#0d0887"
             ],
             [
              0.1111111111111111,
              "#46039f"
             ],
             [
              0.2222222222222222,
              "#7201a8"
             ],
             [
              0.3333333333333333,
              "#9c179e"
             ],
             [
              0.4444444444444444,
              "#bd3786"
             ],
             [
              0.5555555555555556,
              "#d8576b"
             ],
             [
              0.6666666666666666,
              "#ed7953"
             ],
             [
              0.7777777777777778,
              "#fb9f3a"
             ],
             [
              0.8888888888888888,
              "#fdca26"
             ],
             [
              1,
              "#f0f921"
             ]
            ],
            "type": "surface"
           }
          ],
          "table": [
           {
            "cells": {
             "fill": {
              "color": "#EBF0F8"
             },
             "line": {
              "color": "white"
             }
            },
            "header": {
             "fill": {
              "color": "#C8D4E3"
             },
             "line": {
              "color": "white"
             }
            },
            "type": "table"
           }
          ]
         },
         "layout": {
          "annotationdefaults": {
           "arrowcolor": "#2a3f5f",
           "arrowhead": 0,
           "arrowwidth": 1
          },
          "autotypenumbers": "strict",
          "coloraxis": {
           "colorbar": {
            "outlinewidth": 0,
            "ticks": ""
           }
          },
          "colorscale": {
           "diverging": [
            [
             0,
             "#8e0152"
            ],
            [
             0.1,
             "#c51b7d"
            ],
            [
             0.2,
             "#de77ae"
            ],
            [
             0.3,
             "#f1b6da"
            ],
            [
             0.4,
             "#fde0ef"
            ],
            [
             0.5,
             "#f7f7f7"
            ],
            [
             0.6,
             "#e6f5d0"
            ],
            [
             0.7,
             "#b8e186"
            ],
            [
             0.8,
             "#7fbc41"
            ],
            [
             0.9,
             "#4d9221"
            ],
            [
             1,
             "#276419"
            ]
           ],
           "sequential": [
            [
             0,
             "#0d0887"
            ],
            [
             0.1111111111111111,
             "#46039f"
            ],
            [
             0.2222222222222222,
             "#7201a8"
            ],
            [
             0.3333333333333333,
             "#9c179e"
            ],
            [
             0.4444444444444444,
             "#bd3786"
            ],
            [
             0.5555555555555556,
             "#d8576b"
            ],
            [
             0.6666666666666666,
             "#ed7953"
            ],
            [
             0.7777777777777778,
             "#fb9f3a"
            ],
            [
             0.8888888888888888,
             "#fdca26"
            ],
            [
             1,
             "#f0f921"
            ]
           ],
           "sequentialminus": [
            [
             0,
             "#0d0887"
            ],
            [
             0.1111111111111111,
             "#46039f"
            ],
            [
             0.2222222222222222,
             "#7201a8"
            ],
            [
             0.3333333333333333,
             "#9c179e"
            ],
            [
             0.4444444444444444,
             "#bd3786"
            ],
            [
             0.5555555555555556,
             "#d8576b"
            ],
            [
             0.6666666666666666,
             "#ed7953"
            ],
            [
             0.7777777777777778,
             "#fb9f3a"
            ],
            [
             0.8888888888888888,
             "#fdca26"
            ],
            [
             1,
             "#f0f921"
            ]
           ]
          },
          "colorway": [
           "#636efa",
           "#EF553B",
           "#00cc96",
           "#ab63fa",
           "#FFA15A",
           "#19d3f3",
           "#FF6692",
           "#B6E880",
           "#FF97FF",
           "#FECB52"
          ],
          "font": {
           "color": "#2a3f5f"
          },
          "geo": {
           "bgcolor": "white",
           "lakecolor": "white",
           "landcolor": "#E5ECF6",
           "showlakes": true,
           "showland": true,
           "subunitcolor": "white"
          },
          "hoverlabel": {
           "align": "left"
          },
          "hovermode": "closest",
          "mapbox": {
           "style": "light"
          },
          "paper_bgcolor": "white",
          "plot_bgcolor": "#E5ECF6",
          "polar": {
           "angularaxis": {
            "gridcolor": "white",
            "linecolor": "white",
            "ticks": ""
           },
           "bgcolor": "#E5ECF6",
           "radialaxis": {
            "gridcolor": "white",
            "linecolor": "white",
            "ticks": ""
           }
          },
          "scene": {
           "xaxis": {
            "backgroundcolor": "#E5ECF6",
            "gridcolor": "white",
            "gridwidth": 2,
            "linecolor": "white",
            "showbackground": true,
            "ticks": "",
            "zerolinecolor": "white"
           },
           "yaxis": {
            "backgroundcolor": "#E5ECF6",
            "gridcolor": "white",
            "gridwidth": 2,
            "linecolor": "white",
            "showbackground": true,
            "ticks": "",
            "zerolinecolor": "white"
           },
           "zaxis": {
            "backgroundcolor": "#E5ECF6",
            "gridcolor": "white",
            "gridwidth": 2,
            "linecolor": "white",
            "showbackground": true,
            "ticks": "",
            "zerolinecolor": "white"
           }
          },
          "shapedefaults": {
           "line": {
            "color": "#2a3f5f"
           }
          },
          "ternary": {
           "aaxis": {
            "gridcolor": "white",
            "linecolor": "white",
            "ticks": ""
           },
           "baxis": {
            "gridcolor": "white",
            "linecolor": "white",
            "ticks": ""
           },
           "bgcolor": "#E5ECF6",
           "caxis": {
            "gridcolor": "white",
            "linecolor": "white",
            "ticks": ""
           }
          },
          "title": {
           "x": 0.05
          },
          "xaxis": {
           "automargin": true,
           "gridcolor": "white",
           "linecolor": "white",
           "ticks": "",
           "title": {
            "standoff": 15
           },
           "zerolinecolor": "white",
           "zerolinewidth": 2
          },
          "yaxis": {
           "automargin": true,
           "gridcolor": "white",
           "linecolor": "white",
           "ticks": "",
           "title": {
            "standoff": 15
           },
           "zerolinecolor": "white",
           "zerolinewidth": 2
          }
         }
        },
        "title": {
         "text": "Music Characteristics of Taylor Swift",
         "x": 0.5,
         "y": 0.95
        }
       }
      }
     },
     "metadata": {},
     "output_type": "display_data"
    },
    {
     "data": {
      "text/html": [
       "\n",
       "        <iframe\n",
       "            width=\"100%\"\n",
       "            height=\"600\"\n",
       "            src=\"radar_plotly.html\"\n",
       "            frameborder=\"0\"\n",
       "            allowfullscreen\n",
       "            \n",
       "        ></iframe>\n",
       "        "
      ],
      "text/plain": [
       "<IPython.lib.display.IFrame at 0x1378e3a90>"
      ]
     },
     "execution_count": 65,
     "metadata": {},
     "output_type": "execute_result"
    }
   ],
   "source": [
    "\n",
    "\n",
    "# Assuming you already have the 'data' DataFrame loaded\n",
    "\n",
    "# Select columns to exclude\n",
    "exclude_columns = ['track_id', 'track_name', 'album_name', 'key_name', 'key', 'loudness', 'tempo',\n",
    "                   'duration_ms', 'album_id', 'album_release_date', 'album_release_year', 'mode_name',\n",
    "                   'key_mode', 'mode', 'time_signature', 'explicit']\n",
    "\n",
    "# Calculate the mean of remaining columns\n",
    "mean_track_features = data.drop(columns=exclude_columns).mean()\n",
    "\n",
    "# Create a scatter polar plot\n",
    "fig = go.Figure(data=go.Scatterpolar(\n",
    "    r=[0.5918196, 0.5918196, 0.06017113, 0.2861963, 0.008184635, 0.1470871, 0.3753655, 0.5918196],\n",
    "    theta=['danceability', 'energy', 'speechiness', 'acousticness', 'instrumentalness', 'liveness', 'valence', 'danceability'],\n",
    "    fill='toself',\n",
    "    fillcolor='rgba(212, 239, 223, 1)',\n",
    "    marker=dict(color='rgba(40, 180, 99, 1)')\n",
    "))\n",
    "\n",
    "# Customize the layout\n",
    "fig.update_layout(\n",
    "    title=\"Music Characteristics of Taylor Swift\",\n",
    "    title_x=0.5,  # Set the title's horizontal position to the middle (0 to 1)\n",
    "    title_y=0.95, \n",
    "    polar=dict(\n",
    "        radialaxis=dict(\n",
    "            visible=True,\n",
    "            range=[0, 1]\n",
    "        )\n",
    "    ),\n",
    "    showlegend=False\n",
    ")\n",
    "\n",
    "# Show the radar plot\n",
    "fig.show()\n",
    "\n",
    "# Save the radar plot to an HTML file\n",
    "pio.write_html(fig, \"radar_plotly.html\")\n",
    "\n",
    "# Display the HTML file (optional)\n",
    "from IPython.display import IFrame\n",
    "IFrame(src=\"radar_plotly.html\", width=\"100%\", height=600)\n"
   ]
  },
  {
   "cell_type": "markdown",
   "metadata": {},
   "source": [
    "The radar plot showcasing the mean values of Taylor Swift's music characteristics unveils key insights into her distinctive musical style. Taylor Swift's songs, on average, exhibit a remarkable combination of attributes that resonate with her audience. Notably, her music is marked by a lively and energetic vibe, with high scores in danceability, energy, and tempo, signifying an innate ability to craft tracks that inspire movement and enthusiasm. Furthermore, her compositions consistently maintain a positive and joyful emotional tone, as indicated by the elevated valence score.\n",
    "\n",
    "Despite the emphasis on energy and liveliness, Taylor Swift artfully balances her musical narratives with lower speechiness and instrumentalness scores, highlighting her dedication to melodic storytelling and lyrical depth. The moderate levels of acousticness and liveness showcase her versatility in blending digital and acoustic elements while preserving a sense of dynamism. Altogether, these characteristics illuminate Taylor Swift's enduring appeal as an artist who not only creates chart-topping hits but also crafts emotionally resonant songs that connect with a diverse and devoted fanbase worldwide."
   ]
  },
  {
   "cell_type": "code",
   "execution_count": 66,
   "metadata": {},
   "outputs": [
    {
     "data": {
      "application/vnd.plotly.v1+json": {
       "config": {
        "plotlyServerURL": "https://plotly.com"
       },
       "data": [
        {
         "customdata": [
          [
           "Welcome To New York (Taylor's Version)",
           "1989 (Taylor's Version) [Deluxe]",
           2023
          ],
          [
           "Blank Space (Taylor's Version)",
           "1989 (Taylor's Version) [Deluxe]",
           2023
          ],
          [
           "All You Had To Do Was Stay (Taylor's Version)",
           "1989 (Taylor's Version) [Deluxe]",
           2023
          ],
          [
           "Shake It Off (Taylor's Version)",
           "1989 (Taylor's Version) [Deluxe]",
           2023
          ],
          [
           "I Wish You Would (Taylor's Version)",
           "1989 (Taylor's Version) [Deluxe]",
           2023
          ],
          [
           "Wildest Dreams (Taylor's Version)",
           "1989 (Taylor's Version) [Deluxe]",
           2023
          ],
          [
           "How You Get The Girl (Taylor's Version)",
           "1989 (Taylor's Version) [Deluxe]",
           2023
          ],
          [
           "I Know Places (Taylor's Version)",
           "1989 (Taylor's Version) [Deluxe]",
           2023
          ],
          [
           "New Romantics (Taylor's Version)",
           "1989 (Taylor's Version) [Deluxe]",
           2023
          ],
          [
           "Welcome To New York (Taylor's Version)",
           "1989 (Taylor's Version)",
           2023
          ],
          [
           "Blank Space (Taylor's Version)",
           "1989 (Taylor's Version)",
           2023
          ],
          [
           "Shake It Off (Taylor's Version)",
           "1989 (Taylor's Version)",
           2023
          ],
          [
           "I Wish You Would (Taylor's Version)",
           "1989 (Taylor's Version)",
           2023
          ],
          [
           "Wildest Dreams (Taylor's Version)",
           "1989 (Taylor's Version)",
           2023
          ],
          [
           "How You Get The Girl (Taylor's Version)",
           "1989 (Taylor's Version)",
           2023
          ],
          [
           "I Know Places (Taylor's Version)",
           "1989 (Taylor's Version)",
           2023
          ],
          [
           "New Romantics (Taylor's Version)",
           "1989 (Taylor's Version)",
           2023
          ],
          [
           "Speak Now (Taylor's Version)",
           "Speak Now (Taylor's Version)",
           2023
          ],
          [
           "Mean (Taylor's Version)",
           "Speak Now (Taylor's Version)",
           2023
          ],
          [
           "The Story Of Us (Taylor's Version)",
           "Speak Now (Taylor's Version)",
           2023
          ],
          [
           "Better Than Revenge (Taylor's Version)",
           "Speak Now (Taylor's Version)",
           2023
          ],
          [
           "I Can See You (Taylor’s Version) (From The Vault)",
           "Speak Now (Taylor's Version)",
           2023
          ],
          [
           "Foolish One (Taylor’s Version) (From The Vault)",
           "Speak Now (Taylor's Version)",
           2023
          ],
          [
           "Timeless (Taylor’s Version) (From The Vault)",
           "Speak Now (Taylor's Version)",
           2023
          ],
          [
           "The Great War",
           "Midnights (The Til Dawn Edition)",
           2023
          ],
          [
           "High Infidelity",
           "Midnights (The Til Dawn Edition)",
           2023
          ],
          [
           "Would've, Could've, Should've",
           "Midnights (The Til Dawn Edition)",
           2023
          ],
          [
           "Anti-Hero",
           "Midnights (3am Edition)",
           2022
          ],
          [
           "The Great War",
           "Midnights (3am Edition)",
           2022
          ],
          [
           "High Infidelity",
           "Midnights (3am Edition)",
           2022
          ],
          [
           "Would've, Could've, Should've",
           "Midnights (3am Edition)",
           2022
          ],
          [
           "Anti-Hero",
           "Midnights",
           2022
          ],
          [
           "I Knew You Were Trouble (Taylor's Version)",
           "Red (Taylor's Version)",
           2021
          ],
          [
           "22 (Taylor's Version)",
           "Red (Taylor's Version)",
           2021
          ],
          [
           "We Are Never Ever Getting Back Together (Taylor's Version)",
           "Red (Taylor's Version)",
           2021
          ],
          [
           "Stay Stay Stay (Taylor's Version)",
           "Red (Taylor's Version)",
           2021
          ],
          [
           "Holy Ground (Taylor's Version)",
           "Red (Taylor's Version)",
           2021
          ],
          [
           "The Lucky One (Taylor's Version)",
           "Red (Taylor's Version)",
           2021
          ],
          [
           "Starlight (Taylor's Version)",
           "Red (Taylor's Version)",
           2021
          ],
          [
           "Girl At Home (Taylor's Version)",
           "Red (Taylor's Version)",
           2021
          ],
          [
           "Babe (Taylor's Version) (From The Vault)",
           "Red (Taylor's Version)",
           2021
          ],
          [
           "The Very First Night (Taylor's Version) (From The Vault)",
           "Red (Taylor's Version)",
           2021
          ],
          [
           "Hey Stephen (Taylor’s Version)",
           "Fearless (Taylor's Version)",
           2021
          ],
          [
           "Tell Me Why (Taylor’s Version)",
           "Fearless (Taylor's Version)",
           2021
          ],
          [
           "Forever & Always (Taylor’s Version)",
           "Fearless (Taylor's Version)",
           2021
          ],
          [
           "Jump Then Fall (Taylor’s Version)",
           "Fearless (Taylor's Version)",
           2021
          ],
          [
           "The Other Side Of The Door (Taylor’s Version)",
           "Fearless (Taylor's Version)",
           2021
          ],
          [
           "Mr. Perfectly Fine (Taylor’s Version) (From The Vault)",
           "Fearless (Taylor's Version)",
           2021
          ],
          [
           "That’s When (feat. Keith Urban) (Taylor’s Version) (From The Vault)",
           "Fearless (Taylor's Version)",
           2021
          ],
          [
           "Bye Bye Baby (Taylor’s Version) (From The Vault)",
           "Fearless (Taylor's Version)",
           2021
          ],
          [
           "willow",
           "evermore (deluxe version)",
           2021
          ],
          [
           "no body, no crime (feat. HAIM)",
           "evermore (deluxe version)",
           2021
          ],
          [
           "ivy",
           "evermore (deluxe version)",
           2021
          ],
          [
           "cowboy like me",
           "evermore (deluxe version)",
           2021
          ],
          [
           "long story short",
           "evermore (deluxe version)",
           2021
          ],
          [
           "closure",
           "evermore (deluxe version)",
           2021
          ],
          [
           "right where you left me - bonus track",
           "evermore (deluxe version)",
           2021
          ]
         ],
         "hovertemplate": "emotion=Happy/Joyful<br>energy=%{x}<br>valence=%{y}<br>track_name=%{customdata[0]}<br>album_name=%{customdata[1]}<br>album_release_year=%{customdata[2]}<extra></extra>",
         "legendgroup": "Happy/Joyful",
         "marker": {
          "color": "#1ABC9C",
          "opacity": 0.7,
          "size": 10,
          "symbol": "circle"
         },
         "mode": "markers",
         "name": "Happy/Joyful",
         "orientation": "v",
         "showlegend": true,
         "type": "scatter",
         "x": [
          0.61,
          0.733,
          0.721,
          0.808,
          0.858,
          0.674,
          0.691,
          0.788,
          0.846,
          0.607,
          0.725,
          0.807,
          0.851,
          0.672,
          0.682,
          0.803,
          0.855,
          0.677,
          0.692,
          0.781,
          0.885,
          0.764,
          0.588,
          0.585,
          0.737,
          0.545,
          0.837,
          0.634,
          0.741,
          0.529,
          0.84,
          0.643,
          0.557,
          0.695,
          0.686,
          0.681,
          0.809,
          0.571,
          0.685,
          0.736,
          0.743,
          0.733,
          0.571,
          0.909,
          0.821,
          0.69,
          0.873,
          0.817,
          0.608,
          0.624,
          0.574,
          0.613,
          0.545,
          0.517,
          0.73,
          0.704,
          0.619
         ],
         "xaxis": "x",
         "y": [
          0.685,
          0.701,
          0.52,
          0.917,
          0.539,
          0.514,
          0.538,
          0.652,
          0.698,
          0.674,
          0.755,
          0.921,
          0.541,
          0.514,
          0.547,
          0.68,
          0.698,
          0.639,
          0.621,
          0.57,
          0.665,
          0.819,
          0.543,
          0.65,
          0.592,
          0.766,
          0.534,
          0.519,
          0.554,
          0.755,
          0.55,
          0.533,
          0.767,
          0.642,
          0.716,
          0.663,
          0.511,
          0.538,
          0.605,
          0.612,
          0.746,
          0.581,
          0.797,
          0.541,
          0.673,
          0.624,
          0.629,
          0.714,
          0.508,
          0.527,
          0.529,
          0.535,
          0.535,
          0.511,
          0.573,
          0.92,
          0.645
         ],
         "yaxis": "y"
        },
        {
         "customdata": [
          [
           "Style (Taylor's Version)",
           "1989 (Taylor's Version) [Deluxe]",
           2023
          ],
          [
           "Out Of The Woods (Taylor's Version)",
           "1989 (Taylor's Version) [Deluxe]",
           2023
          ],
          [
           "Bad Blood (Taylor's Version)",
           "1989 (Taylor's Version) [Deluxe]",
           2023
          ],
          [
           "This Love (Taylor’s Version)",
           "1989 (Taylor's Version) [Deluxe]",
           2023
          ],
          [
           "Wonderland (Taylor's Version)",
           "1989 (Taylor's Version) [Deluxe]",
           2023
          ],
          [
           "Say Don't Go (Taylor's Version) (From The Vault)",
           "1989 (Taylor's Version) [Deluxe]",
           2023
          ],
          [
           "Now That We Don't Talk (Taylor's Version) (From The Vault)",
           "1989 (Taylor's Version) [Deluxe]",
           2023
          ],
          [
           "Suburban Legends (Taylor's Version) (From The Vault)",
           "1989 (Taylor's Version) [Deluxe]",
           2023
          ],
          [
           "Is It Over Now? (Taylor's Version) (From The Vault)",
           "1989 (Taylor's Version) [Deluxe]",
           2023
          ],
          [
           "Bad Blood (feat. Kendrick Lamar) (Taylor's Version)",
           "1989 (Taylor's Version) [Deluxe]",
           2023
          ],
          [
           "Style (Taylor's Version)",
           "1989 (Taylor's Version)",
           2023
          ],
          [
           "Out Of The Woods (Taylor's Version)",
           "1989 (Taylor's Version)",
           2023
          ],
          [
           "All You Had To Do Was Stay (Taylor's Version)",
           "1989 (Taylor's Version)",
           2023
          ],
          [
           "Bad Blood (Taylor's Version)",
           "1989 (Taylor's Version)",
           2023
          ],
          [
           "This Love (Taylor’s Version)",
           "1989 (Taylor's Version)",
           2023
          ],
          [
           "Wonderland (Taylor's Version)",
           "1989 (Taylor's Version)",
           2023
          ],
          [
           "Say Don't Go (Taylor's Version) (From The Vault)",
           "1989 (Taylor's Version)",
           2023
          ],
          [
           "Now That We Don't Talk (Taylor's Version) (From The Vault)",
           "1989 (Taylor's Version)",
           2023
          ],
          [
           "Suburban Legends (Taylor's Version) (From The Vault)",
           "1989 (Taylor's Version)",
           2023
          ],
          [
           "Is It Over Now? (Taylor's Version) (From The Vault)",
           "1989 (Taylor's Version)",
           2023
          ],
          [
           "Mine (Taylor's Version)",
           "Speak Now (Taylor's Version)",
           2023
          ],
          [
           "Sparks Fly (Taylor’s Version)",
           "Speak Now (Taylor's Version)",
           2023
          ],
          [
           "Back To December (Taylor's Version)",
           "Speak Now (Taylor's Version)",
           2023
          ],
          [
           "Enchanted (Taylor's Version)",
           "Speak Now (Taylor's Version)",
           2023
          ],
          [
           "Innocent (Taylor's Version)",
           "Speak Now (Taylor's Version)",
           2023
          ],
          [
           "Haunted (Taylor's Version)",
           "Speak Now (Taylor's Version)",
           2023
          ],
          [
           "Long Live (Taylor's Version)",
           "Speak Now (Taylor's Version)",
           2023
          ],
          [
           "Superman (Taylor’s Version)",
           "Speak Now (Taylor's Version)",
           2023
          ],
          [
           "Electric Touch (feat. Fall Out Boy) (Taylor’s Version) (From The Vault)",
           "Speak Now (Taylor's Version)",
           2023
          ],
          [
           "When Emma Falls in Love (Taylor’s Version) (From The Vault)",
           "Speak Now (Taylor's Version)",
           2023
          ],
          [
           "Castles Crumbling (feat. Hayley Williams) (Taylor’s Version) (From The Vault)",
           "Speak Now (Taylor's Version)",
           2023
          ],
          [
           "Anti-Hero",
           "Midnights (The Til Dawn Edition)",
           2023
          ],
          [
           "Question...?",
           "Midnights (The Til Dawn Edition)",
           2023
          ],
          [
           "Bejeweled",
           "Midnights (The Til Dawn Edition)",
           2023
          ],
          [
           "Karma",
           "Midnights (The Til Dawn Edition)",
           2023
          ],
          [
           "Hits Different",
           "Midnights (The Til Dawn Edition)",
           2023
          ],
          [
           "Karma (feat. Ice Spice)",
           "Midnights (The Til Dawn Edition)",
           2023
          ],
          [
           "Question...?",
           "Midnights (3am Edition)",
           2022
          ],
          [
           "Bejeweled",
           "Midnights (3am Edition)",
           2022
          ],
          [
           "Karma",
           "Midnights (3am Edition)",
           2022
          ],
          [
           "Paris",
           "Midnights (3am Edition)",
           2022
          ],
          [
           "Question...?",
           "Midnights",
           2022
          ],
          [
           "Bejeweled",
           "Midnights",
           2022
          ],
          [
           "Karma",
           "Midnights",
           2022
          ],
          [
           "State Of Grace (Taylor's Version)",
           "Red (Taylor's Version)",
           2021
          ],
          [
           "Red (Taylor's Version)",
           "Red (Taylor's Version)",
           2021
          ],
          [
           "Treacherous (Taylor's Version)",
           "Red (Taylor's Version)",
           2021
          ],
          [
           "All Too Well (Taylor's Version)",
           "Red (Taylor's Version)",
           2021
          ],
          [
           "I Almost Do (Taylor's Version)",
           "Red (Taylor's Version)",
           2021
          ],
          [
           "The Last Time (feat. Gary Lightbody of Snow Patrol) (Taylor’s Version)",
           "Red (Taylor's Version)",
           2021
          ],
          [
           "Everything Has Changed (feat. Ed Sheeran) (Taylor’s Version)",
           "Red (Taylor's Version)",
           2021
          ],
          [
           "Begin Again (Taylor's Version)",
           "Red (Taylor's Version)",
           2021
          ],
          [
           "Come Back...Be Here (Taylor's Version)",
           "Red (Taylor's Version)",
           2021
          ],
          [
           "Better Man (Taylor's Version) (From The Vault)",
           "Red (Taylor's Version)",
           2021
          ],
          [
           "Message In A Bottle (Taylor's Version) (From The Vault)",
           "Red (Taylor's Version)",
           2021
          ],
          [
           "I Bet You Think About Me (feat. Chris Stapleton) (Taylor’s Version) (From The Vault)",
           "Red (Taylor's Version)",
           2021
          ],
          [
           "Forever Winter (Taylor's Version) (From The Vault)",
           "Red (Taylor's Version)",
           2021
          ],
          [
           "All Too Well (10 Minute Version) (Taylor's Version) (From The Vault)",
           "Red (Taylor's Version)",
           2021
          ],
          [
           "Fearless (Taylor’s Version)",
           "Fearless (Taylor's Version)",
           2021
          ],
          [
           "Fifteen (Taylor’s Version)",
           "Fearless (Taylor's Version)",
           2021
          ],
          [
           "Love Story (Taylor’s Version)",
           "Fearless (Taylor's Version)",
           2021
          ],
          [
           "White Horse (Taylor’s Version)",
           "Fearless (Taylor's Version)",
           2021
          ],
          [
           "You Belong With Me (Taylor’s Version)",
           "Fearless (Taylor's Version)",
           2021
          ],
          [
           "Breathe (feat. Colbie Caillat) (Taylor’s Version)",
           "Fearless (Taylor's Version)",
           2021
          ],
          [
           "The Way I Loved You (Taylor’s Version)",
           "Fearless (Taylor's Version)",
           2021
          ],
          [
           "The Best Day (Taylor’s Version)",
           "Fearless (Taylor's Version)",
           2021
          ],
          [
           "Change (Taylor’s Version)",
           "Fearless (Taylor's Version)",
           2021
          ],
          [
           "Untouchable (Taylor’s Version)",
           "Fearless (Taylor's Version)",
           2021
          ],
          [
           "Come In With The Rain (Taylor’s Version)",
           "Fearless (Taylor's Version)",
           2021
          ],
          [
           "Superstar (Taylor’s Version)",
           "Fearless (Taylor's Version)",
           2021
          ],
          [
           "Today Was A Fairytale (Taylor’s Version)",
           "Fearless (Taylor's Version)",
           2021
          ],
          [
           "coney island (feat. The National)",
           "evermore (deluxe version)",
           2021
          ],
          [
           "marjorie",
           "evermore (deluxe version)",
           2021
          ]
         ],
         "hovertemplate": "emotion=Angry/Tense<br>energy=%{x}<br>valence=%{y}<br>track_name=%{customdata[0]}<br>album_name=%{customdata[1]}<br>album_release_year=%{customdata[2]}<extra></extra>",
         "legendgroup": "Angry/Tense",
         "marker": {
          "color": "#148F77",
          "opacity": 0.7,
          "size": 10,
          "symbol": "circle"
         },
         "mode": "markers",
         "name": "Angry/Tense",
         "orientation": "v",
         "showlegend": true,
         "type": "scatter",
         "x": [
          0.822,
          0.885,
          0.683,
          0.509,
          0.705,
          0.551,
          0.501,
          0.625,
          0.656,
          0.648,
          0.824,
          0.885,
          0.72,
          0.686,
          0.511,
          0.708,
          0.547,
          0.512,
          0.621,
          0.658,
          0.783,
          0.758,
          0.635,
          0.532,
          0.598,
          0.915,
          0.65,
          0.742,
          0.855,
          0.763,
          0.57,
          0.649,
          0.509,
          0.546,
          0.614,
          0.782,
          0.616,
          0.502,
          0.55,
          0.622,
          0.509,
          0.502,
          0.559,
          0.62,
          0.713,
          0.777,
          0.593,
          0.528,
          0.559,
          0.534,
          0.61,
          0.527,
          0.632,
          0.579,
          0.791,
          0.715,
          0.552,
          0.518,
          0.741,
          0.646,
          0.792,
          0.517,
          0.773,
          0.626,
          0.732,
          0.576,
          0.815,
          0.531,
          0.564,
          0.555,
          0.779,
          0.537,
          0.561
         ],
         "xaxis": "x",
         "y": [
          0.305,
          0.206,
          0.363,
          0.0567,
          0.385,
          0.164,
          0.0831,
          0.323,
          0.191,
          0.174,
          0.292,
          0.192,
          0.481,
          0.364,
          0.0586,
          0.337,
          0.192,
          0.0662,
          0.344,
          0.176,
          0.49,
          0.387,
          0.203,
          0.216,
          0.149,
          0.355,
          0.0752,
          0.356,
          0.282,
          0.231,
          0.378,
          0.497,
          0.113,
          0.425,
          0.0956,
          0.239,
          0.0734,
          0.112,
          0.412,
          0.106,
          0.345,
          0.106,
          0.433,
          0.0969,
          0.328,
          0.408,
          0.299,
          0.132,
          0.248,
          0.155,
          0.474,
          0.267,
          0.399,
          0.255,
          0.494,
          0.473,
          0.41,
          0.205,
          0.43,
          0.289,
          0.415,
          0.366,
          0.474,
          0.321,
          0.472,
          0.469,
          0.344,
          0.224,
          0.167,
          0.171,
          0.328,
          0.292,
          0.287
         ],
         "yaxis": "y"
        },
        {
         "customdata": [
          [
           "Clean (Taylor's Version)",
           "1989 (Taylor's Version) [Deluxe]",
           2023
          ],
          [
           "You Are In Love (Taylor's Version)",
           "1989 (Taylor's Version) [Deluxe]",
           2023
          ],
          [
           "\"Slut!\" (Taylor's Version) (From The Vault)",
           "1989 (Taylor's Version) [Deluxe]",
           2023
          ],
          [
           "Clean (Taylor's Version)",
           "1989 (Taylor's Version)",
           2023
          ],
          [
           "You Are In Love (Taylor's Version)",
           "1989 (Taylor's Version)",
           2023
          ],
          [
           "\"Slut!\" (Taylor's Version) (From The Vault)",
           "1989 (Taylor's Version)",
           2023
          ],
          [
           "Dear John (Taylor's Version)",
           "Speak Now (Taylor's Version)",
           2023
          ],
          [
           "Last Kiss (Taylor's Version)",
           "Speak Now (Taylor's Version)",
           2023
          ],
          [
           "Ours (Taylor’s Version)",
           "Speak Now (Taylor's Version)",
           2023
          ],
          [
           "Lavender Haze",
           "Midnights (The Til Dawn Edition)",
           2023
          ],
          [
           "Maroon",
           "Midnights (The Til Dawn Edition)",
           2023
          ],
          [
           "Snow On The Beach (feat. Lana Del Rey)",
           "Midnights (The Til Dawn Edition)",
           2023
          ],
          [
           "You're On Your Own, Kid",
           "Midnights (The Til Dawn Edition)",
           2023
          ],
          [
           "Midnight Rain",
           "Midnights (The Til Dawn Edition)",
           2023
          ],
          [
           "Vigilante Shit",
           "Midnights (The Til Dawn Edition)",
           2023
          ],
          [
           "Labyrinth",
           "Midnights (The Til Dawn Edition)",
           2023
          ],
          [
           "Sweet Nothing",
           "Midnights (The Til Dawn Edition)",
           2023
          ],
          [
           "Mastermind",
           "Midnights (The Til Dawn Edition)",
           2023
          ],
          [
           "Bigger Than The Whole Sky",
           "Midnights (The Til Dawn Edition)",
           2023
          ],
          [
           "Paris",
           "Midnights (The Til Dawn Edition)",
           2023
          ],
          [
           "Glitch",
           "Midnights (The Til Dawn Edition)",
           2023
          ],
          [
           "Dear Reader",
           "Midnights (The Til Dawn Edition)",
           2023
          ],
          [
           "Snow On The Beach (feat. More Lana Del Rey)",
           "Midnights (The Til Dawn Edition)",
           2023
          ],
          [
           "Lavender Haze",
           "Midnights (3am Edition)",
           2022
          ],
          [
           "Maroon",
           "Midnights (3am Edition)",
           2022
          ],
          [
           "Snow On The Beach (feat. Lana Del Rey)",
           "Midnights (3am Edition)",
           2022
          ],
          [
           "You're On Your Own, Kid",
           "Midnights (3am Edition)",
           2022
          ],
          [
           "Midnight Rain",
           "Midnights (3am Edition)",
           2022
          ],
          [
           "Vigilante Shit",
           "Midnights (3am Edition)",
           2022
          ],
          [
           "Labyrinth",
           "Midnights (3am Edition)",
           2022
          ],
          [
           "Sweet Nothing",
           "Midnights (3am Edition)",
           2022
          ],
          [
           "Mastermind",
           "Midnights (3am Edition)",
           2022
          ],
          [
           "Bigger Than The Whole Sky",
           "Midnights (3am Edition)",
           2022
          ],
          [
           "Glitch",
           "Midnights (3am Edition)",
           2022
          ],
          [
           "Dear Reader",
           "Midnights (3am Edition)",
           2022
          ],
          [
           "Lavender Haze",
           "Midnights",
           2022
          ],
          [
           "Maroon",
           "Midnights",
           2022
          ],
          [
           "Snow On The Beach (feat. Lana Del Rey)",
           "Midnights",
           2022
          ],
          [
           "You're On Your Own, Kid",
           "Midnights",
           2022
          ],
          [
           "Midnight Rain",
           "Midnights",
           2022
          ],
          [
           "Vigilante Shit",
           "Midnights",
           2022
          ],
          [
           "Labyrinth",
           "Midnights",
           2022
          ],
          [
           "Sweet Nothing",
           "Midnights",
           2022
          ],
          [
           "Mastermind",
           "Midnights",
           2022
          ],
          [
           "Sad Beautiful Tragic (Taylor's Version)",
           "Red (Taylor's Version)",
           2021
          ],
          [
           "The Moment I Knew (Taylor's Version)",
           "Red (Taylor's Version)",
           2021
          ],
          [
           "State Of Grace (Acoustic Version) (Taylor's Version)",
           "Red (Taylor's Version)",
           2021
          ],
          [
           "Ronan (Taylor's Version)",
           "Red (Taylor's Version)",
           2021
          ],
          [
           "Nothing New (feat. Phoebe Bridgers) (Taylor’s Version) (From The Vault)",
           "Red (Taylor's Version)",
           2021
          ],
          [
           "Run (feat. Ed Sheeran) (Taylor’s Version) (From The Vault)",
           "Red (Taylor's Version)",
           2021
          ],
          [
           "You’re Not Sorry (Taylor’s Version)",
           "Fearless (Taylor's Version)",
           2021
          ],
          [
           "Forever & Always (Piano Version) (Taylor’s Version)",
           "Fearless (Taylor's Version)",
           2021
          ],
          [
           "You All Over Me (feat. Maren Morris) (Taylor’s Version) (From The Vault)",
           "Fearless (Taylor's Version)",
           2021
          ],
          [
           "We Were Happy (Taylor’s Version) (From The Vault)",
           "Fearless (Taylor's Version)",
           2021
          ],
          [
           "Don’t You (Taylor’s Version) (From The Vault)",
           "Fearless (Taylor's Version)",
           2021
          ],
          [
           "champagne problems",
           "evermore (deluxe version)",
           2021
          ],
          [
           "gold rush",
           "evermore (deluxe version)",
           2021
          ],
          [
           "‘tis the damn season",
           "evermore (deluxe version)",
           2021
          ],
          [
           "tolerate it",
           "evermore (deluxe version)",
           2021
          ],
          [
           "happiness",
           "evermore (deluxe version)",
           2021
          ],
          [
           "dorothea",
           "evermore (deluxe version)",
           2021
          ],
          [
           "evermore (feat. Bon Iver)",
           "evermore (deluxe version)",
           2021
          ],
          [
           "it’s time to go - bonus track",
           "evermore (deluxe version)",
           2021
          ]
         ],
         "hovertemplate": "emotion=Sad/Depressing<br>energy=%{x}<br>valence=%{y}<br>track_name=%{customdata[0]}<br>album_name=%{customdata[1]}<br>album_release_year=%{customdata[2]}<extra></extra>",
         "legendgroup": "Sad/Depressing",
         "marker": {
          "color": "#0E6251",
          "opacity": 0.7,
          "size": 10,
          "symbol": "circle"
         },
         "mode": "markers",
         "name": "Sad/Depressing",
         "orientation": "v",
         "showlegend": true,
         "type": "scatter",
         "x": [
          0.391,
          0.498,
          0.412,
          0.386,
          0.495,
          0.413,
          0.47,
          0.366,
          0.488,
          0.454,
          0.397,
          0.331,
          0.386,
          0.372,
          0.272,
          0.308,
          0.166,
          0.345,
          0.22,
          0.498,
          0.451,
          0.386,
          0.401,
          0.444,
          0.378,
          0.323,
          0.38,
          0.377,
          0.279,
          0.313,
          0.161,
          0.352,
          0.235,
          0.466,
          0.388,
          0.436,
          0.398,
          0.319,
          0.396,
          0.363,
          0.277,
          0.306,
          0.156,
          0.357,
          0.406,
          0.402,
          0.131,
          0.279,
          0.377,
          0.488,
          0.444,
          0.273,
          0.494,
          0.373,
          0.473,
          0.24,
          0.462,
          0.434,
          0.361,
          0.334,
          0.488,
          0.27,
          0.41
         ],
         "xaxis": "x",
         "y": [
          0.258,
          0.477,
          0.328,
          0.239,
          0.492,
          0.306,
          0.133,
          0.16,
          0.348,
          0.0751,
          0.0382,
          0.166,
          0.39,
          0.198,
          0.157,
          0.13,
          0.391,
          0.126,
          0.0633,
          0.454,
          0.399,
          0.162,
          0.315,
          0.0984,
          0.0382,
          0.154,
          0.376,
          0.23,
          0.16,
          0.141,
          0.396,
          0.13,
          0.068,
          0.347,
          0.159,
          0.0976,
          0.0374,
          0.193,
          0.38,
          0.23,
          0.163,
          0.122,
          0.39,
          0.124,
          0.232,
          0.208,
          0.101,
          0.38,
          0.446,
          0.443,
          0.241,
          0.271,
          0.44,
          0.13,
          0.405,
          0.32,
          0.353,
          0.348,
          0.221,
          0.211,
          0.354,
          0.32,
          0.416
         ],
         "yaxis": "y"
        },
        {
         "customdata": [
          [
           "Never Grow Up (Taylor's Version)",
           "Speak Now (Taylor's Version)",
           2023
          ]
         ],
         "hovertemplate": "emotion=Relaxed/Calm<br>energy=%{x}<br>valence=%{y}<br>track_name=%{customdata[0]}<br>album_name=%{customdata[1]}<br>album_release_year=%{customdata[2]}<extra></extra>",
         "legendgroup": "Relaxed/Calm",
         "marker": {
          "color": "#A2D9CE",
          "opacity": 0.7,
          "size": 10,
          "symbol": "circle"
         },
         "mode": "markers",
         "name": "Relaxed/Calm",
         "orientation": "v",
         "showlegend": true,
         "type": "scatter",
         "x": [
          0.323
         ],
         "xaxis": "x",
         "y": [
          0.569
         ],
         "yaxis": "y"
        }
       ],
       "layout": {
        "legend": {
         "title": {
          "text": "emotion"
         },
         "tracegroupgap": 0
        },
        "shapes": [
         {
          "line": {
           "color": "black",
           "dash": "dash"
          },
          "type": "line",
          "x0": 0,
          "x1": 1,
          "xref": "x domain",
          "y0": 0.5,
          "y1": 0.5,
          "yref": "y"
         },
         {
          "line": {
           "color": "black",
           "dash": "dash"
          },
          "type": "line",
          "x0": 0.5,
          "x1": 0.5,
          "xref": "x",
          "y0": 0,
          "y1": 1,
          "yref": "y domain"
         }
        ],
        "template": {
         "data": {
          "bar": [
           {
            "error_x": {
             "color": "#2a3f5f"
            },
            "error_y": {
             "color": "#2a3f5f"
            },
            "marker": {
             "line": {
              "color": "#E5ECF6",
              "width": 0.5
             },
             "pattern": {
              "fillmode": "overlay",
              "size": 10,
              "solidity": 0.2
             }
            },
            "type": "bar"
           }
          ],
          "barpolar": [
           {
            "marker": {
             "line": {
              "color": "#E5ECF6",
              "width": 0.5
             },
             "pattern": {
              "fillmode": "overlay",
              "size": 10,
              "solidity": 0.2
             }
            },
            "type": "barpolar"
           }
          ],
          "carpet": [
           {
            "aaxis": {
             "endlinecolor": "#2a3f5f",
             "gridcolor": "white",
             "linecolor": "white",
             "minorgridcolor": "white",
             "startlinecolor": "#2a3f5f"
            },
            "baxis": {
             "endlinecolor": "#2a3f5f",
             "gridcolor": "white",
             "linecolor": "white",
             "minorgridcolor": "white",
             "startlinecolor": "#2a3f5f"
            },
            "type": "carpet"
           }
          ],
          "choropleth": [
           {
            "colorbar": {
             "outlinewidth": 0,
             "ticks": ""
            },
            "type": "choropleth"
           }
          ],
          "contour": [
           {
            "colorbar": {
             "outlinewidth": 0,
             "ticks": ""
            },
            "colorscale": [
             [
              0,
              "#0d0887"
             ],
             [
              0.1111111111111111,
              "#46039f"
             ],
             [
              0.2222222222222222,
              "#7201a8"
             ],
             [
              0.3333333333333333,
              "#9c179e"
             ],
             [
              0.4444444444444444,
              "#bd3786"
             ],
             [
              0.5555555555555556,
              "#d8576b"
             ],
             [
              0.6666666666666666,
              "#ed7953"
             ],
             [
              0.7777777777777778,
              "#fb9f3a"
             ],
             [
              0.8888888888888888,
              "#fdca26"
             ],
             [
              1,
              "#f0f921"
             ]
            ],
            "type": "contour"
           }
          ],
          "contourcarpet": [
           {
            "colorbar": {
             "outlinewidth": 0,
             "ticks": ""
            },
            "type": "contourcarpet"
           }
          ],
          "heatmap": [
           {
            "colorbar": {
             "outlinewidth": 0,
             "ticks": ""
            },
            "colorscale": [
             [
              0,
              "#0d0887"
             ],
             [
              0.1111111111111111,
              "#46039f"
             ],
             [
              0.2222222222222222,
              "#7201a8"
             ],
             [
              0.3333333333333333,
              "#9c179e"
             ],
             [
              0.4444444444444444,
              "#bd3786"
             ],
             [
              0.5555555555555556,
              "#d8576b"
             ],
             [
              0.6666666666666666,
              "#ed7953"
             ],
             [
              0.7777777777777778,
              "#fb9f3a"
             ],
             [
              0.8888888888888888,
              "#fdca26"
             ],
             [
              1,
              "#f0f921"
             ]
            ],
            "type": "heatmap"
           }
          ],
          "heatmapgl": [
           {
            "colorbar": {
             "outlinewidth": 0,
             "ticks": ""
            },
            "colorscale": [
             [
              0,
              "#0d0887"
             ],
             [
              0.1111111111111111,
              "#46039f"
             ],
             [
              0.2222222222222222,
              "#7201a8"
             ],
             [
              0.3333333333333333,
              "#9c179e"
             ],
             [
              0.4444444444444444,
              "#bd3786"
             ],
             [
              0.5555555555555556,
              "#d8576b"
             ],
             [
              0.6666666666666666,
              "#ed7953"
             ],
             [
              0.7777777777777778,
              "#fb9f3a"
             ],
             [
              0.8888888888888888,
              "#fdca26"
             ],
             [
              1,
              "#f0f921"
             ]
            ],
            "type": "heatmapgl"
           }
          ],
          "histogram": [
           {
            "marker": {
             "pattern": {
              "fillmode": "overlay",
              "size": 10,
              "solidity": 0.2
             }
            },
            "type": "histogram"
           }
          ],
          "histogram2d": [
           {
            "colorbar": {
             "outlinewidth": 0,
             "ticks": ""
            },
            "colorscale": [
             [
              0,
              "#0d0887"
             ],
             [
              0.1111111111111111,
              "#46039f"
             ],
             [
              0.2222222222222222,
              "#7201a8"
             ],
             [
              0.3333333333333333,
              "#9c179e"
             ],
             [
              0.4444444444444444,
              "#bd3786"
             ],
             [
              0.5555555555555556,
              "#d8576b"
             ],
             [
              0.6666666666666666,
              "#ed7953"
             ],
             [
              0.7777777777777778,
              "#fb9f3a"
             ],
             [
              0.8888888888888888,
              "#fdca26"
             ],
             [
              1,
              "#f0f921"
             ]
            ],
            "type": "histogram2d"
           }
          ],
          "histogram2dcontour": [
           {
            "colorbar": {
             "outlinewidth": 0,
             "ticks": ""
            },
            "colorscale": [
             [
              0,
              "#0d0887"
             ],
             [
              0.1111111111111111,
              "#46039f"
             ],
             [
              0.2222222222222222,
              "#7201a8"
             ],
             [
              0.3333333333333333,
              "#9c179e"
             ],
             [
              0.4444444444444444,
              "#bd3786"
             ],
             [
              0.5555555555555556,
              "#d8576b"
             ],
             [
              0.6666666666666666,
              "#ed7953"
             ],
             [
              0.7777777777777778,
              "#fb9f3a"
             ],
             [
              0.8888888888888888,
              "#fdca26"
             ],
             [
              1,
              "#f0f921"
             ]
            ],
            "type": "histogram2dcontour"
           }
          ],
          "mesh3d": [
           {
            "colorbar": {
             "outlinewidth": 0,
             "ticks": ""
            },
            "type": "mesh3d"
           }
          ],
          "parcoords": [
           {
            "line": {
             "colorbar": {
              "outlinewidth": 0,
              "ticks": ""
             }
            },
            "type": "parcoords"
           }
          ],
          "pie": [
           {
            "automargin": true,
            "type": "pie"
           }
          ],
          "scatter": [
           {
            "fillpattern": {
             "fillmode": "overlay",
             "size": 10,
             "solidity": 0.2
            },
            "type": "scatter"
           }
          ],
          "scatter3d": [
           {
            "line": {
             "colorbar": {
              "outlinewidth": 0,
              "ticks": ""
             }
            },
            "marker": {
             "colorbar": {
              "outlinewidth": 0,
              "ticks": ""
             }
            },
            "type": "scatter3d"
           }
          ],
          "scattercarpet": [
           {
            "marker": {
             "colorbar": {
              "outlinewidth": 0,
              "ticks": ""
             }
            },
            "type": "scattercarpet"
           }
          ],
          "scattergeo": [
           {
            "marker": {
             "colorbar": {
              "outlinewidth": 0,
              "ticks": ""
             }
            },
            "type": "scattergeo"
           }
          ],
          "scattergl": [
           {
            "marker": {
             "colorbar": {
              "outlinewidth": 0,
              "ticks": ""
             }
            },
            "type": "scattergl"
           }
          ],
          "scattermapbox": [
           {
            "marker": {
             "colorbar": {
              "outlinewidth": 0,
              "ticks": ""
             }
            },
            "type": "scattermapbox"
           }
          ],
          "scatterpolar": [
           {
            "marker": {
             "colorbar": {
              "outlinewidth": 0,
              "ticks": ""
             }
            },
            "type": "scatterpolar"
           }
          ],
          "scatterpolargl": [
           {
            "marker": {
             "colorbar": {
              "outlinewidth": 0,
              "ticks": ""
             }
            },
            "type": "scatterpolargl"
           }
          ],
          "scatterternary": [
           {
            "marker": {
             "colorbar": {
              "outlinewidth": 0,
              "ticks": ""
             }
            },
            "type": "scatterternary"
           }
          ],
          "surface": [
           {
            "colorbar": {
             "outlinewidth": 0,
             "ticks": ""
            },
            "colorscale": [
             [
              0,
              "#0d0887"
             ],
             [
              0.1111111111111111,
              "#46039f"
             ],
             [
              0.2222222222222222,
              "#7201a8"
             ],
             [
              0.3333333333333333,
              "#9c179e"
             ],
             [
              0.4444444444444444,
              "#bd3786"
             ],
             [
              0.5555555555555556,
              "#d8576b"
             ],
             [
              0.6666666666666666,
              "#ed7953"
             ],
             [
              0.7777777777777778,
              "#fb9f3a"
             ],
             [
              0.8888888888888888,
              "#fdca26"
             ],
             [
              1,
              "#f0f921"
             ]
            ],
            "type": "surface"
           }
          ],
          "table": [
           {
            "cells": {
             "fill": {
              "color": "#EBF0F8"
             },
             "line": {
              "color": "white"
             }
            },
            "header": {
             "fill": {
              "color": "#C8D4E3"
             },
             "line": {
              "color": "white"
             }
            },
            "type": "table"
           }
          ]
         },
         "layout": {
          "annotationdefaults": {
           "arrowcolor": "#2a3f5f",
           "arrowhead": 0,
           "arrowwidth": 1
          },
          "autotypenumbers": "strict",
          "coloraxis": {
           "colorbar": {
            "outlinewidth": 0,
            "ticks": ""
           }
          },
          "colorscale": {
           "diverging": [
            [
             0,
             "#8e0152"
            ],
            [
             0.1,
             "#c51b7d"
            ],
            [
             0.2,
             "#de77ae"
            ],
            [
             0.3,
             "#f1b6da"
            ],
            [
             0.4,
             "#fde0ef"
            ],
            [
             0.5,
             "#f7f7f7"
            ],
            [
             0.6,
             "#e6f5d0"
            ],
            [
             0.7,
             "#b8e186"
            ],
            [
             0.8,
             "#7fbc41"
            ],
            [
             0.9,
             "#4d9221"
            ],
            [
             1,
             "#276419"
            ]
           ],
           "sequential": [
            [
             0,
             "#0d0887"
            ],
            [
             0.1111111111111111,
             "#46039f"
            ],
            [
             0.2222222222222222,
             "#7201a8"
            ],
            [
             0.3333333333333333,
             "#9c179e"
            ],
            [
             0.4444444444444444,
             "#bd3786"
            ],
            [
             0.5555555555555556,
             "#d8576b"
            ],
            [
             0.6666666666666666,
             "#ed7953"
            ],
            [
             0.7777777777777778,
             "#fb9f3a"
            ],
            [
             0.8888888888888888,
             "#fdca26"
            ],
            [
             1,
             "#f0f921"
            ]
           ],
           "sequentialminus": [
            [
             0,
             "#0d0887"
            ],
            [
             0.1111111111111111,
             "#46039f"
            ],
            [
             0.2222222222222222,
             "#7201a8"
            ],
            [
             0.3333333333333333,
             "#9c179e"
            ],
            [
             0.4444444444444444,
             "#bd3786"
            ],
            [
             0.5555555555555556,
             "#d8576b"
            ],
            [
             0.6666666666666666,
             "#ed7953"
            ],
            [
             0.7777777777777778,
             "#fb9f3a"
            ],
            [
             0.8888888888888888,
             "#fdca26"
            ],
            [
             1,
             "#f0f921"
            ]
           ]
          },
          "colorway": [
           "#636efa",
           "#EF553B",
           "#00cc96",
           "#ab63fa",
           "#FFA15A",
           "#19d3f3",
           "#FF6692",
           "#B6E880",
           "#FF97FF",
           "#FECB52"
          ],
          "font": {
           "color": "#2a3f5f"
          },
          "geo": {
           "bgcolor": "white",
           "lakecolor": "white",
           "landcolor": "#E5ECF6",
           "showlakes": true,
           "showland": true,
           "subunitcolor": "white"
          },
          "hoverlabel": {
           "align": "left"
          },
          "hovermode": "closest",
          "mapbox": {
           "style": "light"
          },
          "paper_bgcolor": "white",
          "plot_bgcolor": "#E5ECF6",
          "polar": {
           "angularaxis": {
            "gridcolor": "white",
            "linecolor": "white",
            "ticks": ""
           },
           "bgcolor": "#E5ECF6",
           "radialaxis": {
            "gridcolor": "white",
            "linecolor": "white",
            "ticks": ""
           }
          },
          "scene": {
           "xaxis": {
            "backgroundcolor": "#E5ECF6",
            "gridcolor": "white",
            "gridwidth": 2,
            "linecolor": "white",
            "showbackground": true,
            "ticks": "",
            "zerolinecolor": "white"
           },
           "yaxis": {
            "backgroundcolor": "#E5ECF6",
            "gridcolor": "white",
            "gridwidth": 2,
            "linecolor": "white",
            "showbackground": true,
            "ticks": "",
            "zerolinecolor": "white"
           },
           "zaxis": {
            "backgroundcolor": "#E5ECF6",
            "gridcolor": "white",
            "gridwidth": 2,
            "linecolor": "white",
            "showbackground": true,
            "ticks": "",
            "zerolinecolor": "white"
           }
          },
          "shapedefaults": {
           "line": {
            "color": "#2a3f5f"
           }
          },
          "ternary": {
           "aaxis": {
            "gridcolor": "white",
            "linecolor": "white",
            "ticks": ""
           },
           "baxis": {
            "gridcolor": "white",
            "linecolor": "white",
            "ticks": ""
           },
           "bgcolor": "#E5ECF6",
           "caxis": {
            "gridcolor": "white",
            "linecolor": "white",
            "ticks": ""
           }
          },
          "title": {
           "x": 0.05
          },
          "xaxis": {
           "automargin": true,
           "gridcolor": "white",
           "linecolor": "white",
           "ticks": "",
           "title": {
            "standoff": 15
           },
           "zerolinecolor": "white",
           "zerolinewidth": 2
          },
          "yaxis": {
           "automargin": true,
           "gridcolor": "white",
           "linecolor": "white",
           "ticks": "",
           "title": {
            "standoff": 15
           },
           "zerolinecolor": "white",
           "zerolinewidth": 2
          }
         }
        },
        "title": {
         "text": "Taylor Swift Songs Emotion",
         "x": 0.5
        },
        "xaxis": {
         "anchor": "y",
         "domain": [
          0,
          1
         ],
         "title": {
          "text": "energy"
         }
        },
        "yaxis": {
         "anchor": "x",
         "domain": [
          0,
          1
         ],
         "title": {
          "text": "valence"
         }
        }
       }
      }
     },
     "metadata": {},
     "output_type": "display_data"
    },
    {
     "data": {
      "text/html": [
       "\n",
       "        <iframe\n",
       "            width=\"100%\"\n",
       "            height=\"600\"\n",
       "            src=\"emotion_plotly.html\"\n",
       "            frameborder=\"0\"\n",
       "            allowfullscreen\n",
       "            \n",
       "        ></iframe>\n",
       "        "
      ],
      "text/plain": [
       "<IPython.lib.display.IFrame at 0x143361110>"
      ]
     },
     "execution_count": 66,
     "metadata": {},
     "output_type": "execute_result"
    }
   ],
   "source": [
    "\n",
    "\n",
    "# Assuming you already have the 'data' DataFrame loaded\n",
    "\n",
    "# Function to map energy and valence to emotion categories and names\n",
    "def map_emotion(energy, valence):\n",
    "    if energy >= 0.5 and valence >= 0.5:\n",
    "        return \"Happy/Joyful\"\n",
    "    elif energy < 0.5 and valence >= 0.5:\n",
    "        return \"Relaxed/Calm\"\n",
    "    elif energy >= 0.5 and valence < 0.5:\n",
    "        return \"Angry/Tense\"\n",
    "    else:\n",
    "        return \"Sad/Depressing\"\n",
    "\n",
    "# Add the 'emotion' column to the data frame\n",
    "data['emotion'] = data.apply(lambda row: map_emotion(row['energy'], row['valence']), axis=1)\n",
    "\n",
    "# Define custom color mapping for emotions\n",
    "color_mapping = {\n",
    "    \"Happy/Joyful\": \"#1ABC9C\",\n",
    "    \"Relaxed/Calm\": \"#A2D9CE\",\n",
    "    \"Angry/Tense\": \"#148F77\",\n",
    "    \"Sad/Depressing\": \"#0E6251\"\n",
    "}\n",
    "\n",
    "# Create a scatter plot of energy vs valence with color-coded emotions\n",
    "fig = px.scatter(data, x='energy', y='valence', color='emotion',\n",
    "                 hover_data=['track_name', 'album_name', 'album_release_year'],\n",
    "                 title='Taylor Swift Songs Emotion',\n",
    "                 color_discrete_map=color_mapping)\n",
    "\n",
    "# Customize marker size and opacity\n",
    "fig.update_traces(marker=dict(size=10, opacity=0.7))\n",
    "\n",
    "# Add horizontal and vertical dashed lines\n",
    "fig.add_hline(y=0.5, line_dash=\"dash\", line_color=\"black\")\n",
    "fig.add_vline(x=0.5, line_dash=\"dash\", line_color=\"black\")\n",
    "\n",
    "# Center-align the title\n",
    "fig.update_layout(\n",
    "    title_x=0.5,  # Set the title's horizontal position to the middle (0 to 1)\n",
    ")\n",
    "\n",
    "# Show the scatter plot\n",
    "fig.show()\n",
    "\n",
    "# Save the emotion scatter plot to an HTML file\n",
    "fig.write_html(\"emotion_plotly.html\")\n",
    "\n",
    "# Display the HTML file (optional)\n",
    "IFrame(src=\"emotion_plotly.html\", width=\"100%\", height=600)\n"
   ]
  },
  {
   "cell_type": "markdown",
   "metadata": {},
   "source": [
    "The emotion plot vividly illustrates the dominant emotional themes present in Taylor Swift's music catalog. It's evident that her songs predominantly evoke feelings of joy and intensity, categorized as \"Happy/Joyful\" and \"Angry/Tense.\" These emotions align with her ability to craft catchy, energetic tracks that connect with listeners on an emotional level. However, Taylor Swift's artistry goes beyond surface emotions, as she skillfully explores deeper, introspective themes, as indicated by the substantial representation of \"Sad/Depressing\" songs. While \"Angry/Tense\" songs were prominent in albums from various years, the year 2022 stood out for the prevalence of \"Sad/Depressing\" songs in albums like \"Midnights\" suggesting a thematic exploration of deeper and more introspective emotions during that period.\n",
    "\n",
    "\n",
    "A closer look at the breakdown of song counts by album and year reveals an intriguing pattern. Each album appears to be a journey through a range of emotions, with some albums emphasizing specific emotional tones. This emotional diversity is a testament to Taylor Swift's songwriting prowess, allowing her to create music that resonates with a wide audience, whether it's uplifting anthems, fiery expressions of emotion, or poignant reflections on life and love. Ultimately, this emotional depth is a defining feature of her music, making her a beloved and relatable artist across generations."
   ]
  }
 ],
 "metadata": {
  "kernelspec": {
   "display_name": "dsan",
   "language": "python",
   "name": "python3"
  },
  "language_info": {
   "codemirror_mode": {
    "name": "ipython",
    "version": 3
   },
   "file_extension": ".py",
   "mimetype": "text/x-python",
   "name": "python",
   "nbconvert_exporter": "python",
   "pygments_lexer": "ipython3",
   "version": "3.11.3"
  }
 },
 "nbformat": 4,
 "nbformat_minor": 2
}
