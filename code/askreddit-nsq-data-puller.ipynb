{
  "cells": [
    {
      "cell_type": "markdown",
      "source": [
        "In interactive notebook, the `spark` object is already created.\n",
        "Instructors tested with 1 driver, 6 executors of small e4 (24 cores, 192GB memory)"
      ],
      "metadata": {
        "nteract": {
          "transient": {
            "deleting": false
          }
        }
      }
    },
    {
      "cell_type": "markdown",
      "source": [
        "### Launch spark environment"
      ],
      "metadata": {
        "nteract": {
          "transient": {
            "deleting": false
          }
        }
      }
    },
    {
      "cell_type": "code",
      "source": [
        "spark"
      ],
      "outputs": [
        {
          "output_type": "display_data",
          "data": {
            "application/vnd.livy.statement-meta+json": {
              "spark_pool": "c8407576-5b92-4819-bbab-f6e8aab1d710",
              "session_id": "5",
              "statement_id": 6,
              "state": "finished",
              "livy_statement_state": "available",
              "queued_time": "2023-11-08T21:00:56.6442273Z",
              "session_start_time": "2023-11-08T21:00:56.6899682Z",
              "execution_start_time": "2023-11-08T21:01:47.4837246Z",
              "execution_finish_time": "2023-11-08T21:01:47.9248491Z",
              "spark_jobs": {
                "numbers": {
                  "RUNNING": 0,
                  "SUCCEEDED": 0,
                  "FAILED": 0,
                  "UNKNOWN": 0
                },
                "jobs": [],
                "limit": 20,
                "rule": "ALL_DESC"
              },
              "parent_msg_id": "ee26d27d-124b-450d-84bc-4ae50816fe63"
            },
            "text/plain": "StatementMeta(c8407576-5b92-4819-bbab-f6e8aab1d710, 5, 6, Finished, Available)"
          },
          "metadata": {}
        },
        {
          "output_type": "execute_result",
          "execution_count": 11,
          "data": {
            "text/plain": "<pyspark.sql.session.SparkSession at 0x7fecdb3879a0>",
            "text/html": "\n            <div>\n                <p><b>SparkSession - hive</b></p>\n                \n        <div>\n            <p><b>SparkContext</b></p>\n\n            <p><a href=\"http://vm-3c057542:36383\">Spark UI</a></p>\n\n            <dl>\n              <dt>Version</dt>\n                <dd><code>v3.2.2.5.1-100879434</code></dd>\n              <dt>Master</dt>\n                <dd><code>yarn</code></dd>\n              <dt>AppName</dt>\n                <dd><code>Azure ML Experiment</code></dd>\n            </dl>\n        </div>\n        \n            </div>\n        "
          },
          "metadata": {}
        }
      ],
      "execution_count": 1,
      "metadata": {
        "jupyter": {
          "source_hidden": false,
          "outputs_hidden": false
        },
        "nteract": {
          "transient": {
            "deleting": false
          }
        },
        "gather": {
          "logged": 1699477306082
        }
      }
    },
    {
      "cell_type": "markdown",
      "source": [
        "### Set up data configuration"
      ],
      "metadata": {
        "nteract": {
          "transient": {
            "deleting": false
          }
        }
      }
    },
    {
      "cell_type": "code",
      "source": [
        "blob_account_name = \"marckvnonprodblob\"\n",
        "blob_container_name = \"bigdata\"\n",
        "# read only\n",
        "blob_sas_token = \"?sv=2021-10-04&st=2023-10-04T01%3A42%3A59Z&se=2024-01-02T02%3A42%3A00Z&sr=c&sp=rlf&sig=w3CH9MbCOpwO7DtHlrahc7AlRPxSZZb8MOgS6TaXLzI%3D\"\n",
        "\n",
        "wasbs_base_url = (\n",
        "    f\"wasbs://{blob_container_name}@{blob_account_name}.blob.core.windows.net/\"\n",
        ")\n",
        "spark.conf.set(\n",
        "    f\"fs.azure.sas.{blob_container_name}.{blob_account_name}.blob.core.windows.net\",\n",
        "    blob_sas_token,\n",
        ")"
      ],
      "outputs": [
        {
          "output_type": "display_data",
          "data": {
            "application/vnd.livy.statement-meta+json": {
              "spark_pool": "c8407576-5b92-4819-bbab-f6e8aab1d710",
              "session_id": "5",
              "statement_id": 7,
              "state": "finished",
              "livy_statement_state": "available",
              "queued_time": "2023-11-08T21:00:56.6453194Z",
              "session_start_time": null,
              "execution_start_time": "2023-11-08T21:01:48.0572808Z",
              "execution_finish_time": "2023-11-08T21:01:48.4173462Z",
              "spark_jobs": {
                "numbers": {
                  "RUNNING": 0,
                  "SUCCEEDED": 0,
                  "FAILED": 0,
                  "UNKNOWN": 0
                },
                "jobs": [],
                "limit": 20,
                "rule": "ALL_DESC"
              },
              "parent_msg_id": "2e2306cd-d62d-4ca5-adcb-e1efc4e4adb5"
            },
            "text/plain": "StatementMeta(c8407576-5b92-4819-bbab-f6e8aab1d710, 5, 7, Finished, Available)"
          },
          "metadata": {}
        }
      ],
      "execution_count": 2,
      "metadata": {
        "jupyter": {
          "source_hidden": false,
          "outputs_hidden": false
        },
        "nteract": {
          "transient": {
            "deleting": false
          }
        },
        "gather": {
          "logged": 1699477306529
        }
      }
    },
    {
      "cell_type": "code",
      "source": [
        "comments_path = \"reddit-parquet/comments/\"\n",
        "submissions_path = \"reddit-parquet/submissions/\""
      ],
      "outputs": [
        {
          "output_type": "display_data",
          "data": {
            "application/vnd.livy.statement-meta+json": {
              "spark_pool": "c8407576-5b92-4819-bbab-f6e8aab1d710",
              "session_id": "5",
              "statement_id": 8,
              "state": "finished",
              "livy_statement_state": "available",
              "queued_time": "2023-11-08T21:00:56.6462588Z",
              "session_start_time": null,
              "execution_start_time": "2023-11-08T21:01:48.5513522Z",
              "execution_finish_time": "2023-11-08T21:01:49.6998364Z",
              "spark_jobs": {
                "numbers": {
                  "RUNNING": 0,
                  "SUCCEEDED": 0,
                  "FAILED": 0,
                  "UNKNOWN": 0
                },
                "jobs": [],
                "limit": 20,
                "rule": "ALL_DESC"
              },
              "parent_msg_id": "4ad1e346-1ca5-4771-9945-81b4b2d8afca"
            },
            "text/plain": "StatementMeta(c8407576-5b92-4819-bbab-f6e8aab1d710, 5, 8, Finished, Available)"
          },
          "metadata": {}
        }
      ],
      "execution_count": 3,
      "metadata": {
        "jupyter": {
          "source_hidden": false,
          "outputs_hidden": false
        },
        "nteract": {
          "transient": {
            "deleting": false
          }
        },
        "gather": {
          "logged": 1699477307787
        }
      }
    },
    {
      "cell_type": "markdown",
      "source": [
        "### Reading in all of the Reddit data"
      ],
      "metadata": {
        "nteract": {
          "transient": {
            "deleting": false
          }
        }
      }
    },
    {
      "cell_type": "code",
      "source": [
        "# Read in the data\n",
        "comments_df = spark.read.parquet(f\"{wasbs_base_url}{comments_path}\")\n",
        "submissions_df = spark.read.parquet(f\"{wasbs_base_url}{submissions_path}\")"
      ],
      "outputs": [
        {
          "output_type": "display_data",
          "data": {
            "application/vnd.livy.statement-meta+json": {
              "spark_pool": "c8407576-5b92-4819-bbab-f6e8aab1d710",
              "session_id": "5",
              "statement_id": 9,
              "state": "finished",
              "livy_statement_state": "available",
              "queued_time": "2023-11-08T21:00:56.6475384Z",
              "session_start_time": null,
              "execution_start_time": "2023-11-08T21:01:49.8202784Z",
              "execution_finish_time": "2023-11-08T21:02:18.2009929Z",
              "spark_jobs": {
                "numbers": {
                  "RUNNING": 0,
                  "SUCCEEDED": 2,
                  "FAILED": 0,
                  "UNKNOWN": 0
                },
                "jobs": [
                  {
                    "displayName": "parquet at NativeMethodAccessorImpl.java:0",
                    "dataWritten": 0,
                    "dataRead": 0,
                    "rowCount": 0,
                    "usageDescription": "",
                    "jobId": 1,
                    "name": "parquet at NativeMethodAccessorImpl.java:0",
                    "description": "Job group for statement 9:\n# Read in the data\ncomments_df = spark.read.parquet(f\"{wasbs_base_url}{comments_path}\")\nsubmissions_df = spark.read.parquet(f\"{wasbs_base_url}{submissions_path}\")",
                    "submissionTime": "2023-11-08T21:02:17.292GMT",
                    "completionTime": "2023-11-08T21:02:17.662GMT",
                    "stageIds": [
                      1
                    ],
                    "jobGroup": "9",
                    "status": "SUCCEEDED",
                    "numTasks": 1,
                    "numActiveTasks": 0,
                    "numCompletedTasks": 1,
                    "numSkippedTasks": 0,
                    "numFailedTasks": 0,
                    "numKilledTasks": 0,
                    "numCompletedIndices": 1,
                    "numActiveStages": 0,
                    "numCompletedStages": 1,
                    "numSkippedStages": 0,
                    "numFailedStages": 0,
                    "killedTasksSummary": {}
                  },
                  {
                    "displayName": "parquet at NativeMethodAccessorImpl.java:0",
                    "dataWritten": 0,
                    "dataRead": 0,
                    "rowCount": 0,
                    "usageDescription": "",
                    "jobId": 0,
                    "name": "parquet at NativeMethodAccessorImpl.java:0",
                    "description": "Job group for statement 9:\n# Read in the data\ncomments_df = spark.read.parquet(f\"{wasbs_base_url}{comments_path}\")\nsubmissions_df = spark.read.parquet(f\"{wasbs_base_url}{submissions_path}\")",
                    "submissionTime": "2023-11-08T21:02:06.502GMT",
                    "completionTime": "2023-11-08T21:02:10.121GMT",
                    "stageIds": [
                      0
                    ],
                    "jobGroup": "9",
                    "status": "SUCCEEDED",
                    "numTasks": 1,
                    "numActiveTasks": 0,
                    "numCompletedTasks": 1,
                    "numSkippedTasks": 0,
                    "numFailedTasks": 0,
                    "numKilledTasks": 0,
                    "numCompletedIndices": 1,
                    "numActiveStages": 0,
                    "numCompletedStages": 1,
                    "numSkippedStages": 0,
                    "numFailedStages": 0,
                    "killedTasksSummary": {}
                  }
                ],
                "limit": 20,
                "rule": "ALL_DESC"
              },
              "parent_msg_id": "45034b60-91a4-4837-8895-1f714a14bfc0"
            },
            "text/plain": "StatementMeta(c8407576-5b92-4819-bbab-f6e8aab1d710, 5, 9, Finished, Available)"
          },
          "metadata": {}
        }
      ],
      "execution_count": 4,
      "metadata": {
        "jupyter": {
          "source_hidden": false,
          "outputs_hidden": false
        },
        "nteract": {
          "transient": {
            "deleting": false
          }
        },
        "gather": {
          "logged": 1699477336287
        }
      }
    },
    {
      "cell_type": "markdown",
      "source": [
        "### Filter the data to only include AskReddit and NoStupidQuestions from 2021 through 2023"
      ],
      "metadata": {
        "nteract": {
          "transient": {
            "deleting": false
          }
        }
      }
    },
    {
      "cell_type": "code",
      "source": [
        "# Filter for AskReddit/NSQ and 2021-2023\n",
        "## Comments\n",
        "questionsComments_df = comments_df.filter(\n",
        "    ((comments_df.subreddit == \"AskReddit\") | (comments_df.subreddit == \"NoStupidQuestions\")) & ((comments_df.year >= 2021) & (comments_df.year <= 2023))\n",
        ").cache()"
      ],
      "outputs": [
        {
          "output_type": "display_data",
          "data": {
            "application/vnd.livy.statement-meta+json": {
              "spark_pool": "c8407576-5b92-4819-bbab-f6e8aab1d710",
              "session_id": "5",
              "statement_id": 10,
              "state": "finished",
              "livy_statement_state": "available",
              "queued_time": "2023-11-08T21:00:56.6487152Z",
              "session_start_time": null,
              "execution_start_time": "2023-11-08T21:02:18.3374246Z",
              "execution_finish_time": "2023-11-08T21:02:20.0636444Z",
              "spark_jobs": {
                "numbers": {
                  "RUNNING": 0,
                  "SUCCEEDED": 0,
                  "FAILED": 0,
                  "UNKNOWN": 0
                },
                "jobs": [],
                "limit": 20,
                "rule": "ALL_DESC"
              },
              "parent_msg_id": "a4bb6741-e024-4580-810b-76ecc34df4fb"
            },
            "text/plain": "StatementMeta(c8407576-5b92-4819-bbab-f6e8aab1d710, 5, 10, Finished, Available)"
          },
          "metadata": {}
        }
      ],
      "execution_count": 5,
      "metadata": {
        "jupyter": {
          "source_hidden": false,
          "outputs_hidden": false
        },
        "nteract": {
          "transient": {
            "deleting": false
          }
        },
        "gather": {
          "logged": 1699477338132
        }
      }
    },
    {
      "cell_type": "code",
      "source": [
        "## Submissions\n",
        "questionsSubmissions_df = submissions_df.filter(\n",
        "    ((submissions_df.subreddit == \"AskReddit\") | (submissions_df.subreddit == \"NoStupidQuestions\")) & ((submissions_df.year >= 2021) & (submissions_df.year <= 2023))\n",
        ").cache()"
      ],
      "outputs": [
        {
          "output_type": "display_data",
          "data": {
            "application/vnd.livy.statement-meta+json": {
              "spark_pool": "c8407576-5b92-4819-bbab-f6e8aab1d710",
              "session_id": "5",
              "statement_id": 11,
              "state": "finished",
              "livy_statement_state": "available",
              "queued_time": "2023-11-08T21:00:56.6503816Z",
              "session_start_time": null,
              "execution_start_time": "2023-11-08T21:02:20.1972315Z",
              "execution_finish_time": "2023-11-08T21:02:20.5447346Z",
              "spark_jobs": {
                "numbers": {
                  "RUNNING": 0,
                  "SUCCEEDED": 0,
                  "FAILED": 0,
                  "UNKNOWN": 0
                },
                "jobs": [],
                "limit": 20,
                "rule": "ALL_DESC"
              },
              "parent_msg_id": "85a5f095-a359-4782-8568-41e3f8be9a88"
            },
            "text/plain": "StatementMeta(c8407576-5b92-4819-bbab-f6e8aab1d710, 5, 11, Finished, Available)"
          },
          "metadata": {}
        }
      ],
      "execution_count": 6,
      "metadata": {
        "jupyter": {
          "source_hidden": false,
          "outputs_hidden": false
        },
        "nteract": {
          "transient": {
            "deleting": false
          }
        },
        "gather": {
          "logged": 1699477338625
        }
      }
    },
    {
      "cell_type": "code",
      "source": [
        "# Print the schema for both\n",
        "## Comments\n",
        "questionsComments_df.printSchema()"
      ],
      "outputs": [
        {
          "output_type": "display_data",
          "data": {
            "application/vnd.livy.statement-meta+json": {
              "spark_pool": "c8407576-5b92-4819-bbab-f6e8aab1d710",
              "session_id": "5",
              "statement_id": 12,
              "state": "finished",
              "livy_statement_state": "available",
              "queued_time": "2023-11-08T21:00:56.6520517Z",
              "session_start_time": null,
              "execution_start_time": "2023-11-08T21:02:20.6669114Z",
              "execution_finish_time": "2023-11-08T21:02:21.0682604Z",
              "spark_jobs": {
                "numbers": {
                  "RUNNING": 0,
                  "SUCCEEDED": 0,
                  "FAILED": 0,
                  "UNKNOWN": 0
                },
                "jobs": [],
                "limit": 20,
                "rule": "ALL_DESC"
              },
              "parent_msg_id": "8a7832e1-878d-4d4a-af9d-4341922bb7d3"
            },
            "text/plain": "StatementMeta(c8407576-5b92-4819-bbab-f6e8aab1d710, 5, 12, Finished, Available)"
          },
          "metadata": {}
        },
        {
          "output_type": "stream",
          "name": "stdout",
          "text": "root\n |-- author: string (nullable = true)\n |-- author_cakeday: boolean (nullable = true)\n |-- author_flair_css_class: string (nullable = true)\n |-- author_flair_text: string (nullable = true)\n |-- body: string (nullable = true)\n |-- can_gild: boolean (nullable = true)\n |-- controversiality: long (nullable = true)\n |-- created_utc: timestamp (nullable = true)\n |-- distinguished: string (nullable = true)\n |-- edited: string (nullable = true)\n |-- gilded: long (nullable = true)\n |-- id: string (nullable = true)\n |-- is_submitter: boolean (nullable = true)\n |-- link_id: string (nullable = true)\n |-- parent_id: string (nullable = true)\n |-- permalink: string (nullable = true)\n |-- retrieved_on: timestamp (nullable = true)\n |-- score: long (nullable = true)\n |-- stickied: boolean (nullable = true)\n |-- subreddit: string (nullable = true)\n |-- subreddit_id: string (nullable = true)\n |-- year: integer (nullable = true)\n |-- month: integer (nullable = true)\n\n"
        }
      ],
      "execution_count": 7,
      "metadata": {
        "jupyter": {
          "source_hidden": false,
          "outputs_hidden": false
        },
        "nteract": {
          "transient": {
            "deleting": false
          }
        },
        "gather": {
          "logged": 1699477339145
        }
      }
    },
    {
      "cell_type": "code",
      "source": [
        "## Submissions\n",
        "questionsSubmissions_df.printSchema()"
      ],
      "outputs": [
        {
          "output_type": "display_data",
          "data": {
            "application/vnd.livy.statement-meta+json": {
              "spark_pool": "c8407576-5b92-4819-bbab-f6e8aab1d710",
              "session_id": "5",
              "statement_id": 13,
              "state": "finished",
              "livy_statement_state": "available",
              "queued_time": "2023-11-08T21:00:56.6535935Z",
              "session_start_time": null,
              "execution_start_time": "2023-11-08T21:02:21.1986897Z",
              "execution_finish_time": "2023-11-08T21:02:21.560377Z",
              "spark_jobs": {
                "numbers": {
                  "RUNNING": 0,
                  "SUCCEEDED": 0,
                  "FAILED": 0,
                  "UNKNOWN": 0
                },
                "jobs": [],
                "limit": 20,
                "rule": "ALL_DESC"
              },
              "parent_msg_id": "f45d4d5e-fbf5-4fd5-9bd9-0def3ded1dc6"
            },
            "text/plain": "StatementMeta(c8407576-5b92-4819-bbab-f6e8aab1d710, 5, 13, Finished, Available)"
          },
          "metadata": {}
        },
        {
          "output_type": "stream",
          "name": "stdout",
          "text": "root\n |-- adserver_click_url: string (nullable = true)\n |-- adserver_imp_pixel: string (nullable = true)\n |-- archived: boolean (nullable = true)\n |-- author: string (nullable = true)\n |-- author_cakeday: boolean (nullable = true)\n |-- author_flair_css_class: string (nullable = true)\n |-- author_flair_text: string (nullable = true)\n |-- author_id: string (nullable = true)\n |-- brand_safe: boolean (nullable = true)\n |-- contest_mode: boolean (nullable = true)\n |-- created_utc: timestamp (nullable = true)\n |-- crosspost_parent: string (nullable = true)\n |-- crosspost_parent_list: array (nullable = true)\n |    |-- element: struct (containsNull = true)\n |    |    |-- approved_at_utc: string (nullable = true)\n |    |    |-- approved_by: string (nullable = true)\n |    |    |-- archived: boolean (nullable = true)\n |    |    |-- author: string (nullable = true)\n |    |    |-- author_flair_css_class: string (nullable = true)\n |    |    |-- author_flair_text: string (nullable = true)\n |    |    |-- banned_at_utc: string (nullable = true)\n |    |    |-- banned_by: string (nullable = true)\n |    |    |-- brand_safe: boolean (nullable = true)\n |    |    |-- can_gild: boolean (nullable = true)\n |    |    |-- can_mod_post: boolean (nullable = true)\n |    |    |-- clicked: boolean (nullable = true)\n |    |    |-- contest_mode: boolean (nullable = true)\n |    |    |-- created: double (nullable = true)\n |    |    |-- created_utc: double (nullable = true)\n |    |    |-- distinguished: string (nullable = true)\n |    |    |-- domain: string (nullable = true)\n |    |    |-- downs: long (nullable = true)\n |    |    |-- edited: boolean (nullable = true)\n |    |    |-- gilded: long (nullable = true)\n |    |    |-- hidden: boolean (nullable = true)\n |    |    |-- hide_score: boolean (nullable = true)\n |    |    |-- id: string (nullable = true)\n |    |    |-- is_crosspostable: boolean (nullable = true)\n |    |    |-- is_reddit_media_domain: boolean (nullable = true)\n |    |    |-- is_self: boolean (nullable = true)\n |    |    |-- is_video: boolean (nullable = true)\n |    |    |-- likes: string (nullable = true)\n |    |    |-- link_flair_css_class: string (nullable = true)\n |    |    |-- link_flair_text: string (nullable = true)\n |    |    |-- locked: boolean (nullable = true)\n |    |    |-- media: string (nullable = true)\n |    |    |-- mod_reports: array (nullable = true)\n |    |    |    |-- element: string (containsNull = true)\n |    |    |-- name: string (nullable = true)\n |    |    |-- num_comments: long (nullable = true)\n |    |    |-- num_crossposts: long (nullable = true)\n |    |    |-- num_reports: string (nullable = true)\n |    |    |-- over_18: boolean (nullable = true)\n |    |    |-- parent_whitelist_status: string (nullable = true)\n |    |    |-- permalink: string (nullable = true)\n |    |    |-- pinned: boolean (nullable = true)\n |    |    |-- quarantine: boolean (nullable = true)\n |    |    |-- removal_reason: string (nullable = true)\n |    |    |-- report_reasons: string (nullable = true)\n |    |    |-- saved: boolean (nullable = true)\n |    |    |-- score: long (nullable = true)\n |    |    |-- secure_media: string (nullable = true)\n |    |    |-- selftext: string (nullable = true)\n |    |    |-- selftext_html: string (nullable = true)\n |    |    |-- spoiler: boolean (nullable = true)\n |    |    |-- stickied: boolean (nullable = true)\n |    |    |-- subreddit: string (nullable = true)\n |    |    |-- subreddit_id: string (nullable = true)\n |    |    |-- subreddit_name_prefixed: string (nullable = true)\n |    |    |-- subreddit_type: string (nullable = true)\n |    |    |-- suggested_sort: string (nullable = true)\n |    |    |-- thumbnail: string (nullable = true)\n |    |    |-- thumbnail_height: string (nullable = true)\n |    |    |-- thumbnail_width: string (nullable = true)\n |    |    |-- title: string (nullable = true)\n |    |    |-- ups: long (nullable = true)\n |    |    |-- url: string (nullable = true)\n |    |    |-- user_reports: array (nullable = true)\n |    |    |    |-- element: string (containsNull = true)\n |    |    |-- view_count: string (nullable = true)\n |    |    |-- visited: boolean (nullable = true)\n |    |    |-- whitelist_status: string (nullable = true)\n |-- disable_comments: boolean (nullable = true)\n |-- distinguished: string (nullable = true)\n |-- domain: string (nullable = true)\n |-- domain_override: string (nullable = true)\n |-- edited: string (nullable = true)\n |-- embed_type: string (nullable = true)\n |-- embed_url: string (nullable = true)\n |-- gilded: long (nullable = true)\n |-- hidden: boolean (nullable = true)\n |-- hide_score: boolean (nullable = true)\n |-- href_url: string (nullable = true)\n |-- id: string (nullable = true)\n |-- imp_pixel: string (nullable = true)\n |-- is_crosspostable: boolean (nullable = true)\n |-- is_reddit_media_domain: boolean (nullable = true)\n |-- is_self: boolean (nullable = true)\n |-- is_video: boolean (nullable = true)\n |-- link_flair_css_class: string (nullable = true)\n |-- link_flair_text: string (nullable = true)\n |-- locked: boolean (nullable = true)\n |-- media: struct (nullable = true)\n |    |-- event_id: string (nullable = true)\n |    |-- oembed: struct (nullable = true)\n |    |    |-- author_name: string (nullable = true)\n |    |    |-- author_url: string (nullable = true)\n |    |    |-- cache_age: long (nullable = true)\n |    |    |-- description: string (nullable = true)\n |    |    |-- height: long (nullable = true)\n |    |    |-- html: string (nullable = true)\n |    |    |-- provider_name: string (nullable = true)\n |    |    |-- provider_url: string (nullable = true)\n |    |    |-- thumbnail_height: long (nullable = true)\n |    |    |-- thumbnail_url: string (nullable = true)\n |    |    |-- thumbnail_width: long (nullable = true)\n |    |    |-- title: string (nullable = true)\n |    |    |-- type: string (nullable = true)\n |    |    |-- url: string (nullable = true)\n |    |    |-- version: string (nullable = true)\n |    |    |-- width: long (nullable = true)\n |    |-- reddit_video: struct (nullable = true)\n |    |    |-- dash_url: string (nullable = true)\n |    |    |-- duration: long (nullable = true)\n |    |    |-- fallback_url: string (nullable = true)\n |    |    |-- height: long (nullable = true)\n |    |    |-- hls_url: string (nullable = true)\n |    |    |-- is_gif: boolean (nullable = true)\n |    |    |-- scrubber_media_url: string (nullable = true)\n |    |    |-- transcoding_status: string (nullable = true)\n |    |    |-- width: long (nullable = true)\n |    |-- type: string (nullable = true)\n |-- media_embed: struct (nullable = true)\n |    |-- content: string (nullable = true)\n |    |-- height: long (nullable = true)\n |    |-- scrolling: boolean (nullable = true)\n |    |-- width: long (nullable = true)\n |-- mobile_ad_url: string (nullable = true)\n |-- num_comments: long (nullable = true)\n |-- num_crossposts: long (nullable = true)\n |-- original_link: string (nullable = true)\n |-- over_18: boolean (nullable = true)\n |-- parent_whitelist_status: string (nullable = true)\n |-- permalink: string (nullable = true)\n |-- pinned: boolean (nullable = true)\n |-- post_hint: string (nullable = true)\n |-- preview: struct (nullable = true)\n |    |-- enabled: boolean (nullable = true)\n |    |-- images: array (nullable = true)\n |    |    |-- element: struct (containsNull = true)\n |    |    |    |-- id: string (nullable = true)\n |    |    |    |-- resolutions: array (nullable = true)\n |    |    |    |    |-- element: struct (containsNull = true)\n |    |    |    |    |    |-- height: long (nullable = true)\n |    |    |    |    |    |-- url: string (nullable = true)\n |    |    |    |    |    |-- width: long (nullable = true)\n |    |    |    |-- source: struct (nullable = true)\n |    |    |    |    |-- height: long (nullable = true)\n |    |    |    |    |-- url: string (nullable = true)\n |    |    |    |    |-- width: long (nullable = true)\n |    |    |    |-- variants: struct (nullable = true)\n |    |    |    |    |-- gif: struct (nullable = true)\n |    |    |    |    |    |-- resolutions: array (nullable = true)\n |    |    |    |    |    |    |-- element: struct (containsNull = true)\n |    |    |    |    |    |    |    |-- height: long (nullable = true)\n |    |    |    |    |    |    |    |-- url: string (nullable = true)\n |    |    |    |    |    |    |    |-- width: long (nullable = true)\n |    |    |    |    |    |-- source: struct (nullable = true)\n |    |    |    |    |    |    |-- height: long (nullable = true)\n |    |    |    |    |    |    |-- url: string (nullable = true)\n |    |    |    |    |    |    |-- width: long (nullable = true)\n |    |    |    |    |-- mp4: struct (nullable = true)\n |    |    |    |    |    |-- resolutions: array (nullable = true)\n |    |    |    |    |    |    |-- element: struct (containsNull = true)\n |    |    |    |    |    |    |    |-- height: long (nullable = true)\n |    |    |    |    |    |    |    |-- url: string (nullable = true)\n |    |    |    |    |    |    |    |-- width: long (nullable = true)\n |    |    |    |    |    |-- source: struct (nullable = true)\n |    |    |    |    |    |    |-- height: long (nullable = true)\n |    |    |    |    |    |    |-- url: string (nullable = true)\n |    |    |    |    |    |    |-- width: long (nullable = true)\n |    |    |    |    |-- nsfw: struct (nullable = true)\n |    |    |    |    |    |-- resolutions: array (nullable = true)\n |    |    |    |    |    |    |-- element: struct (containsNull = true)\n |    |    |    |    |    |    |    |-- height: long (nullable = true)\n |    |    |    |    |    |    |    |-- url: string (nullable = true)\n |    |    |    |    |    |    |    |-- width: long (nullable = true)\n |    |    |    |    |    |-- source: struct (nullable = true)\n |    |    |    |    |    |    |-- height: long (nullable = true)\n |    |    |    |    |    |    |-- url: string (nullable = true)\n |    |    |    |    |    |    |-- width: long (nullable = true)\n |    |    |    |    |-- obfuscated: struct (nullable = true)\n |    |    |    |    |    |-- resolutions: array (nullable = true)\n |    |    |    |    |    |    |-- element: struct (containsNull = true)\n |    |    |    |    |    |    |    |-- height: long (nullable = true)\n |    |    |    |    |    |    |    |-- url: string (nullable = true)\n |    |    |    |    |    |    |    |-- width: long (nullable = true)\n |    |    |    |    |    |-- source: struct (nullable = true)\n |    |    |    |    |    |    |-- height: long (nullable = true)\n |    |    |    |    |    |    |-- url: string (nullable = true)\n |    |    |    |    |    |    |-- width: long (nullable = true)\n |-- promoted: boolean (nullable = true)\n |-- promoted_by: string (nullable = true)\n |-- promoted_display_name: string (nullable = true)\n |-- promoted_url: string (nullable = true)\n |-- retrieved_on: timestamp (nullable = true)\n |-- score: long (nullable = true)\n |-- secure_media: struct (nullable = true)\n |    |-- event_id: string (nullable = true)\n |    |-- oembed: struct (nullable = true)\n |    |    |-- author_name: string (nullable = true)\n |    |    |-- author_url: string (nullable = true)\n |    |    |-- cache_age: long (nullable = true)\n |    |    |-- description: string (nullable = true)\n |    |    |-- height: long (nullable = true)\n |    |    |-- html: string (nullable = true)\n |    |    |-- provider_name: string (nullable = true)\n |    |    |-- provider_url: string (nullable = true)\n |    |    |-- thumbnail_height: long (nullable = true)\n |    |    |-- thumbnail_url: string (nullable = true)\n |    |    |-- thumbnail_width: long (nullable = true)\n |    |    |-- title: string (nullable = true)\n |    |    |-- type: string (nullable = true)\n |    |    |-- url: string (nullable = true)\n |    |    |-- version: string (nullable = true)\n |    |    |-- width: long (nullable = true)\n |    |-- type: string (nullable = true)\n |-- secure_media_embed: struct (nullable = true)\n |    |-- content: string (nullable = true)\n |    |-- height: long (nullable = true)\n |    |-- media_domain_url: string (nullable = true)\n |    |-- scrolling: boolean (nullable = true)\n |    |-- width: long (nullable = true)\n |-- selftext: string (nullable = true)\n |-- spoiler: boolean (nullable = true)\n |-- stickied: boolean (nullable = true)\n |-- subreddit: string (nullable = true)\n |-- subreddit_id: string (nullable = true)\n |-- suggested_sort: string (nullable = true)\n |-- third_party_trackers: array (nullable = true)\n |    |-- element: string (containsNull = true)\n |-- third_party_tracking: string (nullable = true)\n |-- third_party_tracking_2: string (nullable = true)\n |-- thumbnail: string (nullable = true)\n |-- thumbnail_height: long (nullable = true)\n |-- thumbnail_width: long (nullable = true)\n |-- title: string (nullable = true)\n |-- url: string (nullable = true)\n |-- whitelist_status: string (nullable = true)\n |-- year: integer (nullable = true)\n |-- month: integer (nullable = true)\n\n"
        }
      ],
      "execution_count": 8,
      "metadata": {
        "jupyter": {
          "source_hidden": false,
          "outputs_hidden": false
        },
        "nteract": {
          "transient": {
            "deleting": false
          }
        },
        "gather": {
          "logged": 1699477339653
        }
      }
    },
    {
      "cell_type": "code",
      "source": [
        "# Find the number of comments pulled from each subreddit\n",
        "questionsComments_df.groupBy(\"subreddit\").count().show()"
      ],
      "outputs": [
        {
          "output_type": "display_data",
          "data": {
            "application/vnd.livy.statement-meta+json": {
              "spark_pool": "c8407576-5b92-4819-bbab-f6e8aab1d710",
              "session_id": "5",
              "statement_id": 14,
              "state": "cancelled",
              "livy_statement_state": "waiting",
              "queued_time": "2023-11-08T21:00:56.6554957Z",
              "session_start_time": null,
              "execution_start_time": "2023-11-08T21:02:21.6811259Z",
              "execution_finish_time": "2023-11-08T21:06:39.1971227Z",
              "spark_jobs": {
                "numbers": {
                  "RUNNING": 1,
                  "SUCCEEDED": 0,
                  "FAILED": 0,
                  "UNKNOWN": 0
                },
                "jobs": [
                  {
                    "displayName": "showString at NativeMethodAccessorImpl.java:0",
                    "dataWritten": 55764,
                    "dataRead": 31431502406,
                    "rowCount": 251960618,
                    "usageDescription": "",
                    "jobId": 2,
                    "name": "showString at NativeMethodAccessorImpl.java:0",
                    "description": "Job group for statement 14:\n# Find the number of comments pulled from each subreddit\nquestionsComments_df.groupBy(\"subreddit\").count().show()",
                    "submissionTime": "2023-11-08T21:02:23.732GMT",
                    "stageIds": [
                      2
                    ],
                    "jobGroup": "14",
                    "status": "RUNNING",
                    "numTasks": 7428,
                    "numActiveTasks": 9,
                    "numCompletedTasks": 328,
                    "numSkippedTasks": 0,
                    "numFailedTasks": 0,
                    "numKilledTasks": 0,
                    "numCompletedIndices": 328,
                    "numActiveStages": 1,
                    "numCompletedStages": 0,
                    "numSkippedStages": 0,
                    "numFailedStages": 0,
                    "killedTasksSummary": {}
                  }
                ],
                "limit": 20,
                "rule": "ALL_DESC"
              },
              "parent_msg_id": "5217ab93-8bdf-40a5-b103-f7ec55b13c30"
            },
            "text/plain": "StatementMeta(c8407576-5b92-4819-bbab-f6e8aab1d710, 5, 14, Cancelled, Waiting)"
          },
          "metadata": {}
        }
      ],
      "execution_count": 9,
      "metadata": {
        "jupyter": {
          "source_hidden": false,
          "outputs_hidden": false
        },
        "nteract": {
          "transient": {
            "deleting": false
          }
        },
        "gather": {
          "logged": 1699477597123
        }
      }
    },
    {
      "cell_type": "code",
      "source": [
        "# Find the number of submissions pulled from each subreddit\n",
        "questionsSubmissions_df.groupBy(\"subreddit\").count().show()"
      ],
      "outputs": [
        {
          "output_type": "display_data",
          "data": {
            "application/vnd.livy.statement-meta+json": {
              "spark_pool": "c8407576-5b92-4819-bbab-f6e8aab1d710",
              "session_id": "5",
              "statement_id": 15,
              "state": "cancelled",
              "livy_statement_state": "waiting",
              "queued_time": "2023-11-08T21:00:56.6570845Z",
              "session_start_time": null,
              "execution_start_time": "2023-11-08T21:06:39.4116542Z",
              "execution_finish_time": "2023-11-08T21:06:40.2448417Z",
              "spark_jobs": {
                "numbers": {
                  "RUNNING": 0,
                  "SUCCEEDED": 0,
                  "FAILED": 0,
                  "UNKNOWN": 0
                },
                "jobs": [],
                "limit": 20,
                "rule": "ALL_DESC"
              },
              "parent_msg_id": "9fb03a92-2592-4edc-b9c7-b44ea73adc2a"
            },
            "text/plain": "StatementMeta(c8407576-5b92-4819-bbab-f6e8aab1d710, 5, 15, Cancelled, Waiting)"
          },
          "metadata": {}
        }
      ],
      "execution_count": 10,
      "metadata": {
        "jupyter": {
          "source_hidden": false,
          "outputs_hidden": false
        },
        "nteract": {
          "transient": {
            "deleting": false
          }
        },
        "gather": {
          "logged": 1699477598170
        }
      }
    },
    {
      "cell_type": "markdown",
      "source": [
        "### Pull in r/TaylorSwift data"
      ],
      "metadata": {
        "nteract": {
          "transient": {
            "deleting": false
          }
        }
      }
    },
    {
      "cell_type": "code",
      "source": [
        "# Filter for TaylorSwift from 2021-2023\n",
        "## Comments\n",
        "swiftComments_df = comments_df.filter(\n",
        "    (comments_df.subreddit == \"TaylorSwift\") & ((comments_df.year >= 2021) & (comments_df.year <= 2023))\n",
        ").cache()\n",
        "\n",
        "## Submissions\n",
        "swiftSubmissions_df = submissions_df.filter(\n",
        "    (submissions_df.subreddit == \"TaylorSwift\") & ((submissions_df.year >= 2021) & (submissions_df.year <= 2023))\n",
        ").cache()"
      ],
      "outputs": [
        {
          "output_type": "display_data",
          "data": {
            "application/vnd.livy.statement-meta+json": {
              "spark_pool": "c8407576-5b92-4819-bbab-f6e8aab1d710",
              "session_id": "5",
              "statement_id": 16,
              "state": "finished",
              "livy_statement_state": "available",
              "queued_time": "2023-11-08T21:00:56.6587365Z",
              "session_start_time": null,
              "execution_start_time": "2023-11-08T21:06:40.5466753Z",
              "execution_finish_time": "2023-11-08T21:06:41.4838973Z",
              "spark_jobs": {
                "numbers": {
                  "RUNNING": 0,
                  "SUCCEEDED": 0,
                  "FAILED": 0,
                  "UNKNOWN": 0
                },
                "jobs": [],
                "limit": 20,
                "rule": "ALL_DESC"
              },
              "parent_msg_id": "8932d1d3-eae5-4053-aba1-ef94c6b5b46c"
            },
            "text/plain": "StatementMeta(c8407576-5b92-4819-bbab-f6e8aab1d710, 5, 16, Finished, Available)"
          },
          "metadata": {}
        }
      ],
      "execution_count": 11,
      "metadata": {
        "jupyter": {
          "source_hidden": false,
          "outputs_hidden": false
        },
        "nteract": {
          "transient": {
            "deleting": false
          }
        },
        "gather": {
          "logged": 1699477599542
        }
      }
    },
    {
      "cell_type": "markdown",
      "source": [
        "### Data Cleaning"
      ],
      "metadata": {
        "nteract": {
          "transient": {
            "deleting": false
          }
        }
      }
    },
    {
      "cell_type": "code",
      "source": [
        "# View the first five questions comments\n",
        "questionsComments_df.show(5)"
      ],
      "outputs": [
        {
          "output_type": "display_data",
          "data": {
            "application/vnd.livy.statement-meta+json": {
              "spark_pool": "c8407576-5b92-4819-bbab-f6e8aab1d710",
              "session_id": "5",
              "statement_id": 17,
              "state": "finished",
              "livy_statement_state": "available",
              "queued_time": "2023-11-08T21:00:56.6607764Z",
              "session_start_time": null,
              "execution_start_time": "2023-11-08T21:06:41.639684Z",
              "execution_finish_time": "2023-11-08T21:06:42.5865011Z",
              "spark_jobs": {
                "numbers": {
                  "RUNNING": 0,
                  "SUCCEEDED": 1,
                  "FAILED": 0,
                  "UNKNOWN": 0
                },
                "jobs": [
                  {
                    "displayName": "showString at NativeMethodAccessorImpl.java:0",
                    "dataWritten": 0,
                    "dataRead": 7977032,
                    "rowCount": 1,
                    "usageDescription": "",
                    "jobId": 4,
                    "name": "showString at NativeMethodAccessorImpl.java:0",
                    "description": "Job group for statement 17:\n# View the first five questions comments\nquestionsComments_df.show(5)",
                    "submissionTime": "2023-11-08T21:06:41.812GMT",
                    "completionTime": "2023-11-08T21:06:42.023GMT",
                    "stageIds": [
                      4
                    ],
                    "jobGroup": "17",
                    "status": "SUCCEEDED",
                    "numTasks": 1,
                    "numActiveTasks": 0,
                    "numCompletedTasks": 1,
                    "numSkippedTasks": 0,
                    "numFailedTasks": 0,
                    "numKilledTasks": 0,
                    "numCompletedIndices": 1,
                    "numActiveStages": 0,
                    "numCompletedStages": 1,
                    "numSkippedStages": 0,
                    "numFailedStages": 0,
                    "killedTasksSummary": {}
                  }
                ],
                "limit": 20,
                "rule": "ALL_DESC"
              },
              "parent_msg_id": "a6aabb12-b494-4813-8e9f-a7b5d68a48ee"
            },
            "text/plain": "StatementMeta(c8407576-5b92-4819-bbab-f6e8aab1d710, 5, 17, Finished, Available)"
          },
          "metadata": {}
        },
        {
          "output_type": "stream",
          "name": "stdout",
          "text": "+------------------+--------------+----------------------+-----------------+--------------------+--------+----------------+-------------------+-------------+------+------+-------+------------+---------+----------+--------------------+------------+-----+--------+---------+------------+----+-----+\n|            author|author_cakeday|author_flair_css_class|author_flair_text|                body|can_gild|controversiality|        created_utc|distinguished|edited|gilded|     id|is_submitter|  link_id| parent_id|           permalink|retrieved_on|score|stickied|subreddit|subreddit_id|year|month|\n+------------------+--------------+----------------------+-----------------+--------------------+--------+----------------+-------------------+-------------+------+------+-------+------------+---------+----------+--------------------+------------+-----+--------+---------+------------+----+-----+\n|         cuminpant|          null|                  null|             null|It's more comfort...|    true|               0|2021-06-23 08:32:33|         null| false|     0|h2qxm02|       false|t3_o68orw| t3_o68orw|/r/AskReddit/comm...|        null|  571|   false|AskReddit|    t5_2qh1i|2021|    6|\n|        MajorasInk|          null|                  null|             null|Wtf that guy soun...|    true|               0|2021-06-23 08:32:33|         null| false|     0|h2qxm0h|       false|t3_o63ev2|t1_h2qwxn3|/r/AskReddit/comm...|        null|   72|   false|AskReddit|    t5_2qh1i|2021|    6|\n|      dominashun28|          null|                  null|             null|          No emojis.|    true|               0|2021-06-23 08:32:34|         null| false|     0|h2qxm15|       false|t3_o5lyoh| t3_o5lyoh|/r/AskReddit/comm...|        null|    1|   false|AskReddit|    t5_2qh1i|2021|    6|\n|EmolgaStarPlatinum|          null|                  null|             null|Understandable ha...|    true|               0|2021-06-23 08:32:34|         null| false|     0|h2qxm1k|        true|t3_o68ogs|t1_h2qxl9b|/r/AskReddit/comm...|        null|    4|   false|AskReddit|    t5_2qh1i|2021|    6|\n|         marcb7658|          null|                  null|             null|How tight it is a...|    true|               0|2021-06-23 08:32:35|         null| false|     0|h2qxm22|       false|t3_o5wuxc|t1_h2q6elg|/r/AskReddit/comm...|        null|    3|   false|AskReddit|    t5_2qh1i|2021|    6|\n+------------------+--------------+----------------------+-----------------+--------------------+--------+----------------+-------------------+-------------+------+------+-------+------------+---------+----------+--------------------+------------+-----+--------+---------+------------+----+-----+\nonly showing top 5 rows\n\n"
        }
      ],
      "execution_count": 12,
      "metadata": {
        "jupyter": {
          "source_hidden": false,
          "outputs_hidden": false
        },
        "nteract": {
          "transient": {
            "deleting": false
          }
        },
        "gather": {
          "logged": 1699477600664
        }
      }
    },
    {
      "cell_type": "code",
      "source": [
        "# View the first five questions submissions\n",
        "questionsSubmissions_df.show(5)"
      ],
      "outputs": [
        {
          "output_type": "display_data",
          "data": {
            "application/vnd.livy.statement-meta+json": {
              "spark_pool": "c8407576-5b92-4819-bbab-f6e8aab1d710",
              "session_id": "5",
              "statement_id": 18,
              "state": "finished",
              "livy_statement_state": "available",
              "queued_time": "2023-11-08T21:00:56.6621501Z",
              "session_start_time": null,
              "execution_start_time": "2023-11-08T21:06:42.7157927Z",
              "execution_finish_time": "2023-11-08T21:06:55.3545948Z",
              "spark_jobs": {
                "numbers": {
                  "RUNNING": 0,
                  "SUCCEEDED": 1,
                  "FAILED": 0,
                  "UNKNOWN": 0
                },
                "jobs": [
                  {
                    "displayName": "showString at NativeMethodAccessorImpl.java:0",
                    "dataWritten": 0,
                    "dataRead": 103171358,
                    "rowCount": 221807,
                    "usageDescription": "",
                    "jobId": 5,
                    "name": "showString at NativeMethodAccessorImpl.java:0",
                    "description": "Job group for statement 18:\n# View the first five questions submissions\nquestionsSubmissions_df.show(5)",
                    "submissionTime": "2023-11-08T21:06:42.871GMT",
                    "completionTime": "2023-11-08T21:06:53.864GMT",
                    "stageIds": [
                      5
                    ],
                    "jobGroup": "18",
                    "status": "SUCCEEDED",
                    "numTasks": 1,
                    "numActiveTasks": 0,
                    "numCompletedTasks": 1,
                    "numSkippedTasks": 0,
                    "numFailedTasks": 0,
                    "numKilledTasks": 0,
                    "numCompletedIndices": 1,
                    "numActiveStages": 0,
                    "numCompletedStages": 1,
                    "numSkippedStages": 0,
                    "numFailedStages": 0,
                    "killedTasksSummary": {}
                  }
                ],
                "limit": 20,
                "rule": "ALL_DESC"
              },
              "parent_msg_id": "df5d0e35-2c93-4a70-972e-64d6dc1ac44f"
            },
            "text/plain": "StatementMeta(c8407576-5b92-4819-bbab-f6e8aab1d710, 5, 18, Finished, Available)"
          },
          "metadata": {}
        },
        {
          "output_type": "stream",
          "name": "stdout",
          "text": "+------------------+------------------+--------+------------+--------------+----------------------+-----------------+---------+----------+------------+-------------------+----------------+---------------------+----------------+-------------+--------------+---------------+------+----------+---------+------+------+----------+--------+-------+---------+----------------+----------------------+-------+--------+--------------------+---------------+------+-----+--------------------+-------------+------------+--------------+-------------+-------+-----------------------+--------------------+------+---------+-------+--------+-----------+---------------------+------------+-------------------+-----+------------+--------------------+---------+-------+--------+-----------------+------------+--------------+--------------------+--------------------+----------------------+---------+----------------+---------------+--------------------+--------------------+----------------+----+-----+\n|adserver_click_url|adserver_imp_pixel|archived|      author|author_cakeday|author_flair_css_class|author_flair_text|author_id|brand_safe|contest_mode|        created_utc|crosspost_parent|crosspost_parent_list|disable_comments|distinguished|        domain|domain_override|edited|embed_type|embed_url|gilded|hidden|hide_score|href_url|     id|imp_pixel|is_crosspostable|is_reddit_media_domain|is_self|is_video|link_flair_css_class|link_flair_text|locked|media|         media_embed|mobile_ad_url|num_comments|num_crossposts|original_link|over_18|parent_whitelist_status|           permalink|pinned|post_hint|preview|promoted|promoted_by|promoted_display_name|promoted_url|       retrieved_on|score|secure_media|  secure_media_embed| selftext|spoiler|stickied|        subreddit|subreddit_id|suggested_sort|third_party_trackers|third_party_tracking|third_party_tracking_2|thumbnail|thumbnail_height|thumbnail_width|               title|                 url|whitelist_status|year|month|\n+------------------+------------------+--------+------------+--------------+----------------------+-----------------+---------+----------+------------+-------------------+----------------+---------------------+----------------+-------------+--------------+---------------+------+----------+---------+------+------+----------+--------+-------+---------+----------------+----------------------+-------+--------+--------------------+---------------+------+-----+--------------------+-------------+------------+--------------+-------------+-------+-----------------------+--------------------+------+---------+-------+--------+-----------+---------------------+------------+-------------------+-----+------------+--------------------+---------+-------+--------+-----------------+------------+--------------+--------------------+--------------------+----------------------+---------+----------------+---------------+--------------------+--------------------+----------------+----+-----+\n|              null|              null|   false|bird_in_suit|          null|                  null|             null|     null|      null|       false|2023-02-22 21:07:20|            null|                 null|            null|         null|self.AskReddit|           null| false|      null|     null|     0| false|     false|    null|119d69r|     null|            true|                 false|   true|   false|                null|           null| false| null|{null, null, null...|         null|           3|             0|         null|  false|                all_ads|/r/AskReddit/comm...| false|     null|   null|    null|       null|                 null|        null|2023-03-08 23:24:02|    2|        null|{null, null, null...|         |  false|   false|        AskReddit|    t5_2qh1i|          null|                null|                null|                  null|     self|            null|           null|What was the rude...|https://www.reddi...|         all_ads|2023|    2|\n|              null|              null|   false|   [deleted]|          null|                  null|             null|     null|      null|       false|2023-02-22 21:07:22|            null|                 null|            null|         null|              |           null| false|      null|     null|     0| false|     false|    null|119d6be|     null|           false|                 false|   true|   false|                null|           null| false| null|{null, null, null...|         null|           1|             0|         null|  false|                all_ads|/r/AskReddit/comm...| false|     null|   null|    null|       null|                 null|        null|2023-03-08 23:24:02|    1|        null|{null, null, null...|[removed]|  false|   false|        AskReddit|    t5_2qh1i|          null|                null|                null|                  null|  default|            null|           null|If you could only...|                    |         all_ads|2023|    2|\n|              null|              null|   false|   [deleted]|          null|                  null|             null|     null|      null|       false|2023-02-22 21:07:40|            null|                 null|            null|         null|              |           null| false|      null|     null|     0| false|     false|    null|119d6qv|     null|           false|                 false|   true|   false|                null|           null| false| null|{null, null, null...|         null|           3|             0|         null|  false|                all_ads|/r/NoStupidQuesti...| false|     null|   null|    null|       null|                 null|        null|2023-03-08 23:24:02|    2|        null|{null, null, null...|[deleted]|  false|   false|NoStupidQuestions|    t5_2w844|          null|                null|                null|                  null|  default|            null|           null|What is the right...|                    |         all_ads|2023|    2|\n|              null|              null|   false|   [deleted]|          null|                  null|             null|     null|      null|       false|2023-02-22 21:07:42|            null|                 null|            null|         null|              |           null| false|      null|     null|     0| false|     false|    null|119d6su|     null|           false|                 false|   true|   false|                null|           null| false| null|{null, null, null...|         null|           1|             0|         null|  false|                all_ads|/r/AskReddit/comm...| false|     null|   null|    null|       null|                 null|        null|2023-03-08 23:24:02|    1|        null|{null, null, null...|[removed]|  false|   false|        AskReddit|    t5_2qh1i|          null|                null|                null|                  null|  default|            null|           null|What is the reaso...|                    |         all_ads|2023|    2|\n|              null|              null|   false|   tenamonth|          null|                  null|             null|     null|      null|       false|2023-02-22 21:07:43|            null|                 null|            null|         null|self.AskReddit|           null| false|      null|     null|     0| false|     false|    null|119d6t4|     null|            true|                 false|   true|   false|                null|           null| false| null|{null, null, null...|         null|          10|             0|         null|  false|                all_ads|/r/AskReddit/comm...| false|     null|   null|    null|       null|                 null|        null|2023-03-08 23:24:02|    1|        null|{null, null, null...|         |  false|   false|        AskReddit|    t5_2qh1i|          null|                null|                null|                  null|     self|            null|           null|Which car would y...|https://www.reddi...|         all_ads|2023|    2|\n+------------------+------------------+--------+------------+--------------+----------------------+-----------------+---------+----------+------------+-------------------+----------------+---------------------+----------------+-------------+--------------+---------------+------+----------+---------+------+------+----------+--------+-------+---------+----------------+----------------------+-------+--------+--------------------+---------------+------+-----+--------------------+-------------+------------+--------------+-------------+-------+-----------------------+--------------------+------+---------+-------+--------+-----------+---------------------+------------+-------------------+-----+------------+--------------------+---------+-------+--------+-----------------+------------+--------------+--------------------+--------------------+----------------------+---------+----------------+---------------+--------------------+--------------------+----------------+----+-----+\nonly showing top 5 rows\n\n"
        }
      ],
      "execution_count": 13,
      "metadata": {
        "jupyter": {
          "source_hidden": false,
          "outputs_hidden": false
        },
        "nteract": {
          "transient": {
            "deleting": false
          }
        },
        "gather": {
          "logged": 1699477613517
        }
      }
    },
    {
      "cell_type": "code",
      "source": [
        "# View the first five TS comments\n",
        "swiftComments_df.show(5)"
      ],
      "outputs": [
        {
          "output_type": "display_data",
          "data": {
            "application/vnd.livy.statement-meta+json": {
              "spark_pool": "c8407576-5b92-4819-bbab-f6e8aab1d710",
              "session_id": "5",
              "statement_id": 19,
              "state": "finished",
              "livy_statement_state": "available",
              "queued_time": "2023-11-08T21:00:56.6638857Z",
              "session_start_time": null,
              "execution_start_time": "2023-11-08T21:06:55.482423Z",
              "execution_finish_time": "2023-11-08T21:07:02.1418025Z",
              "spark_jobs": {
                "numbers": {
                  "RUNNING": 0,
                  "SUCCEEDED": 1,
                  "FAILED": 0,
                  "UNKNOWN": 0
                },
                "jobs": [
                  {
                    "displayName": "showString at NativeMethodAccessorImpl.java:0",
                    "dataWritten": 0,
                    "dataRead": 98243390,
                    "rowCount": 652138,
                    "usageDescription": "",
                    "jobId": 6,
                    "name": "showString at NativeMethodAccessorImpl.java:0",
                    "description": "Job group for statement 19:\n# View the first five TS comments\nswiftComments_df.show(5)",
                    "submissionTime": "2023-11-08T21:06:56.008GMT",
                    "completionTime": "2023-11-08T21:07:01.515GMT",
                    "stageIds": [
                      6
                    ],
                    "jobGroup": "19",
                    "status": "SUCCEEDED",
                    "numTasks": 1,
                    "numActiveTasks": 0,
                    "numCompletedTasks": 1,
                    "numSkippedTasks": 0,
                    "numFailedTasks": 0,
                    "numKilledTasks": 0,
                    "numCompletedIndices": 1,
                    "numActiveStages": 0,
                    "numCompletedStages": 1,
                    "numSkippedStages": 0,
                    "numFailedStages": 0,
                    "killedTasksSummary": {}
                  }
                ],
                "limit": 20,
                "rule": "ALL_DESC"
              },
              "parent_msg_id": "e55fdecd-9048-4fe9-9b99-0d16317e2d38"
            },
            "text/plain": "StatementMeta(c8407576-5b92-4819-bbab-f6e8aab1d710, 5, 19, Finished, Available)"
          },
          "metadata": {}
        },
        {
          "output_type": "stream",
          "name": "stdout",
          "text": "+--------------------+--------------+----------------------+--------------------+--------------------+--------+----------------+-------------------+-------------+------+------+-------+------------+---------+----------+--------------------+------------+-----+--------+-----------+------------+----+-----+\n|              author|author_cakeday|author_flair_css_class|   author_flair_text|                body|can_gild|controversiality|        created_utc|distinguished|edited|gilded|     id|is_submitter|  link_id| parent_id|           permalink|retrieved_on|score|stickied|  subreddit|subreddit_id|year|month|\n+--------------------+--------------+----------------------+--------------------+--------------------+--------+----------------+-------------------+-------------+------+------+-------+------------+---------+----------+--------------------+------------+-----+--------+-----------+------------+----+-----+\n| twentyyeardarknight|          null|                  null|                null|State of grace al...|    true|               0|2021-06-23 08:33:37|         null| false|     0|h2qxoby|       false|t3_o5m7lh| t3_o5m7lh|/r/TaylorSwift/co...|        null|    1|   false|TaylorSwift|    t5_2rlwe|2021|    6|\n|     desireetaylor91|          null|                   red|dancing around th...|1. All too well b...|    true|               0|2021-06-23 08:37:51|         null| false|     0|h2qxxw9|       false|t3_o64u7p| t3_o64u7p|/r/TaylorSwift/co...|        null|    3|   false|TaylorSwift|    t5_2rlwe|2021|    6|\n|           [deleted]|          null|                  null|                null|           [deleted]|    true|               0|2021-06-23 08:39:26|         null| false|     0|h2qy1dr|       false|t3_o2ykit|t1_h2q8118|/r/TaylorSwift/co...|        null|    0|   false|TaylorSwift|    t5_2rlwe|2021|    6|\n|   ConspiracyofFools|          null|                  null|                null|State of Grace. I...|    true|               0|2021-06-23 08:44:39|         null| false|     0|h2qycds|       false|t3_o5m7lh| t3_o5m7lh|/r/TaylorSwift/co...|        null|    1|   false|TaylorSwift|    t5_2rlwe|2021|    6|\n|kellywellyapparently|          null|                  null|:RedTV: on a wedn...|I think King of M...|    true|               0|2021-06-23 08:47:12|         null| false|     0|h2qyhq9|       false|t3_o5oc1u| t3_o5oc1u|/r/TaylorSwift/co...|        null|    2|   false|TaylorSwift|    t5_2rlwe|2021|    6|\n+--------------------+--------------+----------------------+--------------------+--------------------+--------+----------------+-------------------+-------------+------+------+-------+------------+---------+----------+--------------------+------------+-----+--------+-----------+------------+----+-----+\nonly showing top 5 rows\n\n"
        }
      ],
      "execution_count": 14,
      "metadata": {
        "jupyter": {
          "source_hidden": false,
          "outputs_hidden": false
        },
        "nteract": {
          "transient": {
            "deleting": false
          }
        },
        "gather": {
          "logged": 1699477620363
        }
      }
    },
    {
      "cell_type": "code",
      "source": [
        "# View the first five TS submissions\n",
        "swiftSubmissions_df.show(5)"
      ],
      "outputs": [
        {
          "output_type": "display_data",
          "data": {
            "application/vnd.livy.statement-meta+json": {
              "spark_pool": "c8407576-5b92-4819-bbab-f6e8aab1d710",
              "session_id": "5",
              "statement_id": 20,
              "state": "finished",
              "livy_statement_state": "available",
              "queued_time": "2023-11-08T21:00:56.6654999Z",
              "session_start_time": null,
              "execution_start_time": "2023-11-08T21:07:02.327067Z",
              "execution_finish_time": "2023-11-08T21:07:15.0239194Z",
              "spark_jobs": {
                "numbers": {
                  "RUNNING": 0,
                  "SUCCEEDED": 1,
                  "FAILED": 0,
                  "UNKNOWN": 0
                },
                "jobs": [
                  {
                    "displayName": "showString at NativeMethodAccessorImpl.java:0",
                    "dataWritten": 0,
                    "dataRead": 88899144,
                    "rowCount": 190736,
                    "usageDescription": "",
                    "jobId": 7,
                    "name": "showString at NativeMethodAccessorImpl.java:0",
                    "description": "Job group for statement 20:\n# View the first five TS submissions\nswiftSubmissions_df.show(5)",
                    "submissionTime": "2023-11-08T21:07:02.634GMT",
                    "completionTime": "2023-11-08T21:07:12.809GMT",
                    "stageIds": [
                      7
                    ],
                    "jobGroup": "20",
                    "status": "SUCCEEDED",
                    "numTasks": 1,
                    "numActiveTasks": 0,
                    "numCompletedTasks": 1,
                    "numSkippedTasks": 0,
                    "numFailedTasks": 0,
                    "numKilledTasks": 0,
                    "numCompletedIndices": 1,
                    "numActiveStages": 0,
                    "numCompletedStages": 1,
                    "numSkippedStages": 0,
                    "numFailedStages": 0,
                    "killedTasksSummary": {}
                  }
                ],
                "limit": 20,
                "rule": "ALL_DESC"
              },
              "parent_msg_id": "c5c6e21f-013b-431d-9a8d-ee7eade8f195"
            },
            "text/plain": "StatementMeta(c8407576-5b92-4819-bbab-f6e8aab1d710, 5, 20, Finished, Available)"
          },
          "metadata": {}
        },
        {
          "output_type": "stream",
          "name": "stdout",
          "text": "+------------------+------------------+--------+-------------+--------------+----------------------+-----------------+---------+----------+------------+-------------------+----------------+---------------------+----------------+-------------+----------------+---------------+-------------+----------+---------+------+------+----------+--------+-------+---------+----------------+----------------------+-------+--------+--------------------+--------------------+------+-----+--------------------+-------------+------------+--------------+-------------+-------+-----------------------+--------------------+------+---------+--------------------+--------+-----------+---------------------+------------+-------------------+-----+------------+--------------------+--------------------+-------+--------+-----------+------------+--------------+--------------------+--------------------+----------------------+--------------------+----------------+---------------+--------------------+--------------------+----------------+----+-----+\n|adserver_click_url|adserver_imp_pixel|archived|       author|author_cakeday|author_flair_css_class|author_flair_text|author_id|brand_safe|contest_mode|        created_utc|crosspost_parent|crosspost_parent_list|disable_comments|distinguished|          domain|domain_override|       edited|embed_type|embed_url|gilded|hidden|hide_score|href_url|     id|imp_pixel|is_crosspostable|is_reddit_media_domain|is_self|is_video|link_flair_css_class|     link_flair_text|locked|media|         media_embed|mobile_ad_url|num_comments|num_crossposts|original_link|over_18|parent_whitelist_status|           permalink|pinned|post_hint|             preview|promoted|promoted_by|promoted_display_name|promoted_url|       retrieved_on|score|secure_media|  secure_media_embed|            selftext|spoiler|stickied|  subreddit|subreddit_id|suggested_sort|third_party_trackers|third_party_tracking|third_party_tracking_2|           thumbnail|thumbnail_height|thumbnail_width|               title|                 url|whitelist_status|year|month|\n+------------------+------------------+--------+-------------+--------------+----------------------+-----------------+---------+----------+------------+-------------------+----------------+---------------------+----------------+-------------+----------------+---------------+-------------+----------+---------+------+------+----------+--------+-------+---------+----------------+----------------------+-------+--------+--------------------+--------------------+------+-----+--------------------+-------------+------------+--------------+-------------+-------+-----------------------+--------------------+------+---------+--------------------+--------+-----------+---------------------+------------+-------------------+-----+------------+--------------------+--------------------+-------+--------+-----------+------------+--------------+--------------------+--------------------+----------------------+--------------------+----------------+---------------+--------------------+--------------------+----------------+----+-----+\n|              null|              null|   false| keroppi-pond|          null|                  null|             null|     null|      null|       false|2023-02-22 21:10:43|            null|                 null|            null|         null|self.TaylorSwift|           null|1.677103064E9|      null|     null|     0| false|     false|    null|119db5c|     null|            true|                 false|   true|   false|          discussion|Discussion:taythink:| false| null|{null, null, null...|         null|           7|             0|         null|  false|                all_ads|/r/TaylorSwift/co...| false|     null|                null|    null|       null|                 null|        null|2023-03-08 23:23:58|   37|        null|{null, null, null...|I know Taylor Swi...|  false|   false|TaylorSwift|    t5_2rlwe|          null|                null|                null|                  null|                self|            null|           null|Taylor album eras...|https://www.reddi...|         all_ads|2023|    2|\n|              null|              null|   false|Sweet-Ad-2477|          null|              folklore| it's so romantic|     null|      null|       false|2023-02-22 21:11:28|            null|                 null|            null|         null|self.TaylorSwift|           null|        false|      null|     null|     0| false|     false|    null|119dcc3|     null|            true|                 false|   true|   false|          discussion|Discussion:taythink:| false| null|{null, null, null...|         null|          91|             0|         null|  false|                all_ads|/r/TaylorSwift/co...| false|     null|                null|    null|       null|                 null|        null|2023-03-08 23:23:57|   34|        null|{null, null, null...|Whether it be a n...|  false|   false|TaylorSwift|    t5_2rlwe|          null|                null|                null|                  null|                self|            null|           null|Have you named an...|https://www.reddi...|         all_ads|2023|    2|\n|              null|              null|   false|    MRedk1985|          null|                   red|        :red: Red|     null|      null|       false|2023-02-22 21:12:25|            null|                 null|            null|         null|       i.redd.it|           null|        false|      null|     null|     0| false|     false|    null|119ddrf|     null|            true|                  true|  false|   false|               photo|       Photo :Photo:| false| null|{null, null, null...|         null|          20|             0|         null|  false|                all_ads|/r/TaylorSwift/co...| false|    image|{true, [{1SwsZMVz...|    null|       null|                 null|        null|2023-03-08 23:23:55|  239|        null|{null, null, null...|                    |  false|   false|TaylorSwift|    t5_2rlwe|          null|                null|                null|                  null|https://b.thumbs....|             140|            140|It’s a cold, rain...|https://i.redd.it...|         all_ads|2023|    2|\n|              null|              null|   false|    [deleted]|          null|                  null|             null|     null|      null|       false|2023-02-22 21:22:00|            null|                 null|            null|         null|                |           null|        false|      null|     null|     0| false|     false|    null|119dse6|     null|           false|                  true|  false|   false|               photo|       Photo :Photo:| false| null|{null, null, null...|         null|           1|             0|         null|  false|                all_ads|/r/TaylorSwift/co...| false|     null|                null|    null|       null|                 null|        null|2023-03-08 23:23:43|    1|        null|{null, null, null...|           [removed]|  false|   false|TaylorSwift|    t5_2rlwe|          null|                null|                null|                  null|             default|              98|            140|Found an old card...|                    |         all_ads|2023|    2|\n|              null|              null|   false|      starvcy|          null|                  null|             null|     null|      null|       false|2023-02-21 05:45:10|            null|                 null|            null|         null|self.TaylorSwift|           null|        false|      null|     null|     0| false|     false|    null|117vswb|     null|            true|                 false|   true|   false|          discussion|Discussion:taythink:| false| null|{null, null, null...|         null|           6|             0|         null|  false|                all_ads|/r/TaylorSwift/co...| false|     null|                null|    null|       null|                 null|        null|2023-03-08 23:59:09|    5|        null|{null, null, null...|It’s been confirm...|  false|   false|TaylorSwift|    t5_2rlwe|          null|                null|                null|                  null|                self|            null|           null|Why does Taylor n...|https://www.reddi...|         all_ads|2023|    2|\n+------------------+------------------+--------+-------------+--------------+----------------------+-----------------+---------+----------+------------+-------------------+----------------+---------------------+----------------+-------------+----------------+---------------+-------------+----------+---------+------+------+----------+--------+-------+---------+----------------+----------------------+-------+--------+--------------------+--------------------+------+-----+--------------------+-------------+------------+--------------+-------------+-------+-----------------------+--------------------+------+---------+--------------------+--------+-----------+---------------------+------------+-------------------+-----+------------+--------------------+--------------------+-------+--------+-----------+------------+--------------+--------------------+--------------------+----------------------+--------------------+----------------+---------------+--------------------+--------------------+----------------+----+-----+\nonly showing top 5 rows\n\n"
        }
      ],
      "execution_count": 15,
      "metadata": {
        "jupyter": {
          "source_hidden": false,
          "outputs_hidden": false
        },
        "nteract": {
          "transient": {
            "deleting": false
          }
        },
        "gather": {
          "logged": 1699477633258
        }
      }
    },
    {
      "cell_type": "markdown",
      "source": [
        "Our data has many rows that are filled with null values - we removed them in order to have cleaner, more useful data."
      ],
      "metadata": {
        "nteract": {
          "transient": {
            "deleting": false
          }
        }
      }
    },
    {
      "cell_type": "code",
      "source": [
        "# Subset the data\n",
        "questionsComments_small = questionsComments_df.sample(\n",
        "    fraction = 0.0001, withReplacement=False\n",
        ")\n",
        "\n",
        "questionsSubmissions_small = questionsSubmissions_df.sample(\n",
        "    fraction = 0.0001, withReplacement=False\n",
        ")\n",
        "\n",
        "swiftComments_small = swiftComments_df.sample(\n",
        "    fraction = 0.1, withReplacement=False\n",
        ")\n",
        "\n",
        "swiftSubmissions_small = swiftSubmissions_df.sample(\n",
        "    fraction = 0.1, withReplacement=False\n",
        ")"
      ],
      "outputs": [
        {
          "output_type": "display_data",
          "data": {
            "application/vnd.livy.statement-meta+json": {
              "spark_pool": "c8407576-5b92-4819-bbab-f6e8aab1d710",
              "session_id": "5",
              "statement_id": 21,
              "state": "finished",
              "livy_statement_state": "available",
              "queued_time": "2023-11-08T21:00:56.6672266Z",
              "session_start_time": null,
              "execution_start_time": "2023-11-08T21:07:15.1400757Z",
              "execution_finish_time": "2023-11-08T21:07:15.5764759Z",
              "spark_jobs": {
                "numbers": {
                  "RUNNING": 0,
                  "SUCCEEDED": 0,
                  "FAILED": 0,
                  "UNKNOWN": 0
                },
                "jobs": [],
                "limit": 20,
                "rule": "ALL_DESC"
              },
              "parent_msg_id": "e5514304-621d-4450-8d3d-77053268be2a"
            },
            "text/plain": "StatementMeta(c8407576-5b92-4819-bbab-f6e8aab1d710, 5, 21, Finished, Available)"
          },
          "metadata": {}
        }
      ],
      "execution_count": 16,
      "metadata": {
        "jupyter": {
          "source_hidden": false,
          "outputs_hidden": false
        },
        "nteract": {
          "transient": {
            "deleting": false
          }
        },
        "gather": {
          "logged": 1699477633913
        }
      }
    },
    {
      "cell_type": "code",
      "source": [
        "# Drop all rows with an NA present\n",
        "## Comments\n",
        "questionsComments_small = questionsComments_small.dropna()\n",
        "swiftComments_small = swiftComments_small.dropna()\n",
        "\n",
        "## Submissions\n",
        "questionsSubmissions_small = questionsSubmissions_small.dropna()\n",
        "swiftSubmissions_small = swiftSubmissions_small.dropna()"
      ],
      "outputs": [
        {
          "output_type": "display_data",
          "data": {
            "application/vnd.livy.statement-meta+json": {
              "spark_pool": "c8407576-5b92-4819-bbab-f6e8aab1d710",
              "session_id": "5",
              "statement_id": 22,
              "state": "finished",
              "livy_statement_state": "available",
              "queued_time": "2023-11-08T21:00:56.668706Z",
              "session_start_time": null,
              "execution_start_time": "2023-11-08T21:07:15.7278519Z",
              "execution_finish_time": "2023-11-08T21:07:16.7541006Z",
              "spark_jobs": {
                "numbers": {
                  "RUNNING": 0,
                  "SUCCEEDED": 0,
                  "FAILED": 0,
                  "UNKNOWN": 0
                },
                "jobs": [],
                "limit": 20,
                "rule": "ALL_DESC"
              },
              "parent_msg_id": "833d7017-7847-4acf-8386-e7a5e5bf8137"
            },
            "text/plain": "StatementMeta(c8407576-5b92-4819-bbab-f6e8aab1d710, 5, 22, Finished, Available)"
          },
          "metadata": {}
        }
      ],
      "execution_count": 17,
      "metadata": {
        "jupyter": {
          "source_hidden": false,
          "outputs_hidden": false
        },
        "nteract": {
          "transient": {
            "deleting": false
          }
        },
        "gather": {
          "logged": 1699477634890
        }
      }
    },
    {
      "cell_type": "markdown",
      "source": [
        "## Saving data to Azure Storage"
      ],
      "metadata": {
        "nteract": {
          "transient": {
            "deleting": false
          }
        }
      }
    },
    {
      "cell_type": "markdown",
      "source": [
        "Sometimes we may want to save intermediate data, especially if it is big and took a significant time to generate, in DBFS. The following code shows an example of this. We save submissions on the `memes` subreddit into dbfs so that we can read from it at a later stage.\n"
      ],
      "metadata": {
        "nteract": {
          "transient": {
            "deleting": false
          }
        }
      }
    },
    {
      "cell_type": "code",
      "source": [
        "# this code saves the data as a csv just for illustration, use parquet for faster analytics operations.\n",
        "qCSmall_save = questionsComments_df.limit(10000).cache()\n",
        "# qSSmall_save = questionsSubmissions_small.cache()\n",
        "# tsCSmall_save = swiftComments_small.cache()\n",
        "# tsSSmall_save = swiftSubmissions_small.cache()"
      ],
      "outputs": [
        {
          "output_type": "display_data",
          "data": {
            "application/vnd.livy.statement-meta+json": {
              "spark_pool": "c8407576-5b92-4819-bbab-f6e8aab1d710",
              "session_id": "5",
              "statement_id": 27,
              "state": "finished",
              "livy_statement_state": "available",
              "queued_time": "2023-11-08T21:16:14.9161281Z",
              "session_start_time": null,
              "execution_start_time": "2023-11-08T21:16:15.0358507Z",
              "execution_finish_time": "2023-11-08T21:16:15.9970379Z",
              "spark_jobs": {
                "numbers": {
                  "RUNNING": 0,
                  "SUCCEEDED": 0,
                  "FAILED": 0,
                  "UNKNOWN": 0
                },
                "jobs": [],
                "limit": 20,
                "rule": "ALL_DESC"
              },
              "parent_msg_id": "583124b7-fa50-4a1f-b69c-e795ce6f816f"
            },
            "text/plain": "StatementMeta(c8407576-5b92-4819-bbab-f6e8aab1d710, 5, 27, Finished, Available)"
          },
          "metadata": {}
        }
      ],
      "execution_count": 22,
      "metadata": {
        "jupyter": {
          "source_hidden": false,
          "outputs_hidden": false
        },
        "nteract": {
          "transient": {
            "deleting": false
          }
        },
        "gather": {
          "logged": 1699478174100
        }
      }
    },
    {
      "cell_type": "code",
      "source": [
        "# Write the parquet files\n",
        "qCSmall_save.write.parquet(\"Users/Mjv38/fall-2023-reddit-project-team-21/data/filtered_parquets/questionsComments1.parquet\")\n",
        "# qSSmall_save.write.parquet(\"Users/Mjv38/data/filtered_parquets/questionsSubmissions.parquet\")\n",
        "# tsCSmall_save.write.parquet(\"Users/Mjv38/data/filtered_parquets/swiftComments.parquet\")\n",
        "# tsSSmall_save.write.parquet(\"Users/Mjv38/data/filtered_parquets/swiftSubmissions.parquet\")"
      ],
      "outputs": [
        {
          "output_type": "display_data",
          "data": {
            "application/vnd.livy.statement-meta+json": {
              "spark_pool": "c8407576-5b92-4819-bbab-f6e8aab1d710",
              "session_id": "5",
              "statement_id": 31,
              "state": "cancelled",
              "livy_statement_state": "waiting",
              "queued_time": "2023-11-08T21:17:56.9081813Z",
              "session_start_time": null,
              "execution_start_time": "2023-11-08T21:17:57.044237Z",
              "execution_finish_time": "2023-11-08T21:24:06.9020525Z",
              "spark_jobs": {
                "numbers": {
                  "RUNNING": 1,
                  "SUCCEEDED": 0,
                  "FAILED": 0,
                  "UNKNOWN": 0
                },
                "jobs": [
                  {
                    "displayName": "parquet at NativeMethodAccessorImpl.java:0",
                    "dataWritten": 2949935243,
                    "dataRead": 48233187559,
                    "rowCount": 369972618,
                    "usageDescription": "",
                    "jobId": 10,
                    "name": "parquet at NativeMethodAccessorImpl.java:0",
                    "description": "Job group for statement 31:\n# Write the parquet files\nqCSmall_save.write.parquet(\"Users/Mjv38/fall-2023-reddit-project-team-21/data/filtered_parquets/questionsComments1.parquet\")\n# qSSmall_save.write.parquet(\"Users/Mjv38/data/filtered_parquets/questionsSubmissions.parquet\")\n# tsCSmall_save.write.parquet(\"Users/Mjv38/data/filtered_parquets/swiftComments.parquet\")\n# tsSSmall_save.write.parquet(\"Users/Mjv38/data/filtered_parquets/swiftSubmissions.parquet\")",
                    "submissionTime": "2023-11-08T21:17:57.300GMT",
                    "stageIds": [
                      10,
                      11
                    ],
                    "jobGroup": "31",
                    "status": "RUNNING",
                    "numTasks": 7429,
                    "numActiveTasks": 9,
                    "numCompletedTasks": 1325,
                    "numSkippedTasks": 0,
                    "numFailedTasks": 4,
                    "numKilledTasks": 0,
                    "numCompletedIndices": 1325,
                    "numActiveStages": 1,
                    "numCompletedStages": 0,
                    "numSkippedStages": 0,
                    "numFailedStages": 0,
                    "killedTasksSummary": {}
                  }
                ],
                "limit": 20,
                "rule": "ALL_DESC"
              },
              "parent_msg_id": "dd3d28f3-9bca-43b3-a10d-7889559f0404"
            },
            "text/plain": "StatementMeta(c8407576-5b92-4819-bbab-f6e8aab1d710, 5, 31, Cancelled, Waiting)"
          },
          "metadata": {}
        }
      ],
      "execution_count": 26,
      "metadata": {
        "jupyter": {
          "source_hidden": false,
          "outputs_hidden": false
        },
        "nteract": {
          "transient": {
            "deleting": false
          }
        },
        "gather": {
          "logged": 1699478644814
        }
      }
    },
    {
      "cell_type": "markdown",
      "source": [
        "### Saving intermediate data"
      ],
      "metadata": {
        "nteract": {
          "transient": {
            "deleting": false
          }
        }
      }
    },
    {
      "cell_type": "markdown",
      "source": [
        "The intermediate outputs go into the azureml workspace attached storage using the URI `azureml://datastores/workspaceblobstore/paths/<PATH-TO_STORE>` this is the same for all workspaces. Then to re-load you use the same URI"
      ],
      "metadata": {
        "nteract": {
          "transient": {
            "deleting": false
          }
        }
      }
    },
    {
      "cell_type": "code",
      "source": [
        "datastore = 'azureml://datastores/workspaceblobstore/paths'\n",
        "comments_single_df.write.parquet(f\"{datastore}/memes.parquet\")"
      ],
      "outputs": [
        {
          "output_type": "display_data",
          "data": {
            "application/vnd.livy.statement-meta+json": {
              "spark_pool": "cf47b043-0c98-4514-b15a-1e3237e3aed3",
              "session_id": "23",
              "statement_id": 13,
              "state": "finished",
              "livy_statement_state": "available",
              "queued_time": "2023-10-17T22:05:35.6813864Z",
              "session_start_time": null,
              "execution_start_time": "2023-10-17T22:05:35.7781388Z",
              "execution_finish_time": "2023-10-17T22:05:46.2845543Z",
              "spark_jobs": {
                "numbers": {
                  "RUNNING": 0,
                  "UNKNOWN": 0,
                  "SUCCEEDED": 1,
                  "FAILED": 0
                },
                "jobs": [
                  {
                    "displayName": "parquet at NativeMethodAccessorImpl.java:0",
                    "dataWritten": 17748445,
                    "dataRead": 10524944,
                    "rowCount": 194820,
                    "usageDescription": "",
                    "jobId": 2,
                    "name": "parquet at NativeMethodAccessorImpl.java:0",
                    "description": "Job group for statement 13:\ndatastore = 'azureml://datastores/workspaceblobstore/paths'\ncomments_single_df.write.parquet(f\"{datastore}/memes.parquet\")",
                    "submissionTime": "2023-10-17T22:05:37.990GMT",
                    "completionTime": "2023-10-17T22:05:44.762GMT",
                    "stageIds": [
                      2
                    ],
                    "jobGroup": "13",
                    "status": "SUCCEEDED",
                    "numTasks": 3,
                    "numActiveTasks": 0,
                    "numCompletedTasks": 3,
                    "numSkippedTasks": 0,
                    "numFailedTasks": 0,
                    "numKilledTasks": 0,
                    "numCompletedIndices": 3,
                    "numActiveStages": 0,
                    "numCompletedStages": 1,
                    "numSkippedStages": 0,
                    "numFailedStages": 0,
                    "killedTasksSummary": {}
                  }
                ],
                "limit": 20,
                "rule": "ALL_DESC"
              },
              "parent_msg_id": "aa685af2-ce8a-402c-95e5-cbf7983dc9b5"
            },
            "text/plain": "StatementMeta(cf47b043-0c98-4514-b15a-1e3237e3aed3, 23, 13, Finished, Available)"
          },
          "metadata": {}
        }
      ],
      "execution_count": 8,
      "metadata": {
        "jupyter": {
          "source_hidden": false,
          "outputs_hidden": false
        },
        "nteract": {
          "transient": {
            "deleting": false
          }
        },
        "gather": {
          "logged": 1697580345876
        }
      }
    },
    {
      "cell_type": "code",
      "source": [
        "comments_single_df_load = spark.read.parquet(f\"{datastore}/memes.parquet\")"
      ],
      "outputs": [
        {
          "output_type": "display_data",
          "data": {
            "application/vnd.livy.statement-meta+json": {
              "spark_pool": "cf47b043-0c98-4514-b15a-1e3237e3aed3",
              "session_id": "23",
              "statement_id": 14,
              "state": "finished",
              "livy_statement_state": "available",
              "queued_time": "2023-10-17T22:05:54.6649505Z",
              "session_start_time": null,
              "execution_start_time": "2023-10-17T22:05:54.7486292Z",
              "execution_finish_time": "2023-10-17T22:05:55.6580027Z",
              "spark_jobs": {
                "numbers": {
                  "RUNNING": 0,
                  "UNKNOWN": 0,
                  "SUCCEEDED": 1,
                  "FAILED": 0
                },
                "jobs": [
                  {
                    "displayName": "parquet at NativeMethodAccessorImpl.java:0",
                    "dataWritten": 0,
                    "dataRead": 0,
                    "rowCount": 0,
                    "usageDescription": "",
                    "jobId": 3,
                    "name": "parquet at NativeMethodAccessorImpl.java:0",
                    "description": "Job group for statement 14:\ncomments_single_df_load = spark.read.parquet(f\"{datastore}/memes.parquet\")",
                    "submissionTime": "2023-10-17T22:05:55.003GMT",
                    "completionTime": "2023-10-17T22:05:55.169GMT",
                    "stageIds": [
                      3
                    ],
                    "jobGroup": "14",
                    "status": "SUCCEEDED",
                    "numTasks": 1,
                    "numActiveTasks": 0,
                    "numCompletedTasks": 1,
                    "numSkippedTasks": 0,
                    "numFailedTasks": 0,
                    "numKilledTasks": 0,
                    "numCompletedIndices": 1,
                    "numActiveStages": 0,
                    "numCompletedStages": 1,
                    "numSkippedStages": 0,
                    "numFailedStages": 0,
                    "killedTasksSummary": {}
                  }
                ],
                "limit": 20,
                "rule": "ALL_DESC"
              },
              "parent_msg_id": "ae5df0ea-201a-47d5-9280-3abaa9359943"
            },
            "text/plain": "StatementMeta(cf47b043-0c98-4514-b15a-1e3237e3aed3, 23, 14, Finished, Available)"
          },
          "metadata": {}
        }
      ],
      "execution_count": 9,
      "metadata": {
        "jupyter": {
          "source_hidden": false,
          "outputs_hidden": false
        },
        "nteract": {
          "transient": {
            "deleting": false
          }
        },
        "gather": {
          "logged": 1697580355321
        }
      }
    },
    {
      "cell_type": "code",
      "source": [
        "print(f'data saved {comments_single_df.count()} - {len(comments_single_df.columns)}')\n",
        "print(f'data loaded {comments_single_df_load.count()} - {len(comments_single_df_load.columns)}')"
      ],
      "outputs": [
        {
          "output_type": "display_data",
          "data": {
            "application/vnd.livy.statement-meta+json": {
              "spark_pool": "cf47b043-0c98-4514-b15a-1e3237e3aed3",
              "session_id": "23",
              "statement_id": 16,
              "state": "finished",
              "livy_statement_state": "available",
              "queued_time": "2023-10-17T22:07:01.3574898Z",
              "session_start_time": null,
              "execution_start_time": "2023-10-17T22:07:01.4309527Z",
              "execution_finish_time": "2023-10-17T22:07:03.0792491Z",
              "spark_jobs": {
                "numbers": {
                  "RUNNING": 0,
                  "UNKNOWN": 0,
                  "SUCCEEDED": 4,
                  "FAILED": 0
                },
                "jobs": [
                  {
                    "displayName": "count at NativeMethodAccessorImpl.java:0",
                    "dataWritten": 0,
                    "dataRead": 339,
                    "rowCount": 6,
                    "usageDescription": "",
                    "jobId": 9,
                    "name": "count at NativeMethodAccessorImpl.java:0",
                    "description": "Job group for statement 16:\nprint(f'data saved {comments_single_df.count()} - {len(comments_single_df.columns)}')\nprint(f'data loaded {comments_single_df_load.count()} - {len(comments_single_df_load.columns)}')",
                    "submissionTime": "2023-10-17T22:07:02.523GMT",
                    "completionTime": "2023-10-17T22:07:02.588GMT",
                    "stageIds": [
                      12,
                      11
                    ],
                    "jobGroup": "16",
                    "status": "SUCCEEDED",
                    "numTasks": 7,
                    "numActiveTasks": 0,
                    "numCompletedTasks": 1,
                    "numSkippedTasks": 6,
                    "numFailedTasks": 0,
                    "numKilledTasks": 0,
                    "numCompletedIndices": 1,
                    "numActiveStages": 0,
                    "numCompletedStages": 1,
                    "numSkippedStages": 1,
                    "numFailedStages": 0,
                    "killedTasksSummary": {}
                  },
                  {
                    "displayName": "count at NativeMethodAccessorImpl.java:0",
                    "dataWritten": 339,
                    "dataRead": 24538,
                    "rowCount": 97416,
                    "usageDescription": "",
                    "jobId": 8,
                    "name": "count at NativeMethodAccessorImpl.java:0",
                    "description": "Job group for statement 16:\nprint(f'data saved {comments_single_df.count()} - {len(comments_single_df.columns)}')\nprint(f'data loaded {comments_single_df_load.count()} - {len(comments_single_df_load.columns)}')",
                    "submissionTime": "2023-10-17T22:07:02.223GMT",
                    "completionTime": "2023-10-17T22:07:02.489GMT",
                    "stageIds": [
                      10
                    ],
                    "jobGroup": "16",
                    "status": "SUCCEEDED",
                    "numTasks": 6,
                    "numActiveTasks": 0,
                    "numCompletedTasks": 6,
                    "numSkippedTasks": 0,
                    "numFailedTasks": 0,
                    "numKilledTasks": 0,
                    "numCompletedIndices": 6,
                    "numActiveStages": 0,
                    "numCompletedStages": 1,
                    "numSkippedStages": 0,
                    "numFailedStages": 0,
                    "killedTasksSummary": {}
                  },
                  {
                    "displayName": "count at NativeMethodAccessorImpl.java:0",
                    "dataWritten": 0,
                    "dataRead": 171,
                    "rowCount": 3,
                    "usageDescription": "",
                    "jobId": 7,
                    "name": "count at NativeMethodAccessorImpl.java:0",
                    "description": "Job group for statement 16:\nprint(f'data saved {comments_single_df.count()} - {len(comments_single_df.columns)}')\nprint(f'data loaded {comments_single_df_load.count()} - {len(comments_single_df_load.columns)}')",
                    "submissionTime": "2023-10-17T22:07:01.810GMT",
                    "completionTime": "2023-10-17T22:07:02.112GMT",
                    "stageIds": [
                      9,
                      8
                    ],
                    "jobGroup": "16",
                    "status": "SUCCEEDED",
                    "numTasks": 4,
                    "numActiveTasks": 0,
                    "numCompletedTasks": 1,
                    "numSkippedTasks": 3,
                    "numFailedTasks": 0,
                    "numKilledTasks": 0,
                    "numCompletedIndices": 1,
                    "numActiveStages": 0,
                    "numCompletedStages": 1,
                    "numSkippedStages": 1,
                    "numFailedStages": 0,
                    "killedTasksSummary": {}
                  },
                  {
                    "displayName": "count at NativeMethodAccessorImpl.java:0",
                    "dataWritten": 171,
                    "dataRead": 13410,
                    "rowCount": 97413,
                    "usageDescription": "",
                    "jobId": 6,
                    "name": "count at NativeMethodAccessorImpl.java:0",
                    "description": "Job group for statement 16:\nprint(f'data saved {comments_single_df.count()} - {len(comments_single_df.columns)}')\nprint(f'data loaded {comments_single_df_load.count()} - {len(comments_single_df_load.columns)}')",
                    "submissionTime": "2023-10-17T22:07:01.561GMT",
                    "completionTime": "2023-10-17T22:07:01.786GMT",
                    "stageIds": [
                      7
                    ],
                    "jobGroup": "16",
                    "status": "SUCCEEDED",
                    "numTasks": 3,
                    "numActiveTasks": 0,
                    "numCompletedTasks": 3,
                    "numSkippedTasks": 0,
                    "numFailedTasks": 0,
                    "numKilledTasks": 0,
                    "numCompletedIndices": 3,
                    "numActiveStages": 0,
                    "numCompletedStages": 1,
                    "numSkippedStages": 0,
                    "numFailedStages": 0,
                    "killedTasksSummary": {}
                  }
                ],
                "limit": 20,
                "rule": "ALL_DESC"
              },
              "parent_msg_id": "c2806702-852b-41a8-b3df-08be482ba189"
            },
            "text/plain": "StatementMeta(cf47b043-0c98-4514-b15a-1e3237e3aed3, 23, 16, Finished, Available)"
          },
          "metadata": {}
        },
        {
          "output_type": "stream",
          "name": "stdout",
          "text": "data saved 97410 - 21\ndata loaded 97410 - 21\n"
        }
      ],
      "execution_count": 11,
      "metadata": {
        "jupyter": {
          "source_hidden": false,
          "outputs_hidden": false
        },
        "nteract": {
          "transient": {
            "deleting": false
          }
        },
        "gather": {
          "logged": 1697580422738
        }
      }
    },
    {
      "cell_type": "code",
      "source": [],
      "outputs": [],
      "execution_count": null,
      "metadata": {
        "jupyter": {
          "source_hidden": false,
          "outputs_hidden": false
        },
        "nteract": {
          "transient": {
            "deleting": false
          }
        }
      }
    }
  ],
  "metadata": {
    "application/vnd.databricks.v1+notebook": {
      "dashboards": [],
      "language": "python",
      "notebookMetadata": {
        "pythonIndentUnit": 4
      },
      "notebookName": "Comments JSON to Parquet",
      "widgets": {}
    },
    "microsoft": {
      "ms_spell_check": {
        "ms_spell_check_language": "en"
      },
      "host": {
        "AzureML": {
          "notebookHasBeenCompleted": true
        }
      }
    },
    "language_info": {
      "name": "python",
      "version": "3.8.0",
      "mimetype": "text/x-python",
      "file_extension": ".py",
      "pygments_lexer": "ipython",
      "codemirror_mode": "ipython",
      "nbconvert_exporter": "python"
    },
    "kernelspec": {
      "name": "synapse_pyspark",
      "language": "Python",
      "display_name": "Synapse PySpark"
    },
    "kernel_info": {
      "name": "synapse_pyspark"
    },
    "nteract": {
      "version": "nteract-front-end@1.0.0"
    }
  },
  "nbformat": 4,
  "nbformat_minor": 0
}